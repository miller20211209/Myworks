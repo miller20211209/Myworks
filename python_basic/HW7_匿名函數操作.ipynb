{
 "cells": [
  {
   "cell_type": "markdown",
   "metadata": {},
   "source": [
    "題目:\n",
    "目前有一個 list, 內容為 \"apple\", \"banana\", \"watermelon\"\n",
    "請利用匿名函數於這些資料後面加上 !!!\n",
    "輸出為\n",
    "['apple!!!', 'banana!!!', 'papaya!!!', 'watermelon!!!']"
   ]
  },
  {
   "cell_type": "code",
   "execution_count": 4,
   "metadata": {},
   "outputs": [
    {
     "name": "stdout",
     "output_type": "stream",
     "text": [
      "new_list:  ['apple!!!', 'banana!!!', 'papaya!!!', 'watermelon!!!']\n"
     ]
    }
   ],
   "source": [
    "list1 = [\"apple\", \"banana\", \"papaya\", \"watermelon\"]\n",
    "new_list = map(lambda s: s+\"!!!\", list1)\n",
    "print(\"new_list: \", list(new_list))"
   ]
  }
 ],
 "metadata": {
  "interpreter": {
   "hash": "9f38e0b9433357a992867f754b2e9b386d498bed5ca3462d68cdbc43af86f9e4"
  },
  "kernelspec": {
   "display_name": "Python 3.9.9 64-bit (windows store)",
   "language": "python",
   "name": "python3"
  },
  "language_info": {
   "codemirror_mode": {
    "name": "ipython",
    "version": 3
   },
   "file_extension": ".py",
   "mimetype": "text/x-python",
   "name": "python",
   "nbconvert_exporter": "python",
   "pygments_lexer": "ipython3",
   "version": "3.9.9"
  },
  "orig_nbformat": 4
 },
 "nbformat": 4,
 "nbformat_minor": 2
}
