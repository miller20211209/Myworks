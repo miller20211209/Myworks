{
 "cells": [
  {
   "cell_type": "markdown",
   "metadata": {},
   "source": [
    "預告今天作品 : 開啟檔案計算各種資訊\n",
    "1. 請開啟 HW15__Data.csv, 開啟時加入參數 usecols = (x, y), 代表使用 index = x 與 index = y 的 column\n",
    "2. 請列出收盤價與成交量\n",
    "3. 加權平均代表以成交量作為權重\n",
    "\n",
    "收盤價最大值 199.83\n",
    "收盤價最小值 12.94\n",
    "收盤價平均數 46.79861864824865\n",
    "收盤價中位數 38.13\n",
    "收盤價加權平均 63.11373661448603"
   ]
  },
  {
   "cell_type": "code",
   "execution_count": 2,
   "metadata": {},
   "outputs": [
    {
     "name": "stdout",
     "output_type": "stream",
     "text": [
      "df => \n",
      "     Close    Volume\n",
      "0  104.08  70749800\n",
      "1  110.26  54967000\n",
      "2   96.80  79260700\n",
      "3   88.74  57763700\n",
      "4   89.79  78847900\n",
      "df.head() => \n",
      "     Close    Volume   Average\n",
      "0  104.08  70749800  0.088778\n",
      "1  110.26  54967000  0.073069\n",
      "2   96.80  79260700  0.092501\n",
      "3   88.74  57763700  0.061800\n",
      "4   89.79  78847900  0.085356\n",
      "------------\n",
      "收盤價最大值 => 199.83\n",
      "收盤價最小值 => 12.94\n",
      "收盤價平均值 => 46.79861864824865\n",
      "收盤價中位數 => 38.13\n",
      "收盤價加權平均 => 63.11373661448603\n",
      "------------\n"
     ]
    }
   ],
   "source": [
    "import pandas as pd\n",
    "\n",
    "stock = pd.read_csv(\"HW15__Data.csv\", usecols = ['Close', 'Volume'])\n",
    "df = pd.DataFrame(stock)\n",
    "# pd.set_option('display.max_rows', None)\n",
    "print(\"df => \\n\", df.head())\n",
    "\n",
    "df['Average'] = df['Close']*df['Volume']/df['Volume'].sum()\n",
    "print(\"df.head() => \\n\", df.head())\n",
    "print(\"------------\")\n",
    "\n",
    "print(\"收盤價最大值 =>\", df['Close'].max())\n",
    "print(\"收盤價最小值 =>\", df['Close'].min())\n",
    "print(\"收盤價平均值 =>\", df['Close'].mean())\n",
    "print(\"收盤價中位數 =>\", df['Close'].median())\n",
    "print(\"收盤價加權平均 =>\", df['Average'].sum())\n",
    "print(\"------------\")"
   ]
  }
 ],
 "metadata": {
  "interpreter": {
   "hash": "1a85667565197d9f1e56ba3831f3ed21adf05c42c551c9554019c73e59d7def2"
  },
  "kernelspec": {
   "display_name": "Python 3.9.9 64-bit",
   "language": "python",
   "name": "python3"
  },
  "language_info": {
   "codemirror_mode": {
    "name": "ipython",
    "version": 3
   },
   "file_extension": ".py",
   "mimetype": "text/x-python",
   "name": "python",
   "nbconvert_exporter": "python",
   "pygments_lexer": "ipython3",
   "version": "3.9.9"
  },
  "orig_nbformat": 4
 },
 "nbformat": 4,
 "nbformat_minor": 2
}
