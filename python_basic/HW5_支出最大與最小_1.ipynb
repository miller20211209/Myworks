{
 "cells": [
  {
   "cell_type": "code",
   "execution_count": null,
   "metadata": {},
   "outputs": [],
   "source": [
    "#HW5 支出最大與最大\n",
    "#輸入四個月的支出金額後, 列出最多與最少的支出金額, 由小到大排序\n",
    "\n",
    "#list1 = ['每月支出']    #宣告list初始值\n",
    "list1 = [] #設定空的list就可以了\n",
    "\n",
    "for i in range (4):\n",
    "    # i += 1\n",
    "    expenses = int(input(\"請輸入第 \"+ str(i+1) + \" 個月的支出金額: \"))\n",
    "    # i -= 1\n",
    "    #if i == 0:\n",
    "    #    list1[i] = expenses\n",
    "    #else:\n",
    "    list1.append(expenses)\n",
    "\n",
    "#list1.sort() 可以不用先排序\n",
    "\n",
    "print(\"支出最多的金額為第 %d 個月: \" %(list1.index(max(list1))+1) , max(list1))\n",
    "print(\"支出最多的金額為 max: \", max(list1))\n",
    "print(\"支出最少的金額為第 %d 個月: \" %(list1.index(min(list1))+1) , min(list1))\n",
    "print(\"支出最多的金額為 min: \", min(list1))\n",
    "print(\"支出的總額為: \", sum(list1))\n",
    "print(\"支出金額由小到大排序為: \", sorted(list1))"
   ]
  },
  {
   "cell_type": "code",
   "execution_count": 3,
   "metadata": {},
   "outputs": [
    {
     "name": "stdout",
     "output_type": "stream",
     "text": [
      "支出最多的金額為 list1[3]:  7000\n",
      "支出最多的金額為 max:  7000\n",
      "支出最少的金額為 list1[0]:  3500\n",
      "支出最多的金額為 min:  3500\n",
      "支出的總額為:  19500\n",
      "支出金額由小到大排序為:  [3500, 4000, 5000, 7000]\n"
     ]
    }
   ],
   "source": [
    "#HW5 支出最大與最大\n",
    "#輸入四個月的支出金額後, 列出最多與最少的支出金額, 由小到大排序\n",
    "\n",
    "list1 = ['每月支出']    #宣告list初始值\n",
    "\n",
    "for i in range (4):\n",
    "    # i += 1\n",
    "    expenses = int(input(\"請輸入第 \"+ str(i+1) + \" 個月的支出金額: \"))\n",
    "    # i -= 1\n",
    "    if i == 0:\n",
    "        list1[i] = expenses\n",
    "    else:\n",
    "        list1.append(expenses)\n",
    "\n",
    "list1.sort()\n",
    "\n",
    "print(\"支出最多的金額為 list1[3]: \", list1[3])\n",
    "print(\"支出最多的金額為 max: \", max(list1))\n",
    "print(\"支出最少的金額為 list1[0]: \", list1[0])\n",
    "print(\"支出最多的金額為 min: \", min(list1))\n",
    "print(\"支出的總額為: \", sum(list1))\n",
    "print(\"支出金額由小到大排序為: \", list1)"
   ]
  }
 ],
 "metadata": {
  "interpreter": {
   "hash": "9f38e0b9433357a992867f754b2e9b386d498bed5ca3462d68cdbc43af86f9e4"
  },
  "kernelspec": {
   "display_name": "Python 3.9.9 64-bit (windows store)",
   "language": "python",
   "name": "python3"
  },
  "language_info": {
   "codemirror_mode": {
    "name": "ipython",
    "version": 3
   },
   "file_extension": ".py",
   "mimetype": "text/x-python",
   "name": "python",
   "nbconvert_exporter": "python",
   "pygments_lexer": "ipython3",
   "version": "3.9.9"
  },
  "orig_nbformat": 4
 },
 "nbformat": 4,
 "nbformat_minor": 2
}
