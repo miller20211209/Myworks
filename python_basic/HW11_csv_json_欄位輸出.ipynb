{
 "cells": [
  {
   "cell_type": "markdown",
   "metadata": {},
   "source": [
    "HW11\n",
    "預告今天作業: 檔案存取\n",
    "1. 請至政府資料開放平台下載\n",
    "2. 澎湖縣西嶼鄉公所對民間團體補(捐)助經費明細表\n",
    "3. https://data.gov.tw/dataset/46131\n",
    "4. CSV 或 JSON 檔案\n",
    "5. 請讀取前三個 columns 資料\n",
    "\n",
    "# https://data.gov.tw/dataset/148689\n",
    "# 111年2月分析陳情焦點議題前十大-依機關類別\n",
    "# file_csv: 202202_Focus_TOP10.csv\n",
    "# file_json: 202202_Focus_TOP10.json"
   ]
  },
  {
   "cell_type": "code",
   "execution_count": null,
   "metadata": {},
   "outputs": [],
   "source": [
    "#HW11\n",
    "import csv\n",
    "\n",
    "f = open('202202_Focus_TOP10.csv', 'r', encoding = 'UTF-8-SIG')\n",
    "reader = csv.reader(f)\n",
    "\n",
    "ofile = open(\"result_data.csv\", \"w\", encoding = \"UTF-8\")\n",
    "\n",
    "writer = csv.writer(ofile, delimiter = \",\", quotechar = '\"')\n",
    "\n",
    "for row in reader:\n",
    "    print(row)\n",
    "    del row[0]\n",
    "    if row[0] != \"\":\n",
    "        writer.writerow(row)\n",
    "\n",
    "f.close()\n",
    "ofile.close()"
   ]
  },
  {
   "cell_type": "code",
   "execution_count": null,
   "metadata": {},
   "outputs": [],
   "source": [
    "#HW11.\n",
    "\n",
    "import json\n",
    "\n",
    "with open('202202_Focus_TOP10.json', encoding = \"UTF-8\") as json_file:\n",
    "    data = json.load(json_file)\n",
    "    # print(\"data\", data)\n",
    "\n",
    "    result = []\n",
    "\n",
    "    for dict1 in data:\n",
    "        del dict1[\"序號\"]\n",
    "        if dict1[\"機關\"] == \" \":\n",
    "            del dict1\n",
    "        else:\n",
    "            result.append(dict1)\n",
    "    \n",
    "    # print(\"result\", result)\n",
    "\n",
    "output = []\n",
    "title = [\"機關\", '陳情最多業務項目', '件數', '該業務占排名前十大百分比']\n",
    "output.append(title)\n",
    "\n",
    "for dict1 in result:\n",
    "    temp = []\n",
    "    # print(dict1, \"\\n\")\n",
    "    for key in dict1:\n",
    "        temp.append(dict1[key])\n",
    "    # print(temp)\n",
    "    if temp[0] != \"\":\n",
    "        output.append(temp)\n",
    "# print(output)\n",
    "\n",
    "ofile = open(\"result_json.csv\", \"w\", encoding = \"UTF-8\")\n",
    "\n",
    "writer = csv.writer(ofile, delimiter = \",\", quotechar = '\"')\n",
    "\n",
    "for row in output:\n",
    "    writer.writerow(row)\n",
    "    print(row)\n",
    "\n",
    "ofile.close()"
   ]
  }
 ],
 "metadata": {
  "language_info": {
   "name": "python"
  },
  "orig_nbformat": 4
 },
 "nbformat": 4,
 "nbformat_minor": 2
}
