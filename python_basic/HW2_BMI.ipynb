{
 "cells": [
  {
   "cell_type": "code",
   "execution_count": 3,
   "metadata": {},
   "outputs": [
    {
     "name": "stdout",
     "output_type": "stream",
     "text": [
      "your BMI is 25.53544639152223 您的體重過重\n"
     ]
    }
   ],
   "source": [
    "#BMI 計算後分析\n",
    "Height = float(input(\"請輸入身高, 單位為公分:\"))/100\n",
    "Weight = float(input(\"請輸入體重, 單位為公斤:\"))\n",
    "\n",
    "BMI = Weight / (Height**2)\n",
    "\n",
    "s1 = \"your BMI is\"\n",
    "s2 = \" \"+str(BMI)+\" \"\n",
    "s3 = \"您的體重\"\n",
    "\n",
    "status1 = \"肥胖\"\n",
    "status2 = \"過重\"\n",
    "status3 = \"正常\"\n",
    "status4 = \"太輕\"\n",
    "\n",
    "if BMI > 30:\n",
    "    print(s1+s2+s3+status1)\n",
    "elif 25<=BMI<=30:\n",
    "    print(s1+s2+s3+status2)\n",
    "elif 18.5<=BMI<=25:\n",
    "    print(s1+s2+s3+status3)\n",
    "else:\n",
    "    print(s1+s2+s3+status4)"
   ]
  }
 ],
 "metadata": {
  "interpreter": {
   "hash": "9f38e0b9433357a992867f754b2e9b386d498bed5ca3462d68cdbc43af86f9e4"
  },
  "kernelspec": {
   "display_name": "Python 3.9.9 64-bit (windows store)",
   "language": "python",
   "name": "python3"
  },
  "language_info": {
   "codemirror_mode": {
    "name": "ipython",
    "version": 3
   },
   "file_extension": ".py",
   "mimetype": "text/x-python",
   "name": "python",
   "nbconvert_exporter": "python",
   "pygments_lexer": "ipython3",
   "version": "3.9.9"
  },
  "orig_nbformat": 4
 },
 "nbformat": 4,
 "nbformat_minor": 2
}
