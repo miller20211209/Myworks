{
  "cells": [
    {
      "cell_type": "code",
      "execution_count": 13,
      "metadata": {
        "colab": {
          "base_uri": "https://localhost:8080/"
        },
        "id": "vV5VLV77Z5Tn",
        "outputId": "84d25081-295c-4c1c-d13f-6ec6008c8cd1"
      },
      "outputs": [
        {
          "output_type": "stream",
          "name": "stdout",
          "text": [
            "請輸入第 1 個月的支出金額: 100\n",
            "請輸入第 2 個月的支出金額: 300\n",
            "請輸入第 3 個月的支出金額: 400\n",
            "請輸入第 4 個月的支出金額: 200\n",
            "支出最多的金額為第 3 個月:  400\n",
            "支出最多的金額為 max:  400\n",
            "支出最少的金額為第 1 個月:  100\n",
            "支出最多的金額為 min:  100\n",
            "支出的總額為:  1000\n",
            "支出金額由小到大排序為:  [100, 200, 300, 400]\n"
          ]
        }
      ],
      "source": [
        "#HW5 支出最大與最大\n",
        "#輸入四個月的支出金額後, 列出最多與最少的支出金額, 由小到大排序\n",
        "\n",
        "#list1 = ['每月支出']    #宣告list初始值\n",
        "list1 = [] #設定空的list就可以了\n",
        "\n",
        "for i in range (4):\n",
        "    # i += 1\n",
        "    expenses = int(input(\"請輸入第 \"+ str(i+1) + \" 個月的支出金額: \"))\n",
        "    # i -= 1\n",
        "    #if i == 0:\n",
        "    #    list1[i] = expenses\n",
        "    #else:\n",
        "    list1.append(expenses)\n",
        "\n",
        "#list1.sort() 可以不用先排序\n",
        "\n",
        "print(\"支出最多的金額為第 %d 個月: \" %(list1.index(max(list1))+1) , max(list1))\n",
        "print(\"支出最多的金額為 max: \", max(list1))\n",
        "print(\"支出最少的金額為第 %d 個月: \" %(list1.index(min(list1))+1) , min(list1))\n",
        "print(\"支出最多的金額為 min: \", min(list1))\n",
        "print(\"支出的總額為: \", sum(list1))\n",
        "print(\"支出金額由小到大排序為: \", sorted(list1))"
      ]
    }
  ],
  "metadata": {
    "interpreter": {
      "hash": "9f38e0b9433357a992867f754b2e9b386d498bed5ca3462d68cdbc43af86f9e4"
    },
    "kernelspec": {
      "display_name": "Python 3.9.9 64-bit (windows store)",
      "language": "python",
      "name": "python3"
    },
    "language_info": {
      "codemirror_mode": {
        "name": "ipython",
        "version": 3
      },
      "file_extension": ".py",
      "mimetype": "text/x-python",
      "name": "python",
      "nbconvert_exporter": "python",
      "pygments_lexer": "ipython3",
      "version": "3.9.9"
    },
    "orig_nbformat": 4,
    "colab": {
      "name": "HW5_支出最大與最小.ipynb",
      "provenance": []
    }
  },
  "nbformat": 4,
  "nbformat_minor": 0
}