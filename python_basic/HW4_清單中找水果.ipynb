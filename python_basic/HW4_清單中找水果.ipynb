{
 "cells": [
  {
   "cell_type": "code",
   "execution_count": 3,
   "metadata": {},
   "outputs": [
    {
     "name": "stdout",
     "output_type": "stream",
     "text": [
      "水果清單: ['芒果']\n",
      "請輸入喜歡的水果(Enter 結束):  西瓜\n",
      "西瓜 不在list清單中!\n",
      "['芒果', '西瓜']\n",
      "木瓜 不在list清單中!\n",
      "['芒果', '西瓜', '木瓜']\n",
      "芒果 在list清單中的第1項\n",
      "結束找水果\n"
     ]
    }
   ],
   "source": [
    "#清單中找水果\n",
    "\n",
    "Fruit_list = ['芒果']\n",
    "#Fruit_list = ['芒果', '龍眼', '荔枝', '蓮霧', '火龍果']\n",
    "print(\"水果清單:\",Fruit_list)\n",
    "\n",
    "s1 = \"請輸入喜歡的水果(Enter 結束): \"\n",
    "s2 = \"不在list清單中!\"\n",
    "s3 = \"在list清單中的第x項\"\n",
    "\n",
    "love_fruit = input(s1)\n",
    "print(s1 + \" \" + love_fruit)\n",
    "flag = False\n",
    "\n",
    "while love_fruit != \"結束\":\n",
    "    for i in range(len(Fruit_list)):\n",
    "        if Fruit_list[i] == love_fruit:    #確認是否在水果清單\n",
    "            flag = True\n",
    "            break\n",
    "\n",
    "    if flag == True:    #有在水果清單\n",
    "        i+=1\n",
    "        s4 = love_fruit + \" \" + s3.replace(\"x\", str(i))\n",
    "        flag = False\n",
    "        print(s4)\n",
    "    else:    #沒有在水果清單,再將喜愛水果加上去\n",
    "        s4 = love_fruit + \" \" + s2\n",
    "        print(s4)\n",
    "        Fruit_list.append(love_fruit)\n",
    "        print(Fruit_list)\n",
    "        \n",
    "    love_fruit = input(s1)\n",
    "\n",
    "print(\"結束找水果\")\n",
    "           \n"
   ]
  }
 ],
 "metadata": {
  "interpreter": {
   "hash": "9f38e0b9433357a992867f754b2e9b386d498bed5ca3462d68cdbc43af86f9e4"
  },
  "kernelspec": {
   "display_name": "Python 3.9.9 64-bit (windows store)",
   "language": "python",
   "name": "python3"
  },
  "language_info": {
   "codemirror_mode": {
    "name": "ipython",
    "version": 3
   },
   "file_extension": ".py",
   "mimetype": "text/x-python",
   "name": "python",
   "nbconvert_exporter": "python",
   "pygments_lexer": "ipython3",
   "version": "3.9.9"
  },
  "orig_nbformat": 4
 },
 "nbformat": 4,
 "nbformat_minor": 2
}
