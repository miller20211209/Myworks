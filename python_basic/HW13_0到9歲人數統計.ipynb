{
 "cells": [
  {
   "cell_type": "markdown",
   "metadata": {},
   "source": [
    "預告今天作品: 人數統計\n",
    "1. 請到以下網頁下載澎湖縣西嶼鄉人口統計 csv 檔案:\n",
    "    https://data.gov.tw/dataset/85966\n",
    "2. 請計算出106與107年每個月0到9歲國小(含)之前的人數統計\n",
    "    106 1 國小(含)之前的人數: 573\n",
    "    106 2 國小(含)之前的人數: 569\n",
    "    106 3 國小(含)之前的人數: 572\n",
    "    106 4 國小(含)之前的人數: 560\n",
    "    106 5 國小(含)之前的人數: 570\n",
    "    106 6 國小(含)之前的人數: 577"
   ]
  },
  {
   "cell_type": "code",
   "execution_count": 1,
   "metadata": {},
   "outputs": [
    {
     "name": "stdout",
     "output_type": "stream",
     "text": [
      "106年 1月 國小(含)之前的人數: 573\n",
      "106年 2月 國小(含)之前的人數: 569\n",
      "106年 3月 國小(含)之前的人數: 572\n",
      "106年 4月 國小(含)之前的人數: 560\n",
      "106年 5月 國小(含)之前的人數: 570\n",
      "106年 6月 國小(含)之前的人數: 577\n",
      "106年 7月 國小(含)之前的人數: 583\n",
      "106年 8月 國小(含)之前的人數: 584\n",
      "106年 9月 國小(含)之前的人數: 582\n",
      "106年 10月 國小(含)之前的人數: 584\n",
      "106年 11月 國小(含)之前的人數: 583\n",
      "106年 12月 國小(含)之前的人數: 583\n",
      "107年 1月 國小(含)之前的人數: 590\n",
      "107年 2月 國小(含)之前的人數: 593\n",
      "107年 3月 國小(含)之前的人數: 584\n",
      "107年 4月 國小(含)之前的人數: 571\n",
      "107年 5月 國小(含)之前的人數: 565\n",
      "107年 6月 國小(含)之前的人數: 567\n",
      "107年 7月 國小(含)之前的人數: 568\n",
      "107年 8月 國小(含)之前的人數: 562\n",
      "107年 9月 國小(含)之前的人數: 559\n",
      "107年 10月 國小(含)之前的人數: 558\n",
      "107年 11月 國小(含)之前的人數: 551\n",
      "107年 12月 國小(含)之前的人數: 546\n",
      "108年 1月 國小(含)之前的人數: 543\n",
      "108年 2月 國小(含)之前的人數: 537\n"
     ]
    }
   ],
   "source": [
    "import numpy as np\n",
    "from numpy import genfromtxt\n",
    "\n",
    "a = genfromtxt('HW13__Data.csv', dtype = \"int\", delimiter=',', skip_header=1, encoding = 'utf-8-sig', unpack=True)\n",
    "# print(a)\n",
    "# print(a[0,:])   # 年\n",
    "# print(a[1,:])   # 月\n",
    "# print(a[3,:])   # 0-4歲人數\n",
    "# print(a[4,:])   # 5-9歲人數\n",
    "\n",
    "for i in range(len(a[0,:])):\n",
    "    print(\"%d年 %d月 國小(含)之前的人數: %d\" % (a[0,i], a[1,i], (a[3,i]+a[4,i])))\n"
   ]
  }
 ],
 "metadata": {
  "interpreter": {
   "hash": "d5ef3573275e42e6bdfe51d02bd189bcf028463693b84ca77996dcd1297dfe9e"
  },
  "kernelspec": {
   "display_name": "Python 3.9.9 64-bit",
   "language": "python",
   "name": "python3"
  },
  "language_info": {
   "codemirror_mode": {
    "name": "ipython",
    "version": 3
   },
   "file_extension": ".py",
   "mimetype": "text/x-python",
   "name": "python",
   "nbconvert_exporter": "python",
   "pygments_lexer": "ipython3",
   "version": "3.9.9"
  },
  "orig_nbformat": 4
 },
 "nbformat": 4,
 "nbformat_minor": 2
}
