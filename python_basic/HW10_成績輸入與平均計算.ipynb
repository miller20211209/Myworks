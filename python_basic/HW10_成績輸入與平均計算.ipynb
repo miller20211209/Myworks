{
 "cells": [
  {
   "cell_type": "markdown",
   "metadata": {},
   "source": [
    "成績輸入與平均計算\n",
    "設計一個學生類別, 可以輸入學生姓名與平均成績, 最後計算出這個班級的平均成績, 學生人數與科目數量可以自由設定, 沒有限制筆數"
   ]
  },
  {
   "cell_type": "code",
   "execution_count": 4,
   "metadata": {},
   "outputs": [
    {
     "name": "stdout",
     "output_type": "stream",
     "text": [
      "全班人數 0 人\n",
      "全班人數 1 人\n",
      "列印全班成績: \n",
      "學生姓名: ff, 科目成績: [40.0], 個人平均: 40.0, 個人成績等級: F\n",
      "全班平均: 40.0\n"
     ]
    }
   ],
   "source": [
    "class Student:\n",
    "    def __init__(self, name):\n",
    "        self.name = name\n",
    "        self.scores = []\n",
    "    def append_score(self, score):\n",
    "        self.scores.append(score)\n",
    "    def p_average(self):\n",
    "        return sum(self.scores)/len(self.scores)\n",
    "    def p_grade(self):\n",
    "        for value, grade in (90,\"A\"), (80,\"B\"), (70,\"C\"), (60,\"D\"), (50,\"E\"):\n",
    "            if (self.p_average() > value):\n",
    "                return grade\n",
    "        else:\n",
    "            return \"F\"\n",
    "\n",
    "def print_class(a_class):\n",
    "    print(\"列印全班成績: \")\n",
    "    for student in sorted(a_class, key=lambda s: s.name):\n",
    "        print(\"學生姓名: {}, 科目成績: {}, 個人平均: {}, 個人成績等級: {}\".format(student.name, student.scores, student.p_average(), student.p_grade()))\n",
    "    c_average = sum(student.p_average() for student in a_class)/len(a_class)\n",
    "    print(\"全班平均: {}\".format(c_average))\n",
    "\n",
    "SubjectsTotal = 5\n",
    "a_class = []\n",
    "\n",
    "while True:\n",
    "    print(\"全班人數 {} 人\".format(len(a_class)))\n",
    "    add_student = input(\"是否新增學生名單?? (y/n)\")\n",
    "    if add_student[0].lower() == \"n\":\n",
    "        break\n",
    "    elif add_student[0].lower() == \"y\":\n",
    "        student_name = input(\"請輸入學生姓名: \")\n",
    "        a_class.append(Student(student_name))\n",
    "        subjects_num = int(input(\"請輸入科目數量: \"))\n",
    "        if subjects_num > SubjectsTotal:\n",
    "            print(\"科目數量需小於 {}\".format(SubjectsTotal))\n",
    "        else:\n",
    "            for i in range (1, subjects_num+1):\n",
    "                score = float(input(\"共需輸入{}個科目成績, 請輸入科目 {} 成績\".format(subjects_num, i)))\n",
    "                a_class[-1].append_score(score)\n",
    "\n",
    "print_class(a_class)\n",
    "\n"
   ]
  }
 ],
 "metadata": {
  "interpreter": {
   "hash": "9f38e0b9433357a992867f754b2e9b386d498bed5ca3462d68cdbc43af86f9e4"
  },
  "kernelspec": {
   "display_name": "Python 3.9.9 64-bit (windows store)",
   "language": "python",
   "name": "python3"
  },
  "language_info": {
   "codemirror_mode": {
    "name": "ipython",
    "version": 3
   },
   "file_extension": ".py",
   "mimetype": "text/x-python",
   "name": "python",
   "nbconvert_exporter": "python",
   "pygments_lexer": "ipython3",
   "version": "3.9.9"
  },
  "orig_nbformat": 4
 },
 "nbformat": 4,
 "nbformat_minor": 2
}
