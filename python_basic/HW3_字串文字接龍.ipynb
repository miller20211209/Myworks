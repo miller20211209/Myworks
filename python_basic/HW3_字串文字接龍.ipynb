{
 "cells": [
  {
   "cell_type": "code",
   "execution_count": 5,
   "metadata": {},
   "outputs": [
    {
     "name": "stdout",
     "output_type": "stream",
     "text": [
      "上一個字串是 sales\n",
      "Last_str sales-ship\n",
      "上一個字串是 sales-ship\n",
      "Last_str sales-ship-pig\n",
      "上一個字串是 sales-ship-pig\n",
      "上一個字串是 sales-ship-pig\n",
      "上一個字串是 sales-ship-pig\n",
      "上一個字串是 sales-ship-pig\n",
      "上一個字串是 sales-ship-pig\n",
      "上一個字串是 sales-ship-pig\n",
      "5次錯誤, game over\n"
     ]
    }
   ],
   "source": [
    "#字串文字接龍 五次失敗就退出遊戲\n",
    "s1 = \"上一個字串是 \"\n",
    "s2 = \"請輸入x開始的字串:\"\n",
    "error_count = 0\n",
    "\n",
    "Last_str = input(\"請輸入一個字串 \")\n",
    "#print(\"Last_str end \"+Last_str[-1])    #debug\n",
    "while error_count < 5:\n",
    "    print(s1+Last_str)\n",
    "    s3 = \"-\"+Last_str[-1]+\"-\" #指定字元\n",
    "    #print(\"s3 \"+s3)    #debug\n",
    "    s4 = s2.replace(\"x\", s3)\n",
    "    #print(\"s4 \"+s4)    #debug\n",
    "    s5 = input(s4)\n",
    "    #print('s5 '+s5 +' s5 head '+s5[0])    #debug\n",
    "    if Last_str[-1] == s5[0]:\n",
    "        Last_str = Last_str +\"-\" + s5\n",
    "        print(\"Last_str \"+Last_str)\n",
    "    else:\n",
    "        error_count +=1\n",
    "\n",
    "print(\"5次錯誤, game over\")\n"
   ]
  }
 ],
 "metadata": {
  "interpreter": {
   "hash": "9f38e0b9433357a992867f754b2e9b386d498bed5ca3462d68cdbc43af86f9e4"
  },
  "kernelspec": {
   "display_name": "Python 3.9.9 64-bit (windows store)",
   "language": "python",
   "name": "python3"
  },
  "language_info": {
   "codemirror_mode": {
    "name": "ipython",
    "version": 3
   },
   "file_extension": ".py",
   "mimetype": "text/x-python",
   "name": "python",
   "nbconvert_exporter": "python",
   "pygments_lexer": "ipython3",
   "version": "3.9.9"
  },
  "orig_nbformat": 4
 },
 "nbformat": 4,
 "nbformat_minor": 2
}
