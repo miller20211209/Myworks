{
 "cells": [
  {
   "cell_type": "markdown",
   "metadata": {},
   "source": [
    "題目:\n",
    "設計錢包總金額為1000元, 如果購買商品總金額超過1000會引發一個金額不足的例外\n",
    "範例:\n",
    "消費項目: 手錶\n",
    "消費金額: 500\n",
    "目前消費全額: 500\n",
    "...."
   ]
  },
  {
   "cell_type": "code",
   "execution_count": 11,
   "metadata": {},
   "outputs": [
    {
     "name": "stdout",
     "output_type": "stream",
     "text": [
      "消費項目:  手機\n",
      "消費金額:  600\n",
      "目前消費總金額:  600\n",
      "----------------\n",
      "消費項目:  手錶\n",
      "消費金額:  300\n",
      "目前消費總金額:  900\n",
      "----------------\n",
      "消費項目:  西瓜\n",
      "消費金額:  100\n",
      "目前消費總金額:  1000\n",
      "----------------\n",
      "已經超支了\n",
      "{'預算': 0, '手機': 600, '手錶': 300, '西瓜': 100}\n",
      "結束\n"
     ]
    }
   ],
   "source": [
    "buget = 1000\n",
    "dict1 = {\"預算\":buget}\n",
    "\n",
    "while True:\n",
    "    item = input(\"消費項目: \")\n",
    "    expense = int(input(\"消費金額: \"))\n",
    "    buget -= expense\n",
    "    if buget < 0:\n",
    "        break\n",
    "    dict1[\"預算\"] = buget\n",
    "    add_dict = {item:expense}\n",
    "    dict1.update(add_dict)\n",
    "    print(\"消費項目: \", item)\n",
    "    print(\"消費金額: \", expense)\n",
    "    print(\"目前消費總金額: \", (1000-buget))\n",
    "    print(\"----------------\")\n",
    "        \n",
    "try:\n",
    "    raise ValueError(\"已經超支了\")\n",
    "\n",
    "except ValueError as ss:\n",
    "    print(ss)\n",
    "    print(dict1)\n",
    "\n",
    "finally:\n",
    "    print(\"結束\")"
   ]
  },
  {
   "cell_type": "code",
   "execution_count": 10,
   "metadata": {},
   "outputs": [
    {
     "name": "stdout",
     "output_type": "stream",
     "text": [
      "1000\n"
     ]
    }
   ],
   "source": [
    "print(1000)"
   ]
  }
 ],
 "metadata": {
  "interpreter": {
   "hash": "9f38e0b9433357a992867f754b2e9b386d498bed5ca3462d68cdbc43af86f9e4"
  },
  "kernelspec": {
   "display_name": "Python 3.9.9 64-bit (windows store)",
   "language": "python",
   "name": "python3"
  },
  "language_info": {
   "codemirror_mode": {
    "name": "ipython",
    "version": 3
   },
   "file_extension": ".py",
   "mimetype": "text/x-python",
   "name": "python",
   "nbconvert_exporter": "python",
   "pygments_lexer": "ipython3",
   "version": "3.9.9"
  },
  "orig_nbformat": 4
 },
 "nbformat": 4,
 "nbformat_minor": 2
}
