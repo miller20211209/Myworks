{
 "cells": [
  {
   "cell_type": "markdown",
   "metadata": {},
   "source": [
    "帳號管理系統\n",
    "1. 顯示所有帳號\n",
    "2. 查詢/修改/刪除帳號\n",
    "3. 增加新帳號\n",
    "4. 退出程式\n",
    "請輸入要執行的項目: 1\n",
    "\n",
    "帳號管理系統:\n",
    "1. 顯示所有帳號\n",
    "2. 查詢/修改/刪除帳號\n",
    "3. 增加新帳號\n",
    "4. 退出程式\n",
    "請輸入要執行的項目: 3\n",
    "請輸入新的帳號: user01\n",
    "請輸入新的密碼: 123456\n",
    "已成功增加帳號!!"
   ]
  },
  {
   "cell_type": "code",
   "execution_count": 16,
   "metadata": {},
   "outputs": [
    {
     "name": "stdout",
     "output_type": "stream",
     "text": [
      "1.顯示所有帳號\n",
      "2.查詢/修改/刪除帳號\n",
      "3.增加新帳號\n",
      "4.退出程式\n",
      "新增帳號:  aaa 新增密碼:  111\n",
      "新增帳號:  bbb 新增密碼:  222\n",
      "新增帳號:  ccc 新增密碼:  333\n",
      "顯示所有帳號: \n",
      "User Account:  aaa User Passwrd:  111\n",
      "User Account:  bbb User Passwrd:  222\n",
      "User Account:  ccc User Passwrd:  333\n",
      "所查詢的帳號: ccc 已存在\n",
      "選擇要執行的項目: n (不動作), m (修改 ), d (刪除)\n",
      "所查詢的帳號: ccc 已存在\n",
      "選擇要執行的項目: n (不動作), m (修改 ), d (刪除)\n",
      "修改前帳號:  ccc 修改前密碼:  333\n",
      "修改後帳號:  ddd 修改後密碼:  444\n",
      "顯示所有帳號: \n",
      "User Account:  aaa User Passwrd:  111\n",
      "User Account:  bbb User Passwrd:  222\n",
      "User Account:  ddd User Passwrd:  444\n",
      "所查詢的帳號: ddd 已存在\n",
      "選擇要執行的項目: n (不動作), m (修改 ), d (刪除)\n",
      "顯示所有帳號: \n",
      "User Account:  aaa User Passwrd:  111\n",
      "User Account:  bbb User Passwrd:  222\n"
     ]
    }
   ],
   "source": [
    "class Users:\n",
    "    def __init__(self, account, passwrd):\n",
    "        self.account = account\n",
    "        self.passwrd = passwrd\n",
    "\n",
    "    def userInfo(self):    #可查詢到的資訊\n",
    "        print(\"User Account: \", self.account, \"User Passwrd: \", self.passwrd)\n",
    "\n",
    "ObjectList = []    #使用者清單(物件清單)\n",
    "menu = [\"1.顯示所有帳號\", \"2.查詢/修改/刪除帳號\", \"3.增加新帳號\", \"4.退出程式\"]\n",
    "\n",
    "for item in menu:\n",
    "    print(item)\n",
    "\n",
    "while True:\n",
    "    item_num = input(\"請輸入項目號碼: \")\n",
    "    item_num = item_num.split(\".\")\n",
    "\n",
    "    if item_num[0] == \"1\" or item_num[0] == \"2\" or item_num[0] == \"3\" or item_num[0] == \"4\":\n",
    "        #顯示所有帳號\n",
    "        if int(item_num[0]) == 1:\n",
    "            print(\"顯示所有帳號: \")\n",
    "            for obj_name in ObjectList:\n",
    "                obj_name.userInfo()\n",
    "\n",
    "        #查詢/修改/刪除帳號\n",
    "        elif int(item_num[0]) == 2:\n",
    "            temp_acnt = input(\"請輸入要查詢的帳號: \")\n",
    "            for obj_name in ObjectList:\n",
    "                if (obj_name.account == temp_acnt):    #有相符的帳號, 帳號已存在\n",
    "                    print(\"所查詢的帳號: %s 已存在\"%(obj_name.account))\n",
    "                    print(\"選擇要執行的項目: n (不動作), m (修改 ), d (刪除)\")\n",
    "                    temp = input(\"請輸入: n, m or d; 其中 n 表示不動作, m 表示修改, d 表示刪除\")\n",
    "                    if temp == \"m\":    #修改\n",
    "                        #修改\n",
    "                        print(\"修改前帳號: \", obj_name.account, \"修改前密碼: \", obj_name.passwrd)\n",
    "                        modify_acnt = input(\"請輸入要修改的帳號: \")\n",
    "                        modify_pswd = input(\"請輸入要修改的密碼: \")\n",
    "                        obj_name.account = modify_acnt\n",
    "                        obj_name.passwrd = modify_pswd\n",
    "                        print(\"修改後帳號: \", obj_name.account, \"修改後密碼: \", obj_name.passwrd)\n",
    "                        break\n",
    "                    elif temp == \"d\":\n",
    "                        #刪除\n",
    "                        ObjectList.remove(obj_name)\n",
    "                        break\n",
    "                    else:    #不動作\n",
    "                        break\n",
    "    \n",
    "        # 增加新帳號\n",
    "        elif int(item_num[0]) == 3:\n",
    "            temp_acnt = input(\"請輸入新增帳號: \")\n",
    "            temp_pswd = input(\"請輸入密碼: \")\n",
    "            temp_obj = Users(temp_acnt, temp_pswd)\n",
    "            print(\"新增帳號: \", temp_obj.account, \"新增密碼: \", temp_obj.passwrd)\n",
    "            ObjectList.append(temp_obj)\n",
    "\n",
    "        # 退出程式\n",
    "        else:\n",
    "            break\n"
   ]
  },
  {
   "cell_type": "code",
   "execution_count": 9,
   "metadata": {},
   "outputs": [
    {
     "name": "stdout",
     "output_type": "stream",
     "text": [
      "所查詢的帳號: David 已存在\n"
     ]
    }
   ],
   "source": [
    "print(\"所查詢的帳號: %s 已存在\"%(\"David\"))\n"
   ]
  }
 ],
 "metadata": {
  "interpreter": {
   "hash": "9f38e0b9433357a992867f754b2e9b386d498bed5ca3462d68cdbc43af86f9e4"
  },
  "kernelspec": {
   "display_name": "Python 3.9.9 64-bit (windows store)",
   "language": "python",
   "name": "python3"
  },
  "language_info": {
   "codemirror_mode": {
    "name": "ipython",
    "version": 3
   },
   "file_extension": ".py",
   "mimetype": "text/x-python",
   "name": "python",
   "nbconvert_exporter": "python",
   "pygments_lexer": "ipython3",
   "version": "3.9.9"
  },
  "orig_nbformat": 4
 },
 "nbformat": 4,
 "nbformat_minor": 2
}
