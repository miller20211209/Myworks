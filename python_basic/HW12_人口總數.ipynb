{
 "cells": [
  {
   "cell_type": "markdown",
   "metadata": {},
   "source": [
    "預告今天作品: 人數統計\n",
    "1. 請到以下網頁查看\n",
    "    http://python2018.byethost10.com/class6.html\n",
    "\n",
    "2. 接著請你:\n",
    "    1. 利用迴圈跑出17個月各月的總人數\n",
    "    2. 計算17個月的人口平均值, 中位數, 最大值與最小值"
   ]
  },
  {
   "cell_type": "code",
   "execution_count": null,
   "metadata": {},
   "outputs": [],
   "source": [
    "# 從106年1月到107年5月每個月人口總數如下：\n",
    "# [8397. 8393. 8389. 8376. 8378. 8395. 8411. 8409. 8406. 8413. 8408. 8408. 8414. 8421. 8411. 8392. 8404.]\n",
    "# 資料也可以用以下方式表示：\n",
    "# [8397,8393,8389,8376,8378,8395,8411,8409.8406,8413,8408,8408,8414,8421,8411,8392,8404]\n",
    "\n",
    "import numpy as np\n",
    "# p_array = np.array([8397,8393,8389,8376,8378,8395,8411,8409.8406,8413,8408,8408,8414,8421,8411,8392,8404])\n",
    "p_array = np.array([8397,8393,8389,8376,8378,8395,8411,8409,8406,8413,8408,8408,8414,8421,8411,8392,8404])\n",
    "# print(p_array)\n",
    "# print(p_array.size)\n",
    "\n",
    "for i in range(17):\n",
    "    if i < 12:\n",
    "        print(\"106年%d月人口總數 => %d\" % (i+1, p_array[i]))\n",
    "    else:\n",
    "        print(\"107年%d月人口總數 => %d\" % (i-11, p_array[i]))\n",
    "\n",
    "print(\"這17個月的人口平均值 => %d\" % np.mean(p_array))\n",
    "print(\"這17個月的人口中位數 => %d\" % np.median(p_array))\n",
    "print(\"這17個月的人口最大值 => %d\" % np.max(p_array))\n",
    "print(\"這17個月的人口最小值 => %d\" % np.min(p_array))"
   ]
  }
 ],
 "metadata": {
  "interpreter": {
   "hash": "d5ef3573275e42e6bdfe51d02bd189bcf028463693b84ca77996dcd1297dfe9e"
  },
  "kernelspec": {
   "display_name": "Python 3.9.9 64-bit",
   "language": "python",
   "name": "python3"
  },
  "language_info": {
   "name": "python",
   "version": "3.9.9"
  },
  "orig_nbformat": 4
 },
 "nbformat": 4,
 "nbformat_minor": 2
}
