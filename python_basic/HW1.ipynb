{
 "cells": [
  {
   "cell_type": "code",
   "execution_count": 3,
   "metadata": {},
   "outputs": [
    {
     "name": "stdout",
     "output_type": "stream",
     "text": [
      "巨匠電腦你好!,我現在上課的課程是:Python AI 入門\n",
      "我心情很好,所以等一下要說三次\n",
      "這課程讓我很開心,我會努力的!這課程讓我很開心,我會努力的!這課程讓我很開心,我會努力的!\n"
     ]
    }
   ],
   "source": [
    "print('巨匠電腦你好!,\\\n",
    "我現在上課的課程是:Python AI 入門')\n",
    "print('我心情很好,所以等一下要說三次')\n",
    "print('這課程讓我很開心,我會努力的!'*3)"
   ]
  }
 ],
 "metadata": {
  "interpreter": {
   "hash": "9f38e0b9433357a992867f754b2e9b386d498bed5ca3462d68cdbc43af86f9e4"
  },
  "kernelspec": {
   "display_name": "Python 3.9.9 64-bit (windows store)",
   "language": "python",
   "name": "python3"
  },
  "language_info": {
   "codemirror_mode": {
    "name": "ipython",
    "version": 3
   },
   "file_extension": ".py",
   "mimetype": "text/x-python",
   "name": "python",
   "nbconvert_exporter": "python",
   "pygments_lexer": "ipython3",
   "version": "3.9.9"
  },
  "orig_nbformat": 4
 },
 "nbformat": 4,
 "nbformat_minor": 2
}
