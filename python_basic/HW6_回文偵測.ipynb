{
 "cells": [
  {
   "cell_type": "markdown",
   "metadata": {},
   "source": [
    "回文偵測\n",
    "1. 輸入多個字串為一個list清單\n",
    "2. list清單的每一個資料進行分析, 判斷是否為回文. 所謂回文, 試紙從頭到尾與從尾到頭都是一樣的內容, 例如, 1221\n",
    "3. 取出字串若為x, 分析比較的對象為 \"\".join(reversed(x))"
   ]
  },
  {
   "cell_type": "code",
   "execution_count": 3,
   "metadata": {},
   "outputs": [
    {
     "name": "stdout",
     "output_type": "stream",
     "text": [
      "顯示清單內容:\n",
      "['1221', 'abba', 'cddc', '1234', '876', '9876']\n",
      "符合回文的字串為: \n",
      "['1221', 'abba', 'cddc']\n"
     ]
    }
   ],
   "source": [
    "#回文偵測\n",
    "\n",
    "i=0\n",
    "list1 = [0]\n",
    "str1 = input(\"請輸入字串, 當您輸入 0 就代表結束: \")\n",
    "\n",
    "while str1 != str(0):\n",
    "    if i == 0:\n",
    "        list1[i] = str1\n",
    "    else:\n",
    "        list1.append(str1)\n",
    "    i+=1\n",
    "    str1 = input(\"請輸入字串, 當您輸入 0 就代表結束: \")\n",
    "\n",
    "print(\"顯示清單內容:\")\n",
    "print(list1)\n",
    "\n",
    "i=0\n",
    "list2 =[0]\n",
    "for str2 in list1:\n",
    "    str3 = str2[::-1]\n",
    "    if str2 == str3:\n",
    "        if i == 0:\n",
    "            list2[i] = str2\n",
    "        else:\n",
    "            list2.append(str2)\n",
    "        i+=1\n",
    "\n",
    "print(\"符合回文的字串為: \")\n",
    "print(list2)\n",
    "\n",
    "\n",
    "\n",
    "\n",
    "        \n",
    "\n"
   ]
  }
 ],
 "metadata": {
  "interpreter": {
   "hash": "9f38e0b9433357a992867f754b2e9b386d498bed5ca3462d68cdbc43af86f9e4"
  },
  "kernelspec": {
   "display_name": "Python 3.9.9 64-bit (windows store)",
   "language": "python",
   "name": "python3"
  },
  "language_info": {
   "codemirror_mode": {
    "name": "ipython",
    "version": 3
   },
   "file_extension": ".py",
   "mimetype": "text/x-python",
   "name": "python",
   "nbconvert_exporter": "python",
   "pygments_lexer": "ipython3",
   "version": "3.9.9"
  },
  "orig_nbformat": 4
 },
 "nbformat": 4,
 "nbformat_minor": 2
}
