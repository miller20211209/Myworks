{
 "cells": [
  {
   "cell_type": "markdown",
   "metadata": {},
   "source": [
    "a001: 哈囉\n",
    "內容:\n",
    "學習所有程式語言的第一個練習題 \n",
    "請寫一個程式，可以讀入指定的字串，並且輸出指定的字串。\n",
    "\n",
    "比如：輸入字串 \"world\", 則請輸出 \"hello, world\""
   ]
  },
  {
   "cell_type": "code",
   "execution_count": 2,
   "metadata": {},
   "outputs": [
    {
     "name": "stdout",
     "output_type": "stream",
     "text": [
      "hello, world\n"
     ]
    }
   ],
   "source": [
    "input_s = input()\n",
    "print(\"hello, {}\".format(input_s))"
   ]
  },
  {
   "cell_type": "markdown",
   "metadata": {},
   "source": [
    "a002: 簡易加法\n",
    "內容:\n",
    "請寫一個程式，讀入兩個數字，並求出它們的和。\n",
    "\n",
    "輸入說明:\n",
    "每組輸入共一行，內含有兩個整數 a, b，以空白隔開，a, b絕對值皆小於 106。\n",
    "\n",
    "輸出說明:\n",
    "對於每組輸入，輸出該兩整數的和。"
   ]
  },
  {
   "cell_type": "code",
   "execution_count": 5,
   "metadata": {},
   "outputs": [
    {
     "name": "stdout",
     "output_type": "stream",
     "text": [
      "13\n"
     ]
    }
   ],
   "source": [
    "string_s = input().split(\" \")\n",
    "print(sum(int(i) for i in string_s))"
   ]
  },
  {
   "cell_type": "markdown",
   "metadata": {},
   "source": [
    "a003: 兩光法師占卜術\n",
    "內容:\n",
    "兩光法師時常替人占卜，由於他算得又快有便宜，因此生意源源不絕，時常大排長龍，他想算 得更快一點，因此找了你這位電腦高手幫他用電腦來加快算命的速度。\n",
    "\n",
    "　　他的占卜規則很簡單，規則是這樣的，輸入一個日期，然後依照下面的公式：\n",
    "\n",
    "M=月\n",
    "D=日\n",
    "S=(M*2+D)%3\n",
    "\n",
    "得到 S 的值，再依照 S 的值從 0 到 2 分別給與 普通、吉、大吉 等三種不同的運勢\n",
    "\n",
    "輸入說明:\n",
    "輸入資料共一行，包含兩個整數，分別為月份及日期\n",
    "\n",
    "輸出說明:\n",
    "運勢"
   ]
  },
  {
   "cell_type": "code",
   "execution_count": 6,
   "metadata": {},
   "outputs": [
    {
     "name": "stdout",
     "output_type": "stream",
     "text": [
      "吉\n"
     ]
    }
   ],
   "source": [
    "date = input().split(\" \")\n",
    "s = (2*int(date[0])+int(date[1]))%3\n",
    "if s == 0:\n",
    "    print(\"普通\")\n",
    "elif s == 1:\n",
    "    print(\"吉\")\n",
    "else:\n",
    "    print(\"大吉\")"
   ]
  },
  {
   "cell_type": "markdown",
   "metadata": {},
   "source": [
    "a004: 文文的求婚\n",
    "內容:\n",
    "文文為即將出國的珊珊送行，由於珊珊不喜歡別人給文文的那個綽號，意思就是嘲笑文文不夠 聰明，但珊珊沒把握那個綽號是不是事實，所以珊珊決定考驗文文，於是告訴文文說，如果你能在 我回國之前回答我生日那年是不是閏年，則等她回國後就答應他的求婚。文文抓抓腦袋想不出來， 於是決定讓最擅長做運算的電腦來幫忙。\n",
    "\n",
    "輸入說明:\n",
    "輸入有若干行直到 EOF 結束，每行包含一個整數代表年份\n",
    "\n",
    "輸出說明:\n",
    "閏年 或 平年"
   ]
  },
  {
   "cell_type": "code",
   "execution_count": 8,
   "metadata": {},
   "outputs": [
    {
     "name": "stdout",
     "output_type": "stream",
     "text": [
      "平年\n",
      "平年\n",
      "閏年\n",
      "平年\n"
     ]
    }
   ],
   "source": [
    "while True:\n",
    "    try:\n",
    "        x = int(input())\n",
    "    except:\n",
    "        break\n",
    "    \n",
    "    year = \"平年\"\n",
    "    if x%4 == 0:\n",
    "        year = \"閏年\"\n",
    "    if x%100 == 0:\n",
    "        year = \"平年\"\n",
    "    if x%400 == 0:\n",
    "        year = \"閏年\"\n",
    "\n",
    "    print(year)"
   ]
  },
  {
   "cell_type": "markdown",
   "metadata": {},
   "source": [
    "a005: Eva 的回家作業\n",
    "內容:\n",
    "Eva的家庭作業裏有很多數列填空練習。填空練習的要求是：已知數列的前四項，填出第五項。因 為已經知道這些數列只可能是等差或等比數列，她決定寫一個程式來完成這些練習。\n",
    "輸入說明:\n",
    "第一行是數列的數目t（0 <= t <= 20）。 以下每行均包含四個整數，表示數列的前四項。 約定數列的前五項均為不大於105的自然數，等比數列的比值也是自然數。\n",
    "輸出說明:\n",
    "對輸入的每個數列，輸出它的前五項。"
   ]
  },
  {
   "cell_type": "code",
   "execution_count": 25,
   "metadata": {},
   "outputs": [
    {
     "name": "stdout",
     "output_type": "stream",
     "text": [
      "1 3 5 7 9\n"
     ]
    }
   ],
   "source": [
    "#把list字串列表轉換為整數\n",
    "\n",
    "t = int(input())\n",
    "for i in range(t):\n",
    "    list_1 = list(map(lambda i: int(i), input().split(\" \")))    #把list字串列表轉換為整數    #把輸入字串轉為list整數列表\n",
    "\n",
    "    # list_1 = [int(i) for i in input().split(\" \")]    #把list字串列表轉換為整數    #把輸入字串轉為list整數列表\n",
    "    if (list_1[-1]-list_1[-2]) == (list_1[1]-list_1[0]):\n",
    "        list_1.append(list_1[-1]+list_1[-1]-list_1[-2])\n",
    "        # list_2.append(int(list_2[-1]*list_2[-1]/list_2[-2]))\n",
    "    elif (list_1[-1]/list_1[-2]) == (list_1[1]/list_1[0]):\n",
    "        list_1.append(int(list_1[-1]*list_1[-1]/list_1[-2]))\n",
    "\n",
    "    list_1 = list(map(lambda i: str(i), list_1))\n",
    "    # list_2 = list(map(lambda i: str(i), list_2))\n",
    "\n",
    "    # list_1 = [str(i) for i in list_1]    #把list數字列表轉換為字串\n",
    "    # list_2 = [str(i) for i in list_2]    #把list數字列表轉換為字串\n",
    "\n",
    "    s1 = \" \".join(list_1)\n",
    "    # s2 = \" \".join(list_2)\n",
    "\n",
    "    print(s1)\n",
    "    "
   ]
  },
  {
   "cell_type": "markdown",
   "metadata": {},
   "source": [
    "a006: 一元二次方程式\n",
    "內容:\n",
    "求一元二次方程式 ax2+bx+c=0 的根\n",
    "輸入說明:\n",
    "每組輸入共一行，內含三個整數 a, b, c 以空白隔開。\n",
    "輸出說明:\n",
    "Two different roots x1=?? , x2=??\n",
    "\n",
    "Two same roots x=??\n",
    "\n",
    "No real root\n",
    "\n",
    "PS: 答案均為整數，若有兩個根則大者在前"
   ]
  },
  {
   "cell_type": "code",
   "execution_count": 33,
   "metadata": {},
   "outputs": [
    {
     "name": "stdout",
     "output_type": "stream",
     "text": [
      "Two different roots x1=2, x2=-5\n"
     ]
    }
   ],
   "source": [
    "import math\n",
    "\n",
    "eq = [int(i) for i in input().split(\" \")]     #把list字串列表轉換為整數    #把輸入字串轉為list整數列表\n",
    "# eq = list(map(lambda i: int(i), input().split(\" \")))\n",
    "# a, b, c = map(int, input().split(\" \"))    #拆分書入的字串, 轉換成數字, 提供給變數 a, b, c\n",
    "\n",
    "if (eq[0] > 0):\n",
    "    judge = eq[1]**2 - 4*eq[0]*eq[2]\n",
    "\n",
    "    if judge < 0:\n",
    "        print(\"no real root\")\n",
    "    elif judge == 0:\n",
    "        x1 = int(-eq[1]/2/eq[0])\n",
    "        x2 = x1\n",
    "        print(\"Two same roots x={}\".format(x1))\n",
    "    elif judge > 0:\n",
    "        x1 = int((-eq[1] + math.sqrt(judge))/2/eq[0])\n",
    "        x2 = int((-eq[1] - math.sqrt(judge))/2/eq[0])\n",
    "        print(\"Two different roots x1={}, x2={}\".format(x1, x2))\n"
   ]
  },
  {
   "cell_type": "markdown",
   "metadata": {},
   "source": [
    "a009: 解碼器\n",
    "內容:\n",
    "在密碼學裡面有一種很簡單的加密方式，就是把明碼的每個字元加上某一個整數K而得到密碼的字元（明碼及密碼字元一定都在ASCII碼中可列印的範圍內）。例如若K=2，那麼apple經過加密後就變成crrng了。解密則是反過來做。這個問題是給你一個密碼字串，請你依照上述的解密方式輸出明碼。\n",
    "\n",
    "至於在本任務中K到底是多少，請自行參照Sample Input及Sample Output推出來吧！相當簡單的。\n",
    "\n",
    "輸入說明:\n",
    "輸入共一行，每行含有1個字串，就是需要解密的明碼。\n",
    "輸出說明:\n",
    "對每一測試資料，請輸出解密後的密碼。\n",
    "\n",
    "範例輸入 #1:\n",
    "1JKJ'pz'{ol'{yhklthyr'vm'{ol'Jvu{yvs'Kh{h'Jvywvyh{pvu5\n",
    "範例輸出 #1:\n",
    "*CDC is the trademark of the Control Data Corporation.\n",
    "\n",
    "範例輸入 #2:\n",
    "1PIT'pz'h'{yhklthyr'vm'{ol'Pu{lyuh{pvuhs'I|zpulzz'Thjopul'Jvywvyh{pvu5\n",
    "範例輸出 #2:\n",
    "*IBM is a trademark of the International Business Machine Corporation.\n"
   ]
  },
  {
   "cell_type": "code",
   "execution_count": 13,
   "metadata": {},
   "outputs": [
    {
     "name": "stdout",
     "output_type": "stream",
     "text": [
      "*IBM is a trademark of the International Business Machine Corporation.\n"
     ]
    }
   ],
   "source": [
    "s_in_1 = \"1JKJ'pz'{ol'{yhklthyr'vm'{ol'Jvu{yvs'Kh{h'Jvywvyh{pvu5\"\n",
    "s_out_1 = \"*CDC is the trademark of the Control Data Corporation.\"\n",
    "# s_in = \"1PIT'pz'h'{yhklthyr'vm'{ol'Pu{lyuh{pvuhs'I|zpulzz'Thjopul'Jvywvyh{pvu5\"\n",
    "s_out = \"\"\n",
    "\n",
    "# for i in range(len(s_in_1)):\n",
    "#     k = ord(s_out_1[i])-ord(s_in_1[i])\n",
    "k = ord(s_out_1[0]) - ord(s_in_1[0])\n",
    "    # print(k, end=\"\")\n",
    "# print(k)\n",
    "s_in = input()\n",
    "\n",
    "for i in range(len(s_in)):\n",
    "    s = chr(ord(s_in[i])+k)\n",
    "    s_out += s\n",
    "print(s_out)"
   ]
  },
  {
   "cell_type": "markdown",
   "metadata": {},
   "source": [
    "a010: 因數分解\n",
    "內容:\n",
    "各位在國小時都學過因數分解，都瞭解怎麼樣用紙筆計算出結果，現在由你來敎電腦做因數分解。\n",
    "因數分解就是把一個數字，切分為數個質數的乘積，如 12=2^2 * 3\n",
    "其中, 次方的符號以 ^ 來表示\n",
    "\n",
    "輸入說明:\n",
    "輸入共一行。每行包含一個整數，符合 大於1 且 小於等於 100000000\n",
    "輸出說明:\n",
    "針對每一行輸入整數輸出一個因數分解字串\n",
    "\n",
    "https://mlln.cn/2018/05/19/python3%20f-string%E6%A0%BC%E5%BC%8F%E5%8C%96%E5%AD%97%E7%AC%A6%E4%B8%B2%E7%9A%84%E9%AB%98%E7%BA%A7%E7%94%A8%E6%B3%95/\n",
    "从Python 3.6开始，f-string是格式化字符串的一种很好的新方法。与其他格式化方式相比，它们不仅更易读，更简洁，不易出错，而且速度更快！\n",
    "在本文的最后，您将了解如何以及为什么今天开始使用f-string(后文称为F字符串)\n",
    "\n",
    "f'{....}{...}' 有 print('....')及 print('..{}..'.format(...)) 的效果, 除此之外, 還可以用變數指定 f'{....}{...}', 達到表達式運算的目的\n"
   ]
  },
  {
   "cell_type": "code",
   "execution_count": 33,
   "metadata": {},
   "outputs": [
    {
     "name": "stdout",
     "output_type": "stream",
     "text": [
      "{2: 2, 3: 2, 5: 1, 11: 1}\n",
      "dict_keys([2, 3, 5, 11])\n",
      "1980=2^2 * 3^2 * 5 * 11 \n"
     ]
    },
    {
     "data": {
      "text/plain": [
       "'1980=2^2 * 3^2 * 5 * 11 '"
      ]
     },
     "execution_count": 33,
     "metadata": {},
     "output_type": "execute_result"
    }
   ],
   "source": [
    "num = int(input())\n",
    "num_ite = num\n",
    "result = {}\n",
    "\n",
    "while True:\n",
    "    for i in range(2, num_ite+1):\n",
    "        if num_ite%i == 0:\n",
    "            if (i in result.keys()) == True:\n",
    "                result[i] = result[i] + 1\n",
    "            else:\n",
    "                result[i] = 1\n",
    "            num_ite = num_ite//i\n",
    "            break\n",
    "    if num_ite == 1:\n",
    "        break\n",
    "\n",
    "print(result)\n",
    "\n",
    "output = \"\"\n",
    "print(result.keys())\n",
    "\n",
    "for key in result.keys():    #f-string在本質上並不是字串常數，而是一個在執行時運算求值的表達式\n",
    "    if result[key] != 1:\n",
    "        output = f'{output}{key}^{result[key]} * '    #次方放進來\n",
    "    else:\n",
    "        output = f'{output}{key} * '\n",
    "        \n",
    "output = output[:-2]    #去除結尾 * 及 空白\n",
    "print(\"{}={}\".format(num, output))\n",
    "f'{num}={output}'    #印出來, 會多引號\n"
   ]
  },
  {
   "cell_type": "markdown",
   "metadata": {},
   "source": [
    "a013: 羅馬數字\n",
    "內容:\n",
    "如果生活在數世紀之前的古羅馬，你應該用過 V 來表示五。V 和 5 這兩個符號都可以用來表示數目五。用來表示數目的符號稱作數字。而羅馬人用來表示數目的符號就是羅馬數字。\n",
    "\n",
    "以下是七個基本的羅馬數字︰\n",
    "羅馬數字\t數目\n",
    "I\t1\n",
    "IV  4\n",
    "V\t5\n",
    "IX  9\n",
    "X\t10\n",
    "XL  40\n",
    "L\t50\n",
    "XC  90\n",
    "C\t100\n",
    "CD  400\n",
    "D\t500\n",
    "CM  900\n",
    "M\t1,000\n",
    "所有其他的數目都是由這些數字組合而成。數目都是由左寫到右，通常值是等於組成的羅馬數字加起來。\n",
    "\n",
    "例如十七可以表示為\n",
    "X+V+I+I=XVII\n",
    "10+5+1+1=17\n",
    "表示羅馬數字可以使用減法來取代加法的規則。例如四可以不用四個一相加來表示 IIII，而採用五減一來表示 IV。利用這類規則，羅馬人能夠減化許多數目的表示方式，例如 IX 取代 VIIII 表示 9，及 CD 取代 CCCC 表示 400。\n",
    "\n",
    "今日我們並不確定羅馬符號的起源為何。例如符號 V 的起源主要有兩個理論。有些學者認為五最早是用握拳、拇指在外的手勢來表示。最後以象形文字書寫而簡化為 V。\n",
    "\n",
    "另一個理論認為 X 源自在 10 條線加上交叉線。因此五可以表示為 X 的一半，或是 V。\n",
    "\n",
    "羅馬數字可以很容易地用來相加或相減，但算起乘除法就相當不順手。這就是為什麼現在羅馬數字並不常用的原因了。\n",
    "\n",
    "輸入說明:\n",
    "每個輸入檔中會有一個或以上的測試資料。每一行由兩個數字組成一筆測試資料，且所有數字將會小於4,000。檔案最後會以符號 # 表示結束。\n",
    "輸出說明:\n",
    "每筆測試資料的答案必須輸出到檔案中，並且換行。如果答案為零，則須輸出字串 ZERO。"
   ]
  },
  {
   "cell_type": "code",
   "execution_count": 60,
   "metadata": {},
   "outputs": [
    {
     "name": "stdout",
     "output_type": "stream",
     "text": [
      "MCMXCVII\n"
     ]
    }
   ],
   "source": [
    "def Rome2Num(s):\n",
    "    Rome2Num_dict = {\"M\":1000,  \"D\":500,  \"C\":100,  \"L\":50,  \"X\":10,  \"V\":5, \"I\":1}\n",
    "    num = 0\n",
    "    key = Rome2Num_dict.keys()\n",
    "    for i in range(len(s)):\n",
    "        for j in key:\n",
    "            if s[i] == j:\n",
    "                num = num + Rome2Num_dict[j]\n",
    "    return num\n",
    "\n",
    "def Num2Rome(num):\n",
    "    Num2Rome_dict = {1000:\"M\", 900:'CM', 500:\"D\", 400:'CD', 100:\"C\", 90:'XC', 50:\"L\", 40:'XL', 10:\"X\", 9:'IX', 5:\"V\", 4:'IV', 1:\"I\"}\n",
    "    s = \"\"\n",
    "    key = Num2Rome_dict.keys()\n",
    "    while True:\n",
    "        for i in key:\n",
    "            if num >= i:\n",
    "                s = s + Num2Rome_dict[i]\n",
    "                num = num - i\n",
    "                break\n",
    "        else:\n",
    "            break\n",
    "    return s\n",
    "\n",
    "while True:\n",
    "    try:\n",
    "        s1, s2 = input().split(\" \")\n",
    "        diff_num = abs(Rome2Num(s1) - Rome2Num(s2))\n",
    "\n",
    "        if diff_num == 0:\n",
    "            print(\"ZERO\")\n",
    "        else:\n",
    "            print(Num2Rome(diff_num))\n",
    "    except:\n",
    "        break\n"
   ]
  },
  {
   "cell_type": "markdown",
   "metadata": {},
   "source": [
    "a015: 矩陣的翻轉\n",
    "內容:\n",
    "已知一(m x n)矩陣A，我們常常需要用到另一個將A中之行與列調換的矩陣。這個動作叫做矩陣的翻轉。\n",
    "\n",
    "輸入說明:\n",
    "第一行會有兩個數字，分別為 列(row)<100 和 行(column)<100，緊接著就是這個矩陣的內容\n",
    "輸出說明:\n",
    "直接輸出翻轉後的矩陣\n",
    "\n",
    "範例輸入 #1\n",
    "2 3\n",
    "3 1 2\n",
    "8 5 4\n",
    "\n",
    "範例輸出 #1\n",
    "3 8\n",
    "1 5\n",
    "2 4"
   ]
  },
  {
   "cell_type": "code",
   "execution_count": 72,
   "metadata": {},
   "outputs": [
    {
     "name": "stdout",
     "output_type": "stream",
     "text": [
      "[[5, 1, 2], [8, 5, 4]]\n",
      "[[5, 8], [1, 5], [2, 4]]\n",
      "5 8 1 5 2 4 "
     ]
    }
   ],
   "source": [
    "while True:\n",
    "    try:\n",
    "        matrix = []\n",
    "        matrix_t = []\n",
    "\n",
    "        row, column = map(int, input().split(\" \"))    #1 #取得輸入數字的 row 和 column\n",
    "\n",
    "        for i in range(column):\n",
    "            matrix_t.append([])    #2 #要先宣告轉置矩陣 matrix_t 的維度, 不然後面 matrix_t[k].append(a[k]) 會出現 error\n",
    "\n",
    "        for i in range(row):\n",
    "            a = [int(j) for j in input().split(\" \")]\n",
    "            matrix.append(a)\n",
    "            for k in range(len(a)):\n",
    "                matrix_t[k].append(a[k])    #3\n",
    "\n",
    "        # print(matrix)\n",
    "        # print(matrix_t)\n",
    "\n",
    "        for i in matrix_t:\n",
    "            for j in range(len(i)):\n",
    "                print(i[j], end=\" \")    #4\n",
    "            print()\n",
    "\n",
    "    except:\n",
    "        break\n"
   ]
  },
  {
   "cell_type": "markdown",
   "metadata": {},
   "source": [
    "a017: 五則運算\n",
    "內容:\n",
    "計算五則運算式的結果，包含加、減、乘、除、餘\n",
    "\n",
    "輸入說明:\n",
    "輸入資料若干行直到 EOF 為止。每一行包含輸入一個字串，其中包含運算元及運算子，為了方便讀取，所有的運算子及運算元均以空格區隔。\n",
    "運算元為 0 ~231 -1 的整數\n",
    "運算子則包含 + - * / % 及 ( )\n",
    "運算時請注意先乘除後加減及() 優先運算的計算規則\n",
    "\n",
    "輸出說明:\n",
    "對每一行輸入，輸出運算結果。\n",
    "為了避免小數點誤差，所有的運算過程都不會產生小數點，可以放心使用整數進行運算\n",
    "\n",
    "範例輸入 #1:\n",
    "2 + 3 * 4\n",
    "2 * ( 3 + 4 ) * 5\n",
    "\n",
    "範例輸出 #1:\n",
    "14\n",
    "70"
   ]
  },
  {
   "cell_type": "code",
   "execution_count": 74,
   "metadata": {},
   "outputs": [
    {
     "name": "stdout",
     "output_type": "stream",
     "text": [
      "26\n"
     ]
    }
   ],
   "source": [
    "while True:\n",
    "    try:\n",
    "        s = input().replace(\"/\", \"//\")\n",
    "        print(eval(s))    #Python 的 eval() 內建函式，對於操作計算「算式字串」十分方便，\n",
    "                  #只是需要注意題目裡如果使用「單純的除法」可能會產生浮點數，需要將除法換成「除法求整數」。\n",
    "    except:\n",
    "        break"
   ]
  },
  {
   "cell_type": "markdown",
   "metadata": {},
   "source": [
    "a020: 身分證檢驗\n",
    "內容:\n",
    "我國的身分證字號有底下這樣的規則，因此對於任意輸入的身分證字號可以有一些基本的判斷原則，請您來判斷一個身分證字號是否是正常的號碼(不代表確有此號、此人)。\n",
    "(1) 英文代號以下表轉換成數字\n",
    "      A=10 台北市     J=18 新竹縣     S=26 高雄縣\n",
    "      B=11 台中市     K=19 苗栗縣     T=27 屏東縣\n",
    "      C=12 基隆市     L=20 台中縣     U=28 花蓮縣\n",
    "      D=13 台南市     M=21 南投縣     V=29 台東縣\n",
    "      E=14 高雄市     N=22 彰化縣     W=32 金門縣\n",
    "      F=15 台北縣     O=35 新竹市     X=30 澎湖縣\n",
    "      G=16 宜蘭縣     P=23 雲林縣     Y=31 陽明山\n",
    "      H=17 桃園縣     Q=24 嘉義縣     Z=33 連江縣\n",
    "      I=34 嘉義市     R=25 台南縣\n",
    "\n",
    "(2) 英文轉成的數字, 個位數乘９再加上十位數的數字\n",
    "(3) 各數字從右到左依次乘１、２、３、４．．．．８\n",
    "(4) 求出(2),(3) 及最後一碼的和\n",
    "(5) (4)除10 若整除，則為 real，否則為 fake\n",
    "例： T112663836\n",
    "2 + 7*9 + 1*8 + 1*7 + 2*6 + 6*5 + 6*4 + 3*3 + 8*2 + 3*1 + 6 = 180\n",
    "除以 10 整除，因此為 real\n",
    "\n",
    "輸入說明:\n",
    "輸入共一行。每一行包含一組身分證號碼\n",
    "輸出說明:\n",
    "每讀入一行身分證字號，輸出 real or fake"
   ]
  },
  {
   "cell_type": "code",
   "execution_count": 86,
   "metadata": {},
   "outputs": [
    {
     "name": "stdout",
     "output_type": "stream",
     "text": [
      "real\n"
     ]
    }
   ],
   "source": [
    "region = {\"A\":10,\"B\":11,\"C\":12,\"D\":13,\"E\":14,\"F\":15,\"G\":16,\"H\":17,\"I\":34,\n",
    "        \"J\":18,\"K\":19,\"L\":20,\"M\":21,\"N\":22,\"O\":35,\"P\":23,\"Q\":24,\"R\":25,\n",
    "        \"S\":26,\"T\":27,\"U\":28,\"V\":29,\"W\":32,\"X\":30,\"Y\":31,\"Z\":33}\n",
    "\n",
    "while True:\n",
    "    s = input()\n",
    "    id_list = list(s)\n",
    "    # print(\"1\",id_list)\n",
    "\n",
    "    if len(id_list) != 10:\n",
    "        break\n",
    "\n",
    "    temp = str(region[id_list[0]])    #取得區域碼對應數字(轉字串)\n",
    "    # print(\"2\",temp)\n",
    "    check_num = list(temp)\n",
    "    # print(\"3\",check_num)\n",
    "    check_num[0] = int(check_num[0])    #區域碼10位數的數字\n",
    "    check_num[1] = int(check_num[1])*9    #區域碼個位數 *9\n",
    "    sex = id_list[1]    #性別代碼\n",
    "    if sex != \"1\" and sex != \"2\":\n",
    "        break\n",
    "    check_num.append(int(sex)*8)    #性別代碼 *8\n",
    "    # print(\"4\",check_num)\n",
    "\n",
    "    for i in range(7):\n",
    "        check_num.append(int(id_list[2+i])*(7-i))    #依序計算後面的代碼\n",
    "        # print(\"4+{}\".format(i), check_num)\n",
    "    \n",
    "    check_num.append(int(id_list[9]))\n",
    "    # print(check_num)\n",
    "    # print(sum(check_num))\n",
    "\n",
    "    if sum(check_num)%10 == 0:\n",
    "        id_check = True\n",
    "        print(\"real\")\n",
    "    else:\n",
    "        id_check = False\n",
    "        print(\"fake\")\n"
   ]
  },
  {
   "cell_type": "markdown",
   "metadata": {},
   "source": [
    "沒有while loop 才能pass, 題目是只輸入一組"
   ]
  },
  {
   "cell_type": "code",
   "execution_count": null,
   "metadata": {},
   "outputs": [],
   "source": [
    "region = {\"A\":10,\"B\":11,\"C\":12,\"D\":13,\"E\":14,\"F\":15,\"G\":16,\"H\":17,\"I\":34,\n",
    "        \"J\":18,\"K\":19,\"L\":20,\"M\":21,\"N\":22,\"O\":35,\"P\":23,\"Q\":24,\"R\":25,\n",
    "        \"S\":26,\"T\":27,\"U\":28,\"V\":29,\"W\":32,\"X\":30,\"Y\":31,\"Z\":33}\n",
    "\n",
    "s = input()\n",
    "id_list = list(s)\n",
    "# print(\"1\",id_list)\n",
    "\n",
    "# if len(id_list) != 10:\n",
    "#     break\n",
    "\n",
    "temp = str(region[id_list[0]])    #取得區域碼對應數字(轉字串)\n",
    "# print(\"2\",temp)\n",
    "check_num = list(temp)\n",
    "# print(\"3\",check_num)\n",
    "check_num[0] = int(check_num[0])    #區域碼10位數的數字\n",
    "check_num[1] = int(check_num[1])*9    #區域碼個位數 *9\n",
    "sex = id_list[1]    #性別代碼\n",
    "# if sex != \"1\" and sex != \"2\":\n",
    "#     break\n",
    "check_num.append(int(sex)*8)    #性別代碼 *8\n",
    "# print(\"4\",check_num)\n",
    "\n",
    "for i in range(7):\n",
    "    check_num.append(int(id_list[2+i])*(7-i))    #依序計算後面的代碼\n",
    "    # print(\"4+{}\".format(i), check_num)\n",
    "    \n",
    "check_num.append(int(id_list[9]))\n",
    "# print(check_num)\n",
    "# print(sum(check_num))\n",
    "\n",
    "if sum(check_num)%10 == 0:\n",
    "    id_check = True\n",
    "    print(\"real\")\n",
    "else:\n",
    "    id_check = False\n",
    "    print(\"fake\")\n"
   ]
  },
  {
   "cell_type": "markdown",
   "metadata": {},
   "source": [
    "a021: 大數運算\n",
    "內容:\n",
    "我們都知道電腦擅長於各種數字的計算，可是，我們又知道各種程式語言的變數又都有上限，比如整數只有232 或 264 個。如果要計算更大的數字時又該如何計算呢? 就交給聰明的您來解決囉。\n",
    "以 + 代表加法\n",
    "以 - 代表減法\n",
    "以 * 代表乘法\n",
    "以 / 代表除法 (取商數)\n",
    "\n",
    "輸入說明:\n",
    "輸入共一行，每一行包含兩個正整數的運算式，運算元及運算子之間以空格隔開\n",
    "輸出說明:\n",
    "輸出兩個正整數的運算結果，總長度不超過 500 個位數\n",
    "\n",
    "範例輸入 #1:\n",
    "2222222222222222222222222 + 1111111111111111111111111\n",
    "範例輸出 #1:\n",
    "3333333333333333333333333\n",
    "\n",
    "範例輸入 #3:\n",
    "2222222222222222222222222 * 1111111111111111111111111\n",
    "範例輸出 #3:\n",
    "2469135802469135802469135308641975308641975308642"
   ]
  },
  {
   "cell_type": "code",
   "execution_count": null,
   "metadata": {},
   "outputs": [],
   "source": [
    "#Python 已經直接支援大數運算，無需使用其他的函式或方法，\n",
    "#程式使用 eval() 的方法，直接計算輸入的數學式字串，\n",
    "\n",
    "s = input().replace(\"/\", \"//\")\n",
    "print(eval(s))    #Python 的 eval() 內建函式，對於操作計算「算式字串」十分方便，\n",
    "                  #只是需要注意題目裡如果使用「單純的除法」可能會產生浮點數，需要將除法換成「除法求整數」。\n"
   ]
  },
  {
   "cell_type": "markdown",
   "metadata": {},
   "source": [
    "a022: 迴文\n",
    "內容:\n",
    "迴文的定義為正向，反向讀到的字串均相同\n",
    "如：abba , abcba ... 等就是迴文\n",
    "請判斷一個字串是否是一個迴文？\n",
    "\n",
    "輸入說明:\n",
    "輸入資料共一行包含一個字串(長度 < 1000)\n",
    "輸出說明:\n",
    "針對每一行輸入字串輸出 yes or no"
   ]
  },
  {
   "cell_type": "code",
   "execution_count": 87,
   "metadata": {},
   "outputs": [
    {
     "name": "stdout",
     "output_type": "stream",
     "text": [
      "1221\n",
      "1221\n",
      "yes\n"
     ]
    }
   ],
   "source": [
    "#回文偵測\n",
    "\n",
    "str1 = input()\n",
    "# print(str1)\n",
    "\n",
    "str2 = str1[::-1]\n",
    "# print(str2)\n",
    "if str1 == str2:\n",
    "    print(\"yes\")\n",
    "else:\n",
    "    print(\"no\")\n",
    "\n",
    "# print(\"符合回文的字串為: \")\n",
    "# print(list2)\n",
    " "
   ]
  },
  {
   "cell_type": "markdown",
   "metadata": {},
   "source": [
    "a024: 最大公因數(GCD)\n",
    "內容:\n",
    "給定兩個整數，請求出它們的最大公因數\n",
    "\n",
    "輸入說明:\n",
    "輸入包含兩個整數，以空白鍵隔開，兩個整數均 大於 0, 小於 231\n",
    "輸出說明:\n",
    "輸出兩個整數的最大公因數\n",
    "\n",
    "要求出有多個數字的最大公因數，最簡單的方法就是先將「最小的數字」當作「暫定的最大公因數」，並將其拆解成「由大到小」的因數，接著將其他所有的數字，依序除以這些因數，如果某個因數能將所有數字整除，這個因數就是最大公因數。"
   ]
  },
  {
   "cell_type": "code",
   "execution_count": 90,
   "metadata": {},
   "outputs": [
    {
     "name": "stdout",
     "output_type": "stream",
     "text": [
      "1\n"
     ]
    }
   ],
   "source": [
    "num_list = [int(i) for i in input().split(\" \")]    #將輸入文字轉成數字串列\n",
    "num_list.sort()    #把list從小到大排序\n",
    "gcd = num_list[0]\n",
    "while gcd != 1:\n",
    "    r = num_list[1]%gcd\n",
    "    if r != 0:\n",
    "        gcd = r\n",
    "        num_list.insert(0, r)\n",
    "        # print(num_list)\n",
    "    else:\n",
    "        break\n",
    "print(gcd)\n",
    "\n"
   ]
  },
  {
   "cell_type": "markdown",
   "metadata": {},
   "source": [
    "a034: 二進位制轉換\n",
    "內容:\n",
    "還記得計算機概論嗎？還記得二進位嗎？\n",
    "現在我們來計算一下將一個10進位的數字換成二進位數字\n",
    "\n",
    "輸入說明:\n",
    "輸入若干行直到 EOF 為止。每一行包含一個十進位的整數\n",
    "輸出說明:\n",
    "針對每一行的整數輸出其二進位制的結果\n",
    "\n",
    "https://steam.oxxostudio.tw/category/python/basic/format.html#a2"
   ]
  },
  {
   "cell_type": "code",
   "execution_count": 91,
   "metadata": {},
   "outputs": [
    {
     "name": "stdout",
     "output_type": "stream",
     "text": [
      "10000001100\n",
      "10000001100\n"
     ]
    }
   ],
   "source": [
    "while True:\n",
    "    try:\n",
    "        num = int(input())\n",
    "        print(f'{num:b}')\n",
    "        # print(\"{:b}\".format(num))\n",
    "    except:\n",
    "        break"
   ]
  },
  {
   "cell_type": "markdown",
   "metadata": {},
   "source": [
    "a038: 數字翻轉\n",
    "內容:\n",
    "輸入任意數字，並將其數字全部倒轉\n",
    "\n",
    "輸入說明:\n",
    "輸入一行包含一個整數，且不超過 231\n",
    "輸出說明:\n",
    "輸出翻轉過後的數字"
   ]
  },
  {
   "cell_type": "code",
   "execution_count": 98,
   "metadata": {},
   "outputs": [
    {
     "name": "stdout",
     "output_type": "stream",
     "text": [
      "54321\n"
     ]
    }
   ],
   "source": [
    "str1 = input()\n",
    "# print(str1)\n",
    "\n",
    "str2 = str1[::-1]\n",
    "# print(str2)\n",
    "\n",
    "for i in range(len(str2)):\n",
    "    if str2[i] != \"0\":\n",
    "        # str3 = str2[i:]\n",
    "        # print(i)\n",
    "        break        \n",
    "print(str2[i:])"
   ]
  },
  {
   "cell_type": "markdown",
   "metadata": {},
   "source": [
    "a040: 阿姆斯壯數\n",
    "內容:\n",
    "所謂 Armstrong number 指的是一個 n 位數的整數，它的所有位數的 n 次方和恰好等於自己。\n",
    "如；1634 = 1^4+6^4+3^4+4^4\n",
    "請依題目需求在一定範圍內找出該範圍內的所有 armstrong numbers.\n",
    "\n",
    "輸入說明\n",
    "輸入共一行包含兩個數字n, m(n<m, n>0, m<=1000000)，代表所有尋找 armstrong number 的範圍\n",
    "輸出說明\n",
    "將所有範圍內的 armstrong number 依序由小到大輸出，如果沒有找到請輸出 none."
   ]
  },
  {
   "cell_type": "code",
   "execution_count": 104,
   "metadata": {},
   "outputs": [
    {
     "name": "stdout",
     "output_type": "stream",
     "text": [
      "153 370 371 407 "
     ]
    }
   ],
   "source": [
    "num1, num2 = map(int, input().split(\" \"))\n",
    "\n",
    "amst_flag = False\n",
    "b = []\n",
    "for i in range(num1, num2):    #把num1和num2之間的數字抓出來看是不是armstrong numbers\n",
    "    s1 = str(i)\n",
    "    s1_l = len(s1)\n",
    "    a = 0\n",
    "    for j in s1:\n",
    "        a = a + int(j)**s1_l\n",
    "    if a == i:\n",
    "        amst_flag = True\n",
    "        b.append(a)\n",
    "\n",
    "if amst_flag == False:\n",
    "    print(\"none\")\n",
    "else:\n",
    "    for i in range(len(b)):\n",
    "        print(b[i], end=\" \")"
   ]
  },
  {
   "cell_type": "markdown",
   "metadata": {},
   "source": [
    "a042: 平面圓形切割\n",
    "內容:\n",
    "對任意正整數n，平面上的n 個圓最多可將平面切成幾個區域？\n",
    "\n",
    "輸入說明:\n",
    "輸入若干行直到 EOF 為止。每一行包含一個整數 n\n",
    "輸出說明:\n",
    "針對每一個 n 輸出切割出的區域數。\n",
    "\n",
    "公式:\n",
    "平面圓形切割公式: n^2-n+2"
   ]
  },
  {
   "cell_type": "code",
   "execution_count": null,
   "metadata": {},
   "outputs": [],
   "source": [
    "while True:\n",
    "    try:\n",
    "        n = int(input())\n",
    "        print(n**2-n+2)\n",
    "    except:\n",
    "        break"
   ]
  },
  {
   "cell_type": "markdown",
   "metadata": {},
   "source": [
    "a044: 空間切割\n",
    "內容:\n",
    "對任意正整數n，空間中的n 個平面最多可將空間切成幾個區域？\n",
    "\n",
    "輸入說明:\n",
    "輸入若干行直到 EOF 為止。每一行包含一個正整數 n\n",
    "\n",
    "輸出說明:\n",
    "針對每一個 n ，輸出切割出的區域數。\n",
    "\n",
    "平面上 n 條直線切割空間的公式： Sn = (n^2 + n + 2)/2\n",
    "空間中 n 個平面切割空間的公式： Sn = (n^3 + 5n + 6)/6\n"
   ]
  },
  {
   "cell_type": "code",
   "execution_count": null,
   "metadata": {},
   "outputs": [],
   "source": [
    "while True:\n",
    "    try:\n",
    "        n = int(input())\n",
    "        print((n**3+5*n+6)//6)    #//取整數\n",
    "    except:\n",
    "        break"
   ]
  },
  {
   "cell_type": "markdown",
   "metadata": {},
   "source": [
    "a053: Sagit's 計分程式\n",
    "內容:\n",
    "sagit 是一位高中電腦老師，這學期正在教學生寫C++程式。他的評分標準是依照每一位學生在 ZeroJudge 系統上解出的題數，去計算出對應的得分。為了不讓分數落差太大，因此他並不是採取每一題固定得分的方式，而是隨著題數增加而調整每題的得分。規則如下：\n",
    "\n",
    "1. 答對題數在 0~10 者，每題給6分。\n",
    "2. 題數在 11~20 者，從第11題開始，每題給2分。(前10題還是每題給6分)\n",
    "3. 題數在 21~40 者，從第21題開始，每題給1分。\n",
    "4. 題數在 40 以上者，一律100分。\n",
    "\n",
    "如此一來，只要寫10題，就可以得到60分，寫20題，就可以得到80分，不過要得到滿分100分，則是要寫到40題，所以同學們分數的差距就大大地減少了。 \n",
    "\n",
    "不過問題來了，雖然學生們因為這樣的計分公式而大大地提升了及格率，但因為 sagit 有600多位學生，一個一個去計算真的是一件很吃重的工作，所以現在想請你幫他寫個程式解決這個問題。\n",
    "\n",
    "輸入說明:\n",
    "每組測資只有一個整數 N (0<=N<=100)，代表學生在 ZeroJudge 系統上解出的題數。\n",
    "輸出說明:\n",
    "印出該位同學的得分。"
   ]
  },
  {
   "cell_type": "code",
   "execution_count": null,
   "metadata": {},
   "outputs": [],
   "source": [
    "while True:\n",
    "    try:\n",
    "        n = int(input())\n",
    "        score = 0\n",
    "        if n <= 10:\n",
    "            score = 6*n\n",
    "        elif n > 10 and n <= 20:\n",
    "            score = 60 + 2*(n-10)\n",
    "        elif n > 20 and n <= 40:\n",
    "            score = 80 + (n-20)\n",
    "        else:\n",
    "            score = 100\n",
    "        print(score)\n",
    "    except:\n",
    "        break"
   ]
  },
  {
   "cell_type": "markdown",
   "metadata": {},
   "source": [
    "a054: 電話客服中心\n",
    "內容:\n",
    "很多銀行及公司設立了電話客服中心來服務他們的客戶。為了加速身分的查核，常常會要求打電話進來的客戶輸入他的身分證號碼。可是電話上只有數字鍵，要輸入身分證號碼的第一個字母有點麻煩，因此有的語音系統會要求來電者輸入後 9 碼，再根據後 9 碼來推算可能的英文字母。\n",
    "\n",
    "很多人都知道，身分證號碼的最後一碼是「檢查碼」，它是用前 9 碼所推算出來的，其推算的規則如下：\n",
    "\n",
    "先依照下表將英文字母轉換為 2 位數字，再加上第 2 到第 9 位的 8 位數字一共有 10 位數字。\n",
    "台北市 A 10   彰化縣 N 22\n",
    "台中市 B 11   新竹市 O 35\n",
    "基隆市 C 12   雲林縣 P 23\n",
    "台南市 D 13   嘉義縣 Q 24\n",
    "高雄市 E 14   台南縣 R 25\n",
    "台北縣 F 15   高雄縣 S 26\n",
    "宜蘭縣 G 16   屏東縣 T 27\n",
    "桃園縣 H 17   花蓮縣 U 28\n",
    "嘉義市 I 34   台東縣 V 29\n",
    "新竹縣 J 18   金門縣 W 32\n",
    "苗栗縣 K 19   澎湖縣 X 30\n",
    "台中縣 L 20   陽明山 Y 31\n",
    "南投縣 M 21   連江縣 Z 33\n",
    "由左至右，第一位乘 1，第二位乘 9，第三位乘 8，第四位乘 7...，以此類推，最後一位乘 1。\n",
    "求各位相對數字乘積的總和 s。\n",
    "求 s 的個位數 m。(檢查碼只有一位數，因此若 c = 10 時，則檢查碼為 0。)\n",
    "檢查碼 c = 10 - m 。\n",
    "假設某人的身份證號碼前 9 碼為 F13024567，那麼他的最後一位檢查碼的計算過程如下：\n",
    "\n",
    "    F       1    3    0    2    4    5    6    7\n",
    "  1    5    1    3    0    2    4    5    6    7\n",
    "\n",
    " ×1   ×9    ×8    ×7   ×6    ×5    ×4    ×3    ×2   ×1\n",
    "\n",
    "  1 + 45 +  8 + 21 +  0 + 10 + 16 + 15 + 12 +  7 = 135\n",
    "\n",
    "檢查碼 = 10 - (135 % 10) = 5\n",
    "\n",
    "根據上面的規則，A12345678、M12345678 和 W12345678 這三個號碼的檢查碼都是 9。因此，如果在電話上所輸入的後 9 碼是 123456789 時，它的第一位英文字母可能是 A，也可能是 M 或 W。"
   ]
  },
  {
   "cell_type": "code",
   "execution_count": 110,
   "metadata": {},
   "outputs": [
    {
     "name": "stdout",
     "output_type": "stream",
     "text": [
      "A M W "
     ]
    }
   ],
   "source": [
    "region = {\"A\":10,\"B\":11,\"C\":12,\"D\":13,\"E\":14,\"F\":15,\"G\":16,\"H\":17,\"I\":34,\n",
    "        \"J\":18,\"K\":19,\"L\":20,\"M\":21,\"N\":22,\"O\":35,\"P\":23,\"Q\":24,\"R\":25,\n",
    "        \"S\":26,\"T\":27,\"U\":28,\"V\":29,\"W\":32,\"X\":30,\"Y\":31,\"Z\":33}\n",
    "\n",
    "s = input()\n",
    "id_num = list(s)\n",
    "check_num = []\n",
    "\n",
    "for i in range(8):\n",
    "    check_num.append(int(id_num[i])*(8-i))    #依序計算後面的代碼\n",
    "\n",
    "id_sum = sum(check_num)    #身分證數字前8碼, 換算總和\n",
    "\n",
    "for i in region:    #把key取出來\n",
    "    a = [int(j) for j in list(str(region[i]))]    #把對應的兩位碼取出, 轉字串, 轉list, 之後, 再分別取出十位數及個位數, 放在list\n",
    "    if int(id_num[8]) == 0:    #若檢查碼為0, 則套用公式\n",
    "        if (id_sum + a[0] + a[1]*9)%10 == 0:    #若字母對應的數字符合公式, 印出該字母\n",
    "            print(i, end=\" \")\n",
    "    else:    #若檢查碼不為0\n",
    "        if 10 - (id_sum + a[0] + a[1]*9)%10 == int(id_num[8]):     #若字母對應的數字符合公式, 印出該字母\n",
    "            print(i, end=\" \")\n"
   ]
  },
  {
   "cell_type": "markdown",
   "metadata": {},
   "source": [
    "a058: MOD3\n",
    "內容:\n",
    "相信判斷一個數除以三的餘數是多少，對你來說應該沒有問題。那，如果一次請你判斷很多個數呢嘿嘿？給你n個數字，請你輸出3k、3k+1、3k+2的數各有幾個\n",
    "\n",
    "輸入說明:\n",
    "第一行有一個正整數n，代表接下來有幾個數字，接著有n個介於1到50000之間的數字，請你做判斷\n",
    "輸出說明\n",
    "輸出三個數字(以空白隔開)，分別為n個數字中，三的倍數、三的倍數+1、三的倍數+2的數量"
   ]
  },
  {
   "cell_type": "code",
   "execution_count": 111,
   "metadata": {},
   "outputs": [
    {
     "name": "stdout",
     "output_type": "stream",
     "text": [
      "2 1 1 "
     ]
    }
   ],
   "source": [
    "n = int(input())\n",
    "a = [0, 0, 0]\n",
    "\n",
    "for i in range(n):\n",
    "    b = int(input())\n",
    "    if b%3 == 0:\n",
    "        a[0] += 1\n",
    "    elif b%3 == 1:\n",
    "        a[1] += 1\n",
    "    elif b%3 == 2:\n",
    "        a[2] += 1\n",
    "\n",
    "for i in a:\n",
    "    print(i, end=\" \")\n",
    "    "
   ]
  },
  {
   "cell_type": "markdown",
   "metadata": {},
   "source": [
    "a059: 完全平方和\n",
    "內容:\n",
    "給你一個範圍 a 到 b ，請你找出 a 與 b 之間所有完全平方數的和。\n",
    "例如：範圍 [3, 25] 中所有完全平方數的和就是 4 + 9 + 16 + 25  = 54 。\n",
    "\n",
    "輸入說明:\n",
    "輸入的第一列有一個整數 T （1≦T≦100），代表以下有多少組測試資料。\n",
    "每組測試資料為兩列，包含兩個數 a 與 b （0≦a≦b≦1000）。\n",
    "輸出說明:\n",
    "每組測試資料輸出一列，內容為 a 及 b 間所有完全平方數的和。\n",
    "\n",
    "使用 for 迴圈與 range 搭配，依序取出範圍內所有的數字，將取出的數字開根號後乘以 100，再透過除以 100 的餘數，就能判斷這個數字是否為完全平方數 ( 如果不是完全平方數，開根號後乘以 100 再除以 100 就會出現餘數 )"
   ]
  },
  {
   "cell_type": "code",
   "execution_count": 112,
   "metadata": {},
   "outputs": [
    {
     "name": "stdout",
     "output_type": "stream",
     "text": [
      "Case 1: 54\n"
     ]
    }
   ],
   "source": [
    "t = int(input())\n",
    "\n",
    "if t > 100:\n",
    "    print('T = {}, >100, 與題目不符'.format(t))\n",
    "\n",
    "for i in range(t):\n",
    "    a = int(input())\n",
    "    b = int(input())\n",
    "    result = []\n",
    "\n",
    "    for j in range(a, b+1):\n",
    "        j2 = j**0.5 * 100    #1\n",
    "        if j2%100 == 0:\n",
    "            result.append(j)\n",
    "    print(f\"Case {i+1}: {sum(result)}\")    #2"
   ]
  },
  {
   "cell_type": "markdown",
   "metadata": {},
   "source": [
    "a065: 提款卡密碼\n",
    "內容:\n",
    "文文記性不太好，常常會忘東忘西。他也常忘記提款卡密碼，每次忘記密碼都得帶著身份證、存摺、印章親自到銀行去重設密碼，還得繳交 50 元的手續費，很是麻煩。後來他決定把密碼寫在提款卡上免得忘記，但是這樣一來，萬一提款卡掉了，存款就會被盜領。因此他決定以一個只有他看得懂的方式把密碼寫下來。\n",
    "他的密碼有 6 位數，所以他寫下了 7 個大寫字母，相鄰的每兩個字母間的「距離」就依序代表密碼中的一位數。所謂「距離」指的是從較「小」的字母要數幾個字母才能數到較「大」字母。字母的大小則是依其順序而定，越後面的字母越「大」。\n",
    "假設文文所寫的 7 個字母是 POKEMON，那麼密碼的第一位數就是字母 P 和 O 的「距離」，由於 P 就是 O 的下一個字母，因此，從 O 開始只要往下數一個字母就是 P 了，所以密碼的第一位數就是 1。密碼的第二位數則是字母 O 和 K 的「距離」，從 K 開始，往下數 4 個字母 (L, M, N, O) 就到了 O，所以第二位數是 4，以此類推。因此，POKEMON 所代表的密碼便是 146821。\n",
    "噓！你千萬別把這個密秘告訴別人哦，要不然文文的存款就不保了。\n",
    "\n",
    "輸入說明:\n",
    "輸入只有一行，含有 7 個相連的大寫英文字母。\n",
    "輸出說明:\n",
    "輸出文文的提款卡密碼。(我知道，我不會讓其他的人看到！)"
   ]
  },
  {
   "cell_type": "code",
   "execution_count": 114,
   "metadata": {},
   "outputs": [
    {
     "name": "stdout",
     "output_type": "stream",
     "text": [
      "146821"
     ]
    }
   ],
   "source": [
    "s_upper = list(input())\n",
    "\n",
    "for i in range(len(s_upper)-1):\n",
    "    print(f\"{abs(ord(s_upper[i+1])-ord(s_upper[i]))}\", end=\"\")"
   ]
  },
  {
   "cell_type": "markdown",
   "metadata": {},
   "source": [
    "a095: 麥哲倫的陰謀\n",
    "內容:\n",
    "在禁忌的貝殼城裡存在著一座監獄, 有N個犯人被關在裡頭, 我們只知道 ....., \"他們都帶著帽子\", 這是一頂神奇的帽子, 稱作 \"廬山帽\". 是貝殼城裡的特產, 分為紅色及白色兩種, 凡是帶上 \"廬山帽\" 的人 ......, 就會 \"不識廬山真面目\" !!!!\n",
    "\n",
    "而監獄內的所有犯人都被配帶了這一頂可怕的帽子 0.0. 而邪惡的所長麥哲倫想到了一個邪惡又沒有良心的鬼計畫：\n",
    "\" 猜帽子 \". 只要能猜出自己的帽子顏色即可立即出獄, 但猜錯者須以死謝罪.\n",
    "\n",
    "而你可以假設監獄裡的犯人都跟羅賓一樣絕頂聰明, 不會有想要以死謝罪的白癡行為. 因此, 在N個犯人的監獄中，麥哲倫所長將M頂紅帽配給其中的犯人, 請問最少需要幾天，監獄內的所有犯人均可以確定自己的帽子顏色後出獄\n",
    "\n",
    "PS. 犯人並不知道共有幾頂紅帽，只知道紅帽至少有一頂，而且不可互相討論 = =\n",
    "\n",
    "輸入說明:\n",
    "輸入兩數N，M （1 < M <= N < 231）, 代表N個犯人，M頂紅帽 \n",
    "輸出說明:\n",
    "輸出最少幾天所有犯人均可以確定自己的帽子顏色後出獄"
   ]
  },
  {
   "cell_type": "code",
   "execution_count": null,
   "metadata": {},
   "outputs": [],
   "source": [
    "while True:\n",
    "    try:\n",
    "        n , m = map(int, input().split(\" \"))\n",
    "\n",
    "        if n == m:\n",
    "            day = m\n",
    "        else:\n",
    "            day = m + 1\n",
    "        print(day)\n",
    "    except:\n",
    "        break\n"
   ]
  },
  {
   "cell_type": "markdown",
   "metadata": {},
   "source": [
    "a104: 排序\n",
    "內容:\n",
    "幫我排個數字謝謝QQ\n",
    "\n",
    "輸入說明:\n",
    "有多筆測資以EOF為結束\n",
    "第一行有一個正整數n(1<=n<=1000)，代表有幾個數字要請你幫忙排\n",
    "第二行有n個可以用int儲存的正整數\n",
    "\n",
    "輸出說明:\n",
    "輸出n個已由小到大排序好的正整數\n",
    "\n",
    "範例輸入 #1:\n",
    "6\n",
    "7 9 0 4 1 8\n",
    "8\n",
    "1 9 9 0 0 9 2 8\n",
    "\n",
    "範例輸出 #1:\n",
    "0 1 4 7 8 9\n",
    "0 0 1 2 8 9 9 9"
   ]
  },
  {
   "cell_type": "code",
   "execution_count": 3,
   "metadata": {},
   "outputs": [
    {
     "name": "stdout",
     "output_type": "stream",
     "text": [
      "0 0 1 2 8 9 9 9 "
     ]
    }
   ],
   "source": [
    "while True:\n",
    "    try:\n",
    "        n = int(input())\n",
    "        n_list = [int(i) for i in input().split(\" \")]\n",
    "        for i in range(n):\n",
    "            print(sorted(n_list)[i], end=\" \")\n",
    "    except:\n",
    "        break"
   ]
  },
  {
   "cell_type": "code",
   "execution_count": 4,
   "metadata": {},
   "outputs": [
    {
     "name": "stdout",
     "output_type": "stream",
     "text": [
      "0 0 1 2 8 9 9 9 "
     ]
    }
   ],
   "source": [
    "while True:\n",
    "    try:\n",
    "        n = int(input())\n",
    "        n_list = [int(i) for i in input().split(\" \")]\n",
    "        n_list.sort()\n",
    "        for i in range(n):\n",
    "            print(f'{n_list[i]}', end=\" \")\n",
    "    except:\n",
    "        break"
   ]
  },
  {
   "cell_type": "markdown",
   "metadata": {},
   "source": [
    "a121: 質數又來囉\n",
    "內容:\n",
    "你的好朋友質數先生又來找你囉，給你兩個數字，請算出這兩個數字包含的範圍內有幾個質數。\n",
    "\n",
    "輸入說明:\n",
    "輸入兩個正整數a,b(1<=a<=b<=100000000)。\n",
    "保證b-a<=1000 \n",
    "\n",
    "輸出說明:\n",
    "輸出一個非負整數，代表a到b之間(包含a,b)總共有幾個質數。\n",
    "\n",
    "範例輸入 #1\n",
    "3 7\n",
    "6 6\n",
    "30 50\n",
    "\n",
    "範例輸出 #1\n",
    "3\n",
    "0\n",
    "5"
   ]
  },
  {
   "cell_type": "code",
   "execution_count": 6,
   "metadata": {},
   "outputs": [
    {
     "name": "stdout",
     "output_type": "stream",
     "text": [
      "[3, 3, 5, 5, 5, 5, 7, 7, 7, 7, 7, 7]\n",
      "3\n"
     ]
    }
   ],
   "source": [
    "while True:\n",
    "    try:\n",
    "        a , b = map(int, input().split(\" \"))\n",
    "        # print(a, b)\n",
    "        prime_num = []\n",
    "        for i in range(a, b+1):\n",
    "            # print(1, i)\n",
    "            # print(1, a, b+1)\n",
    "            # print()\n",
    "            for j in range(2, i+1):\n",
    "                if i%j == 0 and j < i:   #若i不是質數, 且i不等於j\n",
    "                    break\n",
    "                else:  #若i是質數\n",
    "                    prime_num.append(i)\n",
    "        #             print(\"A\", i, end=\" \")\n",
    "        #             print()\n",
    "        aa = set(prime_num)\n",
    "        # print(prime_num)\n",
    "        print(len(aa))\n",
    "    except:\n",
    "        break"
   ]
  }
 ],
 "metadata": {
  "interpreter": {
   "hash": "9f38e0b9433357a992867f754b2e9b386d498bed5ca3462d68cdbc43af86f9e4"
  },
  "kernelspec": {
   "display_name": "Python 3.9.9 64-bit (windows store)",
   "language": "python",
   "name": "python3"
  },
  "language_info": {
   "codemirror_mode": {
    "name": "ipython",
    "version": 3
   },
   "file_extension": ".py",
   "mimetype": "text/x-python",
   "name": "python",
   "nbconvert_exporter": "python",
   "pygments_lexer": "ipython3",
   "version": "3.9.9"
  },
  "orig_nbformat": 4
 },
 "nbformat": 4,
 "nbformat_minor": 2
}
