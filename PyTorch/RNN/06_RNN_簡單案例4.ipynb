{
 "cells": [
  {
   "cell_type": "markdown",
   "metadata": {},
   "source": [
    "# 使用詞向量 (Word2Vec)\n",
    "- 使用預先訓練好的詞向量轉換來代替 PyTorch 內建的嵌入層轉換\n",
    "- PyTorch 支援 GloVe, FastText 及 CharNGram 三種詞向量"
   ]
  },
  {
   "cell_type": "markdown",
   "metadata": {},
   "source": [
    "## 以 GloVe 為例\n",
    "- 讀取 GloVe 50維的詞向量"
   ]
  },
  {
   "cell_type": "code",
   "execution_count": 13,
   "metadata": {},
   "outputs": [
    {
     "data": {
      "text/plain": [
       "tensor([[-0.0266,  1.3357, -1.0280, -0.3729,  0.5201, -0.1270, -0.3543,  0.3782,\n",
       "         -0.2972,  0.0939, -0.0341,  0.9296, -0.1402, -0.6330,  0.0208, -0.2153,\n",
       "          0.9692,  0.4765, -1.0039, -0.2401, -0.3632, -0.0048, -0.5148, -0.4626,\n",
       "          1.2447, -1.8316, -1.5581, -0.3747,  0.5336,  0.2088,  3.2209,  0.6455,\n",
       "          0.3744, -0.1766, -0.0242,  0.3379, -0.4190,  0.4008, -0.1145,  0.0512,\n",
       "         -0.1521,  0.2986, -0.4405,  0.1109, -0.2463,  0.6625, -0.2695, -0.4966,\n",
       "         -0.4162, -0.2549]])"
      ]
     },
     "execution_count": 13,
     "metadata": {},
     "output_type": "execute_result"
    }
   ],
   "source": [
    "import string\n",
    "import numpy as np\n",
    "import torch\n",
    "import torchtext\n",
    "import torch.nn as nn\n",
    "\n",
    "vec = torchtext.vocab.GloVe(name = \"6B\", dim = 50)\n",
    "\n",
    "examples = [\"great\"]\n",
    "ret = vec.get_vecs_by_tokens(examples, lower_case_backup = True)\n",
    "ret"
   ]
  },
  {
   "cell_type": "code",
   "execution_count": 14,
   "metadata": {},
   "outputs": [
    {
     "data": {
      "text/plain": [
       "torch.Size([400000, 50])"
      ]
     },
     "execution_count": 14,
     "metadata": {},
     "output_type": "execute_result"
    }
   ],
   "source": [
    "vec.vectors.size()"
   ]
  },
  {
   "cell_type": "markdown",
   "metadata": {},
   "source": [
    "### 查詢單字的詞向量索引值"
   ]
  },
  {
   "cell_type": "code",
   "execution_count": 15,
   "metadata": {},
   "outputs": [
    {
     "data": {
      "text/plain": [
       "353"
      ]
     },
     "execution_count": 15,
     "metadata": {},
     "output_type": "execute_result"
    }
   ],
   "source": [
    "vec.stoi[\"great\"]"
   ]
  },
  {
   "cell_type": "markdown",
   "metadata": {},
   "source": [
    "## 建立模型 (將整個詞向量設定為嵌入層權重)"
   ]
  },
  {
   "cell_type": "code",
   "execution_count": 16,
   "metadata": {},
   "outputs": [],
   "source": [
    "class RecurrentNet2(nn.Module):\n",
    "    def __init__(self, vec, embedding_dim, num_class):\n",
    "        super().__init__()\n",
    "        # 將整個詞向量設定為嵌入層權重, 且嵌入層設為不訓練\n",
    "        self.embedding = nn.EmbeddingBag.from_pretrained(vec, freeze = True)\n",
    "        self.fc = nn.Linear(embedding_dim, num_class)\n",
    "    \n",
    "    def forward(self, text):\n",
    "        embedded = self.embedding(text)\n",
    "        return self.fc(embedded)\n",
    "\n",
    "model = RecurrentNet2(vec.vectors, vec.dim, 1)"
   ]
  },
  {
   "cell_type": "markdown",
   "metadata": {},
   "source": [
    "## 將訓練資料傳換為 GloVe 詞向量索引值"
   ]
  },
  {
   "cell_type": "code",
   "execution_count": 18,
   "metadata": {},
   "outputs": [
    {
     "data": {
      "text/plain": [
       "tensor([[ 143,  751,    0,    0],\n",
       "        [ 219,  161,    0,    0],\n",
       "        [ 353,  968,    0,    0],\n",
       "        [3082,  161,    0,    0],\n",
       "        [4345,    0,    0,    0],\n",
       "        [2690,    0,    0,    0],\n",
       "        [ 992,  968,    0,    0],\n",
       "        [  36,  219,    0,    0],\n",
       "        [ 992,  161,    0,    0],\n",
       "        [  94,   33,  751,  439]])"
      ]
     },
     "execution_count": 18,
     "metadata": {},
     "output_type": "execute_result"
    }
   ],
   "source": [
    "maxlen = 4\n",
    "\n",
    "# 測試資料\n",
    "docs = [\n",
    "        \"Well done!!\",\n",
    "        \"Good work\",\n",
    "        \"Great effort\",\n",
    "        \"nice work\",\n",
    "        \"Excellent!!\",\n",
    "        \"Weak\",\n",
    "        \"Poor effort\",\n",
    "        \"Not good\",\n",
    "        \"Poor work\",\n",
    "        \"Could have done better\"\n",
    "]\n",
    "\n",
    "stopwords = string.punctuation\n",
    "\n",
    "# 轉成數值\n",
    "y = torch.FloatTensor([1,1,1,1,1,0,0,0,0,0])\n",
    "X = torch.LongTensor(np.zeros((len(docs), maxlen)))\n",
    "\n",
    "tokenizer = torchtext.data.utils.get_tokenizer(\"basic_english\")\n",
    "\n",
    "for i, text in enumerate(docs):\n",
    "    tokens = tokenizer(text.lower())\n",
    "    clean_tokens = []\n",
    "    j=0\n",
    "    for w in tokens:\n",
    "        if w not in stopwords:\n",
    "            # 轉成詞向量索引值\n",
    "            X[i, j] = vec.stoi[w]\n",
    "            j+=1\n",
    "X"
   ]
  },
  {
   "cell_type": "code",
   "execution_count": 19,
   "metadata": {},
   "outputs": [
    {
     "name": "stdout",
     "output_type": "stream",
     "text": [
      "Epoch: 0, loss: 1.53944\n",
      "Epoch: 100, loss: 0.20655\n",
      "Epoch: 200, loss: 0.12307\n",
      "Epoch: 300, loss: 0.08522\n",
      "Epoch: 400, loss: 0.06062\n",
      "Epoch: 500, loss: 0.04381\n",
      "Epoch: 600, loss: 0.03203\n",
      "Epoch: 700, loss: 0.02366\n",
      "Epoch: 800, loss: 0.01766\n",
      "Epoch: 900, loss: 0.01331\n"
     ]
    },
    {
     "data": {
      "text/plain": [
       "tensor([[ 0.8660],\n",
       "        [ 0.9514],\n",
       "        [ 0.9599],\n",
       "        [ 0.9797],\n",
       "        [ 0.9491],\n",
       "        [ 0.0131],\n",
       "        [-0.0166],\n",
       "        [ 0.2174],\n",
       "        [ 0.1499],\n",
       "        [-0.0766]], grad_fn=<AddmmBackward0>)"
      ]
     },
     "execution_count": 19,
     "metadata": {},
     "output_type": "execute_result"
    }
   ],
   "source": [
    "# 指定優化器, 損失函數\n",
    "criterion = torch.nn.MSELoss()\n",
    "optimizer = torch.optim.Adam(model.parameters())\n",
    "\n",
    "# 模型訓練\n",
    "for epoch in range(1000):\n",
    "    outputs = model.forward(X)\n",
    "    optimizer.zero_grad()\n",
    "    loss = criterion(outputs.reshape(-1), y)\n",
    "    loss.backward()\n",
    "    optimizer.step()\n",
    "    if epoch % 100 == 0:\n",
    "        print(f\"Epoch: {epoch}, loss: {loss.item():1.5f}\")\n",
    "\n",
    "model.eval()\n",
    "model(X)"
   ]
  },
  {
   "cell_type": "markdown",
   "metadata": {},
   "source": [
    "## 模型評估"
   ]
  },
  {
   "cell_type": "code",
   "execution_count": 21,
   "metadata": {},
   "outputs": [
    {
     "data": {
      "text/plain": [
       "tensor([[ 0.8660],\n",
       "        [ 0.9514],\n",
       "        [ 0.9599],\n",
       "        [ 0.9797],\n",
       "        [ 0.9491],\n",
       "        [ 0.0131],\n",
       "        [-0.0166],\n",
       "        [ 0.2174],\n",
       "        [ 0.1499],\n",
       "        [-0.0766]], grad_fn=<AddmmBackward0>)"
      ]
     },
     "execution_count": 21,
     "metadata": {},
     "output_type": "execute_result"
    }
   ],
   "source": [
    "model.eval()\n",
    "model(X)"
   ]
  },
  {
   "cell_type": "markdown",
   "metadata": {},
   "source": [
    "## 測試新資料 (輸入訓練資料以外的單字)"
   ]
  },
  {
   "cell_type": "code",
   "execution_count": 20,
   "metadata": {},
   "outputs": [
    {
     "data": {
      "text/plain": [
       "tensor([[ 353,  664,    0,    0],\n",
       "        [5863,  728,    0,    0],\n",
       "        [4124,  728,    0,    0]])"
      ]
     },
     "execution_count": 20,
     "metadata": {},
     "output_type": "execute_result"
    }
   ],
   "source": [
    "# 測試資料\n",
    "test_docs = [\n",
    "                \"great job\",\n",
    "                \"sample test\",\n",
    "                \"cycle test\"\n",
    "]\n",
    "\n",
    "# 轉成數值\n",
    "X_test = torch.LongTensor(np.zeros((len(test_docs), maxlen)))\n",
    "for i, text in enumerate(test_docs):\n",
    "    tokens = tokenizer(text.lower())\n",
    "    clean_tokens = []\n",
    "    j = 0\n",
    "    for w in tokens:\n",
    "        if w not in stopwords:\n",
    "            X_test[i, j] = vec.stoi[w]\n",
    "            j+=1\n",
    "X_test"
   ]
  },
  {
   "cell_type": "markdown",
   "metadata": {},
   "source": [
    "## 觀察新資料的預測結果"
   ]
  },
  {
   "cell_type": "code",
   "execution_count": 22,
   "metadata": {},
   "outputs": [
    {
     "data": {
      "text/plain": [
       "tensor([[0.6359],\n",
       "        [1.0099],\n",
       "        [1.1694]], grad_fn=<AddmmBackward0>)"
      ]
     },
     "execution_count": 22,
     "metadata": {},
     "output_type": "execute_result"
    }
   ],
   "source": [
    "model.eval()\n",
    "model(X_test)"
   ]
  }
 ],
 "metadata": {
  "kernelspec": {
   "display_name": "Python 3.9.12 ('dp1')",
   "language": "python",
   "name": "python3"
  },
  "language_info": {
   "codemirror_mode": {
    "name": "ipython",
    "version": 3
   },
   "file_extension": ".py",
   "mimetype": "text/x-python",
   "name": "python",
   "nbconvert_exporter": "python",
   "pygments_lexer": "ipython3",
   "version": "3.9.12"
  },
  "orig_nbformat": 4,
  "vscode": {
   "interpreter": {
    "hash": "11392ef459069d601d11ff7ceba327d19eb4b45e7e3534b48cc5347edbf5a449"
   }
  }
 },
 "nbformat": 4,
 "nbformat_minor": 2
}
