{
 "cells": [
  {
   "cell_type": "markdown",
   "metadata": {},
   "source": [
    "## 載入相關套件"
   ]
  },
  {
   "cell_type": "code",
   "execution_count": 48,
   "metadata": {},
   "outputs": [],
   "source": [
    "import torch\n",
    "import torch.nn as nn\n",
    "import torch.nn.functional as F\n",
    "import torch.optim as optim\n",
    "import torchtext\n",
    "import numpy as np\n"
   ]
  },
  {
   "cell_type": "markdown",
   "metadata": {},
   "source": [
    "## 嵌入層測試\n",
    "- 第一個參數為 6, 表示詞彙表含 6 個單字\n",
    "- 第二個參數為 5, 表示每個單字以 5 個實數表示"
   ]
  },
  {
   "cell_type": "code",
   "execution_count": 49,
   "metadata": {},
   "outputs": [
    {
     "name": "stdout",
     "output_type": "stream",
     "text": [
      "tensor([[[ 0.8112,  0.3393, -1.1498,  0.7866,  0.4077],\n",
      "         [ 1.4390,  1.3084,  0.8373, -0.9947, -0.6837],\n",
      "         [-0.5909,  0.0514, -0.3278, -0.9018, -0.1598]],\n",
      "\n",
      "        [[ 0.2511, -1.2888,  0.5206,  1.3232,  0.8089],\n",
      "         [ 0.5001, -0.4651, -0.5922, -0.1354,  0.4567],\n",
      "         [ 0.4365,  0.6853,  0.5563,  0.2142,  1.2650]]],\n",
      "       grad_fn=<EmbeddingBackward0>)\n"
     ]
    }
   ],
   "source": [
    "x = torch.LongTensor([[0,1,2], [3,4,5]])\n",
    "embeds = nn.Embedding(6,5)\n",
    "print(embeds(x))"
   ]
  },
  {
   "cell_type": "markdown",
   "metadata": {},
   "source": [
    "- 顯示嵌入層的起始權重"
   ]
  },
  {
   "cell_type": "code",
   "execution_count": 50,
   "metadata": {},
   "outputs": [
    {
     "data": {
      "text/plain": [
       "Parameter containing:\n",
       "tensor([[ 0.8112,  0.3393, -1.1498,  0.7866,  0.4077],\n",
       "        [ 1.4390,  1.3084,  0.8373, -0.9947, -0.6837],\n",
       "        [-0.5909,  0.0514, -0.3278, -0.9018, -0.1598],\n",
       "        [ 0.2511, -1.2888,  0.5206,  1.3232,  0.8089],\n",
       "        [ 0.5001, -0.4651, -0.5922, -0.1354,  0.4567],\n",
       "        [ 0.4365,  0.6853,  0.5563,  0.2142,  1.2650]], requires_grad=True)"
      ]
     },
     "execution_count": 50,
     "metadata": {},
     "output_type": "execute_result"
    }
   ],
   "source": [
    "embeds.weight"
   ]
  },
  {
   "cell_type": "markdown",
   "metadata": {},
   "source": [
    "- 輸入改為 1~6:\n",
    "  - nn.Embedding 第一個參數須改為 7, 即詞彙表應含 0-6, 共 7 個單字, 因為輸入最大索引值為 6"
   ]
  },
  {
   "cell_type": "code",
   "execution_count": 51,
   "metadata": {},
   "outputs": [
    {
     "name": "stdout",
     "output_type": "stream",
     "text": [
      "tensor([[[-0.1920, -1.8358,  0.2627,  0.0705, -0.1247],\n",
      "         [-0.3463,  0.3407, -0.5955,  0.3029, -0.6530],\n",
      "         [-0.1293, -0.5286,  2.5180, -0.1145,  0.6909]],\n",
      "\n",
      "        [[-0.5631,  0.6595,  0.4995, -1.2066, -0.3440],\n",
      "         [ 0.1385, -0.0383, -0.0385, -0.2012,  1.9090],\n",
      "         [ 0.4554, -1.3648,  0.4208,  1.2158, -0.4393]]],\n",
      "       grad_fn=<EmbeddingBackward0>)\n"
     ]
    }
   ],
   "source": [
    "x = torch.LongTensor([[1,2,3], [4,5,6]])\n",
    "embeds = nn.Embedding(7,5)\n",
    "print(embeds(x))"
   ]
  },
  {
   "cell_type": "code",
   "execution_count": 52,
   "metadata": {},
   "outputs": [
    {
     "name": "stdout",
     "output_type": "stream",
     "text": [
      "tensor([[[-0.2119, -0.3106,  0.2821, -0.5430,  0.0373],\n",
      "         [-0.6810,  0.1177, -0.3397, -0.6144,  2.2208],\n",
      "         [ 1.4055, -0.2549,  1.7545,  1.1058, -0.0865]]],\n",
      "       grad_fn=<EmbeddingBackward0>)\n",
      "tensor([[[-1.3001,  0.3459,  0.2197, -0.0573, -0.4091],\n",
      "         [-0.7931,  0.3002,  0.0118, -2.0476, -0.5059]]],\n",
      "       grad_fn=<EmbeddingBackward0>)\n"
     ]
    },
    {
     "data": {
      "text/plain": [
       "Parameter containing:\n",
       "tensor([[-0.2119, -0.3106,  0.2821, -0.5430,  0.0373],\n",
       "        [-0.6810,  0.1177, -0.3397, -0.6144,  2.2208],\n",
       "        [ 1.4055, -0.2549,  1.7545,  1.1058, -0.0865],\n",
       "        [-1.3001,  0.3459,  0.2197, -0.0573, -0.4091],\n",
       "        [-0.7931,  0.3002,  0.0118, -2.0476, -0.5059],\n",
       "        [-1.2425,  1.1734, -0.7721,  0.7615, -0.7256]], requires_grad=True)"
      ]
     },
     "execution_count": 52,
     "metadata": {},
     "output_type": "execute_result"
    }
   ],
   "source": [
    "embeds = nn.Embedding(6,5)\n",
    "x1 = torch.LongTensor([[0,1,2]])\n",
    "x2 = torch.LongTensor([[3,4]])\n",
    "print(embeds(x1))\n",
    "print(embeds(x2))\n",
    "embeds.weight"
   ]
  },
  {
   "cell_type": "code",
   "execution_count": 53,
   "metadata": {},
   "outputs": [
    {
     "name": "stdout",
     "output_type": "stream",
     "text": [
      "tensor([[[-0.6861,  1.0274, -0.9390, -0.1321,  2.4225],\n",
      "         [-0.6270, -0.4294, -0.4379,  0.8927, -0.9003],\n",
      "         [ 1.3614,  0.0655,  0.5329, -0.9712,  0.2823]]],\n",
      "       grad_fn=<EmbeddingBackward0>)\n",
      "tensor([[[ 0.9803, -2.6386,  0.8132,  0.2225, -0.1751],\n",
      "         [-0.4112,  0.7099,  0.3317, -1.3171,  2.4717]]],\n",
      "       grad_fn=<EmbeddingBackward0>)\n",
      "tensor([[[ 0.9803, -2.6386,  0.8132,  0.2225, -0.1751],\n",
      "         [-0.4112,  0.7099,  0.3317, -1.3171,  2.4717]]],\n",
      "       grad_fn=<EmbeddingBackward0>)\n"
     ]
    },
    {
     "data": {
      "text/plain": [
       "Parameter containing:\n",
       "tensor([[-0.6861,  1.0274, -0.9390, -0.1321,  2.4225],\n",
       "        [-0.6270, -0.4294, -0.4379,  0.8927, -0.9003],\n",
       "        [ 1.3614,  0.0655,  0.5329, -0.9712,  0.2823],\n",
       "        [ 0.9803, -2.6386,  0.8132,  0.2225, -0.1751],\n",
       "        [-0.4112,  0.7099,  0.3317, -1.3171,  2.4717],\n",
       "        [ 0.0000,  0.0000,  0.0000,  0.0000,  0.0000]], requires_grad=True)"
      ]
     },
     "execution_count": 53,
     "metadata": {},
     "output_type": "execute_result"
    }
   ],
   "source": [
    "embeds = nn.Embedding(6,5,5)\n",
    "# embeds = nn.Embedding(6,5)\n",
    "x1 = torch.LongTensor([[0,1,2]])\n",
    "x2 = torch.LongTensor([[3,4]])\n",
    "x3 = torch.LongTensor([[3,4]])\n",
    "print(embeds(x1))\n",
    "print(embeds(x2))\n",
    "print(embeds(x3))\n",
    "embeds.weight"
   ]
  },
  {
   "cell_type": "markdown",
   "metadata": {},
   "source": [
    "- 以英文單字輸入:"
   ]
  },
  {
   "cell_type": "code",
   "execution_count": 54,
   "metadata": {},
   "outputs": [
    {
     "name": "stdout",
     "output_type": "stream",
     "text": [
      "tensor([[ 0.7408,  0.5885,  0.5094, -0.4898,  1.0571]],\n",
      "       grad_fn=<EmbeddingBackward0>)\n"
     ]
    }
   ],
   "source": [
    "# 測試資料\n",
    "word_to_ix = {\"hello\": 0, \"world\": 1}\n",
    "\n",
    "# 詞彙表含 2 個單字, 轉換為 5 維的向量\n",
    "embeds = nn.Embedding(2, 5)\n",
    "\n",
    "# 測試 hello\n",
    "lookup_tensor = torch.LongTensor([word_to_ix[\"hello\"]])\n",
    "hello_embed = embeds(lookup_tensor)\n",
    "print(hello_embed)"
   ]
  },
  {
   "cell_type": "markdown",
   "metadata": {},
   "source": [
    "## RNN 層測試"
   ]
  },
  {
   "cell_type": "markdown",
   "metadata": {},
   "source": [
    "- 測試: 輸入為二維 (L, $H_{in}$)"
   ]
  },
  {
   "cell_type": "code",
   "execution_count": 55,
   "metadata": {},
   "outputs": [
    {
     "name": "stdout",
     "output_type": "stream",
     "text": [
      "torch.Size([5, 20]) torch.Size([2, 20])\n"
     ]
    }
   ],
   "source": [
    "# 測試資料\n",
    "input = torch.randn(5, 10)\n",
    "\n",
    "# 建立 RNN 物件\n",
    "rnn = nn.RNN(10, 20, 2)\n",
    "\n",
    "# RNN 處理\n",
    "output, hn = rnn(input)\n",
    "\n",
    "# 顯示輸出及隱藏層的維度\n",
    "print(output.shape, hn.shape)"
   ]
  },
  {
   "cell_type": "markdown",
   "metadata": {},
   "source": [
    "- 測試: 輸入為三維 (L, N, $H_{in}$)"
   ]
  },
  {
   "cell_type": "code",
   "execution_count": 56,
   "metadata": {},
   "outputs": [
    {
     "name": "stdout",
     "output_type": "stream",
     "text": [
      "torch.Size([5, 4, 20]) torch.Size([2, 4, 20])\n"
     ]
    }
   ],
   "source": [
    "#  測試資料\n",
    "input = torch.randn(5, 4, 10)\n",
    "\n",
    "# 建立 RNN 物件\n",
    "rnn = nn.RNN(10, 20, 2)\n",
    "\n",
    "# RNN 處理\n",
    "output, hn = rnn(input)\n",
    "\n",
    "# 顯示輸出及隱藏層的維度\n",
    "print(output.shape, hn.shape)"
   ]
  },
  {
   "cell_type": "markdown",
   "metadata": {},
   "source": [
    "- RNN 的輸入可以有初始的隱藏層狀態 (h0), h0 最後一維需等於 $H_{out}$"
   ]
  },
  {
   "cell_type": "code",
   "execution_count": 57,
   "metadata": {},
   "outputs": [
    {
     "name": "stdout",
     "output_type": "stream",
     "text": [
      "torch.Size([5, 3, 20]) torch.Size([2, 3, 20])\n"
     ]
    }
   ],
   "source": [
    "# 測試資料\n",
    "input = torch.randn(5, 3, 10)\n",
    "\n",
    "# 建立 RNN 物件\n",
    "rnn = nn.RNN(10, 20, 2)\n",
    "\n",
    "# 隱藏層的輸入\n",
    "h0 = torch.randn(2, 3, 20)\n",
    "\n",
    "# RNN 處理\n",
    "output, hn = rnn(input, h0)\n",
    "\n",
    "# 顯示輸出及隱藏層的維度\n",
    "print(output.shape, hn.shape)"
   ]
  },
  {
   "cell_type": "markdown",
   "metadata": {},
   "source": [
    "## 分詞"
   ]
  },
  {
   "cell_type": "code",
   "execution_count": 58,
   "metadata": {},
   "outputs": [
    {
     "data": {
      "text/plain": [
       "['could', 'have', 'done', 'better', '.']"
      ]
     },
     "execution_count": 58,
     "metadata": {},
     "output_type": "execute_result"
    }
   ],
   "source": [
    "from torchtext.data.utils import get_tokenizer\n",
    "\n",
    "tokenizer = get_tokenizer(\"basic_english\")\n",
    "\n",
    "text = \"Could have done better.\"\n",
    "tokenizer(text)"
   ]
  },
  {
   "cell_type": "markdown",
   "metadata": {},
   "source": [
    "## 詞彙表處理"
   ]
  },
  {
   "cell_type": "code",
   "execution_count": 59,
   "metadata": {},
   "outputs": [
    {
     "data": {
      "text/plain": [
       "3"
      ]
     },
     "execution_count": 59,
     "metadata": {},
     "output_type": "execute_result"
    }
   ],
   "source": [
    "from torchtext.vocab import vocab\n",
    "from collections import Counter, OrderedDict\n",
    "\n",
    "# BOW 統計\n",
    "counter = Counter(tokenizer(text))\n",
    "\n",
    "# 依出現次數降冪排列\n",
    "sorted_by_freq_tuples = sorted(counter.items(),\n",
    "                                key = lambda x: x[1], reverse = True)\n",
    "\n",
    "# 建立詞彙字典\n",
    "ordered_dict = OrderedDict(sorted_by_freq_tuples)\n",
    "\n",
    "# 建立詞彙表物件, 並加一個未知單字(unknown)的索引值\n",
    "vocab_object = torchtext.vocab.vocab(ordered_dict, specials = [\"<unk>\"])\n",
    "\n",
    "# 設定詞彙表預設值為未知單字(unknown)的索引值\n",
    "vocab_object.set_default_index(vocab_object[\"<unk>\"])\n",
    "\n",
    "# 測試\n",
    "vocab_object[\"done\"]"
   ]
  },
  {
   "cell_type": "markdown",
   "metadata": {},
   "source": [
    "- 取得詞彙表的所有單字"
   ]
  },
  {
   "cell_type": "code",
   "execution_count": 60,
   "metadata": {},
   "outputs": [
    {
     "data": {
      "text/plain": [
       "['<unk>', 'could', 'have', 'done', 'better', '.']"
      ]
     },
     "execution_count": 60,
     "metadata": {},
     "output_type": "execute_result"
    }
   ],
   "source": [
    "vocab_object.get_itos()"
   ]
  },
  {
   "cell_type": "markdown",
   "metadata": {},
   "source": [
    "- 取得詞彙表的單字個數"
   ]
  },
  {
   "cell_type": "code",
   "execution_count": 61,
   "metadata": {},
   "outputs": [
    {
     "data": {
      "text/plain": [
       "6"
      ]
     },
     "execution_count": 61,
     "metadata": {},
     "output_type": "execute_result"
    }
   ],
   "source": [
    "vocab_object.__len__()"
   ]
  },
  {
   "cell_type": "markdown",
   "metadata": {},
   "source": [
    "- 字串標點"
   ]
  },
  {
   "cell_type": "code",
   "execution_count": 62,
   "metadata": {},
   "outputs": [
    {
     "data": {
      "text/plain": [
       "'!\"#$%&\\'()*+,-./:;<=>?@[\\\\]^_`{|}~'"
      ]
     },
     "execution_count": 62,
     "metadata": {},
     "output_type": "execute_result"
    }
   ],
   "source": [
    "import string\n",
    "\n",
    "string.punctuation"
   ]
  },
  {
   "cell_type": "markdown",
   "metadata": {},
   "source": [
    "- 資料轉換函數"
   ]
  },
  {
   "cell_type": "code",
   "execution_count": 63,
   "metadata": {},
   "outputs": [],
   "source": [
    "import string\n",
    "\n",
    "def create_vocabulary(text_list):\n",
    "    # 取得標點符號\n",
    "    stopwords = list(string.punctuation)\n",
    "\n",
    "    # 去除標點符號\n",
    "    clean_text_list = []\n",
    "    clean_tokens_list = []\n",
    "    for text in text_list:\n",
    "        tokens = tokenizer(text)\n",
    "        clean_tokens = []\n",
    "        for w in tokens:\n",
    "            if w not in stopwords:\n",
    "                clean_tokens.append(w)\n",
    "        clean_tokens_list += clean_tokens\n",
    "        clean_text_list.append(\" \".join(clean_tokens))\n",
    "\n",
    "    # 建立詞彙表物件\n",
    "    counter = Counter(clean_tokens_list)\n",
    "    sorted_by_freq_tuples = sorted(counter.items(),\n",
    "                                    key = lambda x: x[1], reverse = True)\n",
    "    ordered_dict = OrderedDict(sorted_by_freq_tuples)\n",
    "    vocab_object = torchtext.vocab.vocab(ordered_dict, specials = [\"<unk>\"])\n",
    "    vocab_object.set_default_index(vocab_object[\"<unk>\"])\n",
    "\n",
    "    # 將輸入字串轉為索引值: 自詞彙表物件查詢索引值\n",
    "    clean_index_list = []\n",
    "    for clean_tokens_list in clean_text_list:\n",
    "        clean_index_list.append(\n",
    "            vocab_object.lookup_indices(clean_tokens_list.split(\" \"))\n",
    "        )\n",
    "    \n",
    "    # 輸出詞彙表物件, 去除標點符號的字串陣列, 字串陣列的索引值\n",
    "    return vocab_object, clean_text_list, clean_index_list"
   ]
  },
  {
   "cell_type": "markdown",
   "metadata": {},
   "source": [
    "## 測試"
   ]
  },
  {
   "cell_type": "code",
   "execution_count": 64,
   "metadata": {},
   "outputs": [
    {
     "data": {
      "text/plain": [
       "['<unk>',\n",
       " 'work',\n",
       " 'done',\n",
       " 'good',\n",
       " 'effort',\n",
       " 'poor',\n",
       " 'well',\n",
       " 'great',\n",
       " 'nice',\n",
       " 'excellent',\n",
       " 'weak',\n",
       " 'not',\n",
       " 'could',\n",
       " 'have',\n",
       " 'better']"
      ]
     },
     "execution_count": 64,
     "metadata": {},
     "output_type": "execute_result"
    }
   ],
   "source": [
    "docs = [\"Well done!\",\n",
    "        \"Good work\",\n",
    "        \"Great effort\",\n",
    "        \"nice work\",\n",
    "        \"Excellent!\",\n",
    "        \"Weak\",\n",
    "        \"Poor effort!\",\n",
    "        \"not good\",\n",
    "        \"poor work\",\n",
    "        \"Could have done better.\"\n",
    "        ]\n",
    "\n",
    "vocab_object, clean_text_list, clean_index_list = create_vocabulary(docs)\n",
    "vocab_object.get_itos()"
   ]
  },
  {
   "cell_type": "code",
   "execution_count": 65,
   "metadata": {},
   "outputs": [
    {
     "data": {
      "text/plain": [
       "['well done',\n",
       " 'good work',\n",
       " 'great effort',\n",
       " 'nice work',\n",
       " 'excellent',\n",
       " 'weak',\n",
       " 'poor effort',\n",
       " 'not good',\n",
       " 'poor work',\n",
       " 'could have done better']"
      ]
     },
     "execution_count": 65,
     "metadata": {},
     "output_type": "execute_result"
    }
   ],
   "source": [
    "clean_text_list"
   ]
  },
  {
   "cell_type": "code",
   "execution_count": 66,
   "metadata": {},
   "outputs": [
    {
     "data": {
      "text/plain": [
       "[[6, 2],\n",
       " [3, 1],\n",
       " [7, 4],\n",
       " [8, 1],\n",
       " [9],\n",
       " [10],\n",
       " [5, 4],\n",
       " [11, 3],\n",
       " [5, 1],\n",
       " [12, 13, 2, 14]]"
      ]
     },
     "execution_count": 66,
     "metadata": {},
     "output_type": "execute_result"
    }
   ],
   "source": [
    "clean_index_list"
   ]
  },
  {
   "cell_type": "markdown",
   "metadata": {},
   "source": [
    "## 建立詞彙表: 整理輸入語句, 截長補短, 使語句長度一致"
   ]
  },
  {
   "cell_type": "code",
   "execution_count": 67,
   "metadata": {},
   "outputs": [
    {
     "data": {
      "text/plain": [
       "tensor([[ 6,  2,  0,  0],\n",
       "        [ 3,  1,  0,  0],\n",
       "        [ 7,  4,  0,  0],\n",
       "        [ 8,  1,  0,  0],\n",
       "        [ 9,  0,  0,  0],\n",
       "        [10,  0,  0,  0],\n",
       "        [ 5,  4,  0,  0],\n",
       "        [11,  3,  0,  0],\n",
       "        [ 5,  1,  0,  0],\n",
       "        [12, 13,  2, 14]])"
      ]
     },
     "execution_count": 67,
     "metadata": {},
     "output_type": "execute_result"
    }
   ],
   "source": [
    "maxlen = 4\n",
    "\n",
    "# 測試資料\n",
    "docs = [\"Well done!\",\n",
    "        \"Good work\",\n",
    "        \"Greate effort\",\n",
    "        \"nice work\",\n",
    "        \"Excellent!\",\n",
    "        \"Weak\",\n",
    "        \"Poor effort!\",\n",
    "        \"not good\",\n",
    "        \"poor work\",\n",
    "        \"Could have done better\"\n",
    "        ]\n",
    "\n",
    "vocab_object, clean_text_list, clean_index_list = create_vocabulary(docs)\n",
    "\n",
    "# 若字串過長, 刪除多餘單字\n",
    "clean_index_list = torchtext.functional.truncate(clean_index_list, maxlen)\n",
    "\n",
    "# 若字串長度不足, 後面補 0\n",
    "while len(clean_index_list[0]) < maxlen:\n",
    "    clean_index_list[0] += [0]\n",
    "\n",
    "torchtext.functional.to_tensor(clean_index_list, 0)"
   ]
  },
  {
   "cell_type": "markdown",
   "metadata": {},
   "source": [
    "## 嵌入層轉換"
   ]
  },
  {
   "cell_type": "code",
   "execution_count": 68,
   "metadata": {},
   "outputs": [
    {
     "name": "stdout",
     "output_type": "stream",
     "text": [
      "torch.Size([10, 4, 5])\n"
     ]
    }
   ],
   "source": [
    "# 測試\n",
    "embeds = nn.Embedding(vocab_object.__len__(), 5)\n",
    "X = torchtext.functional.to_tensor(clean_index_list, 0)\n",
    "embed_output = embeds(X)\n",
    "print(embed_output.shape)"
   ]
  },
  {
   "cell_type": "markdown",
   "metadata": {},
   "source": [
    "# 再加上完全連接層 (Linear)"
   ]
  },
  {
   "cell_type": "code",
   "execution_count": 70,
   "metadata": {},
   "outputs": [],
   "source": [
    "class RecurrentNet(nn.Module):\n",
    "    def __init__(self, vocab_size, embed_dim, num_class):\n",
    "        super().__init__()\n",
    "        self.embedding = nn.Embedding(vocab_size, embed_dim)\n",
    "        self.fc = nn.Linear(embed_dim * maxlen, num_class)\n",
    "        self.embed_dim = embed_dim\n",
    "        self.init_weights()\n",
    "\n",
    "    def init_weights(self):\n",
    "        initrange = 0.5\n",
    "        self.embedding.weight.data.uniform_(-initrange, initrange)\n",
    "        self.fc.weight.data.uniform_(-initrange, initrange)\n",
    "        self.fc.bias.data.zero_()\n",
    "\n",
    "    def forward(self, text):\n",
    "        embedded = self.embedding(text)\n",
    "        out = embedded.reshape(embedded.size(0), -1)\n",
    "        return self.fc(out)\n",
    "\n",
    "model = RecurrentNet(vocab_object.__len__(), 10, 1)"
   ]
  },
  {
   "cell_type": "markdown",
   "metadata": {},
   "source": [
    "## 模型訓練"
   ]
  },
  {
   "cell_type": "code",
   "execution_count": 71,
   "metadata": {},
   "outputs": [
    {
     "name": "stdout",
     "output_type": "stream",
     "text": [
      "Epoch: 0, loss: 1.00512\n",
      "Epoch: 100, loss: 0.10893\n",
      "Epoch: 200, loss: 0.00998\n",
      "Epoch: 300, loss: 0.00079\n",
      "Epoch: 400, loss: 0.00016\n",
      "Epoch: 500, loss: 0.00005\n",
      "Epoch: 600, loss: 0.00002\n",
      "Epoch: 700, loss: 0.00000\n",
      "Epoch: 800, loss: 0.00000\n",
      "Epoch: 900, loss: 0.00000\n"
     ]
    }
   ],
   "source": [
    "# 定義 10 個語句的正面 (1) 或負面 (0) 的情緒\n",
    "y = torch.FloatTensor([1,1,1,1,1,0,0,0,0,0])\n",
    "X = torchtext.functional.to_tensor(clean_index_list, 0)\n",
    "\n",
    "# 指定優化器, 損失函數\n",
    "criterion = torch.nn.MSELoss()\n",
    "optimizer = torch.optim.Adam(model.parameters())\n",
    "\n",
    "# 模型訓練\n",
    "for epoch in range(1000):\n",
    "    outputs = model.forward(X)\n",
    "    optimizer.zero_grad()\n",
    "    loss = criterion(outputs.reshape(-1), y)\n",
    "    loss.backward()\n",
    "    optimizer.step()\n",
    "    if epoch % 100 == 0:\n",
    "        print(f\"Epoch: {epoch}, loss: {loss.item():1.5f}\")"
   ]
  },
  {
   "cell_type": "markdown",
   "metadata": {},
   "source": [
    "## 訓練資料預測"
   ]
  },
  {
   "cell_type": "code",
   "execution_count": 72,
   "metadata": {},
   "outputs": [
    {
     "data": {
      "text/plain": [
       "tensor([[ 9.9998e-01],\n",
       "        [ 9.9993e-01],\n",
       "        [ 1.0001e+00],\n",
       "        [ 9.9989e-01],\n",
       "        [ 1.0000e+00],\n",
       "        [-1.7501e-05],\n",
       "        [-3.0486e-04],\n",
       "        [ 1.0513e-05],\n",
       "        [ 3.7056e-04],\n",
       "        [ 6.2585e-07]], grad_fn=<AddmmBackward0>)"
      ]
     },
     "execution_count": 72,
     "metadata": {},
     "output_type": "execute_result"
    }
   ],
   "source": [
    "model.eval()\n",
    "model(X)"
   ]
  },
  {
   "cell_type": "markdown",
   "metadata": {},
   "source": [
    "## 測試資料預測"
   ]
  },
  {
   "cell_type": "code",
   "execution_count": 73,
   "metadata": {},
   "outputs": [
    {
     "data": {
      "text/plain": [
       "tensor([[ 1.0085e+00],\n",
       "        [ 9.9998e-01],\n",
       "        [-3.0486e-04]], grad_fn=<AddmmBackward0>)"
      ]
     },
     "execution_count": 73,
     "metadata": {},
     "output_type": "execute_result"
    }
   ],
   "source": [
    "# 測試資料\n",
    "test_docs = [\"great efforts\", \"well done\", \"poor effort\"]\n",
    "\n",
    "# 轉成數值\n",
    "clean_index_list = []\n",
    "for text in test_docs:\n",
    "    clean_index_list.append(vocab_object.lookup_indices(text.split(\" \")))\n",
    "while len(clean_index_list[0]) < maxlen:\n",
    "    clean_index_list[0] += [0]\n",
    "\n",
    "clean_index_list = torchtext.functional.truncate(clean_index_list, maxlen)\n",
    "X = torchtext.functional.to_tensor(clean_index_list, 0)\n",
    "model(X)"
   ]
  }
 ],
 "metadata": {
  "kernelspec": {
   "display_name": "Python 3.9.12 ('dp1')",
   "language": "python",
   "name": "python3"
  },
  "language_info": {
   "codemirror_mode": {
    "name": "ipython",
    "version": 3
   },
   "file_extension": ".py",
   "mimetype": "text/x-python",
   "name": "python",
   "nbconvert_exporter": "python",
   "pygments_lexer": "ipython3",
   "version": "3.9.12"
  },
  "orig_nbformat": 4,
  "vscode": {
   "interpreter": {
    "hash": "11392ef459069d601d11ff7ceba327d19eb4b45e7e3534b48cc5347edbf5a449"
   }
  }
 },
 "nbformat": 4,
 "nbformat_minor": 2
}
