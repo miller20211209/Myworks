{
 "cells": [
  {
   "cell_type": "markdown",
   "metadata": {},
   "source": [
    "# RNN 簡單案例1"
   ]
  },
  {
   "cell_type": "markdown",
   "metadata": {},
   "source": [
    "## 建立資料轉換函數"
   ]
  },
  {
   "cell_type": "code",
   "execution_count": 21,
   "metadata": {},
   "outputs": [],
   "source": [
    "from sre_parse import Tokenizer\n",
    "import string\n",
    "from torchtext.vocab import vocab\n",
    "from collections import Counter, OrderedDict\n",
    "from torchtext.data.utils import get_tokenizer\n",
    "\n",
    "tokenizer = get_tokenizer(\"basic_english\")\n",
    "\n",
    "def create_vocabulary(text_list):\n",
    "    # 取得標點符號\n",
    "    stopwords = list(string.punctuation)\n",
    "\n",
    "    # 去除標點符號\n",
    "    clean_text_list = []\n",
    "    clean_tokens_list = []\n",
    "    for text in text_list:\n",
    "        tokens = tokenizer(text)\n",
    "        clean_tokens = []\n",
    "        for w in tokens:\n",
    "            if w not in stopwords:\n",
    "                clean_tokens.append(w)\n",
    "        clean_tokens_list += clean_tokens\n",
    "        clean_text_list.append(\" \".join(clean_tokens))\n",
    "    \n",
    "    # print(\"clean_tokens_list \\n\", clean_tokens_list)\n",
    "    # print(\"clean_text_list \\n\", clean_text_list)\n",
    "    \n",
    "    # 建立詞彙表物件\n",
    "    counter = Counter(clean_tokens_list)\n",
    "    sort_by_freq_tuples = sorted(counter.items(),\n",
    "                                key = lambda x: x[1], reverse = True)\n",
    "    ordered_dict = OrderedDict(sort_by_freq_tuples)\n",
    "    vocab_object = vocab(ordered_dict, specials = [\"<unk>\"])\n",
    "    vocab_object.set_default_index(vocab_object[\"<unk>\"])\n",
    "\n",
    "    # 將輸入字串轉為索引值 (從詞彙表物件查詢索引值)\n",
    "    clean_index_list = []\n",
    "    for clean_tokens_list in clean_text_list:\n",
    "        clean_index_list.append(\n",
    "            vocab_object.lookup_indices(clean_tokens_list.split(\" \"))\n",
    "        )\n",
    "\n",
    "    # 輸出詞彙表物件, 去除標點符號的字串陣列, 字串陣列的索引值\n",
    "    return vocab_object, clean_text_list, clean_index_list"
   ]
  },
  {
   "cell_type": "markdown",
   "metadata": {},
   "source": [
    "### 測試"
   ]
  },
  {
   "cell_type": "code",
   "execution_count": 26,
   "metadata": {},
   "outputs": [
    {
     "data": {
      "text/plain": [
       "['<unk>',\n",
       " 'work',\n",
       " 'done',\n",
       " 'good',\n",
       " 'well',\n",
       " 'great',\n",
       " 'effort',\n",
       " 'nice',\n",
       " 'excellent',\n",
       " 'weak',\n",
       " 'not',\n",
       " 'poor',\n",
       " 'could',\n",
       " 'have',\n",
       " 'beeter']"
      ]
     },
     "execution_count": 26,
     "metadata": {},
     "output_type": "execute_result"
    }
   ],
   "source": [
    "docss = [\"Well done!\",\n",
    "        \"Good work\",\n",
    "        \"Great effort\",\n",
    "        \"nice work\",\n",
    "        \"Excellent!!\",\n",
    "        \"Weak\",\n",
    "        \"not good\",\n",
    "        \"poor work\",\n",
    "        \"Could have done beeter.\"\n",
    "        ]\n",
    "\n",
    "vocab_objectt, clean_text_listt, clean_index_listt = create_vocabulary(docss)\n",
    "vocab_objectt.get_itos()"
   ]
  },
  {
   "cell_type": "code",
   "execution_count": 27,
   "metadata": {},
   "outputs": [
    {
     "data": {
      "text/plain": [
       "15"
      ]
     },
     "execution_count": 27,
     "metadata": {},
     "output_type": "execute_result"
    }
   ],
   "source": [
    "vocab_objectt.__len__()"
   ]
  },
  {
   "cell_type": "code",
   "execution_count": 28,
   "metadata": {},
   "outputs": [
    {
     "data": {
      "text/plain": [
       "['well done',\n",
       " 'good work',\n",
       " 'great effort',\n",
       " 'nice work',\n",
       " 'excellent',\n",
       " 'weak',\n",
       " 'not good',\n",
       " 'poor work',\n",
       " 'could have done beeter']"
      ]
     },
     "execution_count": 28,
     "metadata": {},
     "output_type": "execute_result"
    }
   ],
   "source": [
    "clean_text_listt"
   ]
  },
  {
   "cell_type": "code",
   "execution_count": 29,
   "metadata": {},
   "outputs": [
    {
     "data": {
      "text/plain": [
       "[[4, 2], [3, 1], [5, 6], [7, 1], [8], [9], [10, 3], [11, 1], [12, 13, 2, 14]]"
      ]
     },
     "execution_count": 29,
     "metadata": {},
     "output_type": "execute_result"
    }
   ],
   "source": [
    "clean_index_listt"
   ]
  },
  {
   "cell_type": "markdown",
   "metadata": {},
   "source": [
    "## 建立詞彙表\n",
    "- 整理輸入與句, 截長補短, 使語句長度一致"
   ]
  },
  {
   "cell_type": "code",
   "execution_count": 33,
   "metadata": {},
   "outputs": [
    {
     "data": {
      "text/plain": [
       "tensor([[ 6,  2,  0,  0],\n",
       "        [ 3,  1,  0,  0],\n",
       "        [ 7,  4,  0,  0],\n",
       "        [ 8,  1,  0,  0],\n",
       "        [ 9,  0,  0,  0],\n",
       "        [10,  0,  0,  0],\n",
       "        [ 5,  4,  0,  0],\n",
       "        [11,  3,  0,  0],\n",
       "        [ 5,  1,  0,  0],\n",
       "        [12, 13,  2, 14]])"
      ]
     },
     "execution_count": 33,
     "metadata": {},
     "output_type": "execute_result"
    }
   ],
   "source": [
    "import torchtext\n",
    "\n",
    "# 設定語句最大字數\n",
    "maxlen = 4\n",
    "\n",
    "# 測試資料\n",
    "docs = [\n",
    "        \"Well done!\",\n",
    "        \"Good work\",\n",
    "        \"Great effort\",\n",
    "        \"nice work\",\n",
    "        \"Excellent!\",\n",
    "        \"Weak\",\n",
    "        \"Poor effort!\",\n",
    "        \"not good\",\n",
    "        \"poor work\",\n",
    "        \"Could have done better\",\n",
    "]\n",
    "\n",
    "vocab_object, clean_text_list, clean_index_list = create_vocabulary(docs)\n",
    "# print(\"clean_index_list \\n\", clean_index_list)\n",
    "\n",
    "# 若字串過長, 刪除多餘單字\n",
    "clean_index_list = torchtext.functional.truncate(clean_index_list, maxlen)\n",
    "# print(\"clean_index_list \\n\", clean_index_list)\n",
    "\n",
    "# 若字串長度不足, 後面補 0\n",
    "while len(clean_index_list[0]) < maxlen:\n",
    "        clean_index_list[0] += [0]\n",
    "        # print(\"clean_index_list \\n\", clean_index_list)\n",
    "torchtext.functional.to_tensor(clean_index_list, 0)\n"
   ]
  },
  {
   "cell_type": "markdown",
   "metadata": {},
   "source": [
    "## 嵌入層轉換"
   ]
  },
  {
   "cell_type": "markdown",
   "metadata": {},
   "source": [
    "### 先測試看看"
   ]
  },
  {
   "cell_type": "code",
   "execution_count": 34,
   "metadata": {},
   "outputs": [
    {
     "name": "stdout",
     "output_type": "stream",
     "text": [
      "torch.Size([10, 4, 5])\n"
     ]
    }
   ],
   "source": [
    "# 測試\n",
    "import torch.nn as nn\n",
    "\n",
    "embeds = nn.Embedding(vocab_object.__len__(), 5)\n",
    "X = torchtext.functional.to_tensor(clean_index_list, 0)\n",
    "embed_output = embeds(X)\n",
    "print(embed_output.shape)"
   ]
  },
  {
   "cell_type": "markdown",
   "metadata": {},
   "source": [
    "# 再加上完全連接層(Linear)"
   ]
  },
  {
   "cell_type": "code",
   "execution_count": 35,
   "metadata": {},
   "outputs": [],
   "source": [
    "from turtle import forward\n",
    "import torch.nn as nn\n",
    "\n",
    "class RecurrentNet(nn.Module):\n",
    "    def __init__(self, vocab_size, embed_dim, num_class):\n",
    "        super().__init__()\n",
    "        self.embedding = nn.Embedding(vocab_size, embed_dim)\n",
    "        self.fc = nn.Linear(embed_dim * maxlen, num_class)      # 要乘以 maxlen\n",
    "        self.embed_dim = embed_dim\n",
    "        self.init_weights()\n",
    "\n",
    "    def init_weights(self):\n",
    "        initrange = 0.5\n",
    "        self.embedding.weight.data.uniform_(-initrange, initrange)\n",
    "        self.fc.weight.data.uniform_(-initrange, initrange)\n",
    "        self.fc.bias.data.zero_()\n",
    "\n",
    "    def forward(self, text):\n",
    "        embedded = self.embedding(text)\n",
    "        out = embedded.reshape(embedded.size(0), -1)    # 轉換成1維\n",
    "        return self.fc(out)\n",
    "\n",
    "model = RecurrentNet(vocab_object.__len__(), 10, 1)\n"
   ]
  },
  {
   "cell_type": "markdown",
   "metadata": {},
   "source": [
    "## 模型訓練"
   ]
  },
  {
   "cell_type": "code",
   "execution_count": 36,
   "metadata": {},
   "outputs": [
    {
     "name": "stdout",
     "output_type": "stream",
     "text": [
      "Epoch: 0, loss:  0.40235\n",
      "Epoch: 100, loss:  0.04761\n",
      "Epoch: 200, loss:  0.00702\n",
      "Epoch: 300, loss:  0.00127\n",
      "Epoch: 400, loss:  0.00015\n",
      "Epoch: 500, loss:  0.00001\n",
      "Epoch: 600, loss:  0.00000\n",
      "Epoch: 700, loss:  0.00000\n",
      "Epoch: 800, loss:  0.00000\n",
      "Epoch: 900, loss:  0.00000\n"
     ]
    }
   ],
   "source": [
    "import torch\n",
    "\n",
    "# 定義 10 個語句的正面 (1) 或負面 (0) 的情緒\n",
    "y = torch.FloatTensor([1,1,1,1,1,0,0,0,0,0])\n",
    "X = torchtext.functional.to_tensor(clean_index_list, 0)     # 不足補 0\n",
    "\n",
    "# 指定優化器, 損失函數\n",
    "criterion = torch.nn.MSELoss()\n",
    "optimizer = torch.optim.Adam(model.parameters())\n",
    "\n",
    "# 模型訓練\n",
    "for epoch in range(1000):\n",
    "    outputs = model.forward(X)  # forward pass\n",
    "    optimizer.zero_grad()\n",
    "    loss = criterion(outputs.reshape(-1), y)\n",
    "    loss.backward()\n",
    "    optimizer.step()\n",
    "    if epoch % 100 == 0:\n",
    "        #print(outputs.shape)\n",
    "        print(f\"Epoch: {epoch}, loss: {loss.item(): 1.5f}\")"
   ]
  },
  {
   "cell_type": "markdown",
   "metadata": {},
   "source": [
    "## 訓練資料預測 \n",
    "- 模型評估"
   ]
  },
  {
   "cell_type": "code",
   "execution_count": 37,
   "metadata": {},
   "outputs": [
    {
     "data": {
      "text/plain": [
       "tensor([[ 1.0000e+00],\n",
       "        [ 1.0000e+00],\n",
       "        [ 1.0000e+00],\n",
       "        [ 1.0000e+00],\n",
       "        [ 1.0000e+00],\n",
       "        [-1.3784e-07],\n",
       "        [-7.0408e-07],\n",
       "        [ 7.0781e-08],\n",
       "        [ 1.3486e-06],\n",
       "        [ 0.0000e+00]], grad_fn=<AddmmBackward0>)"
      ]
     },
     "execution_count": 37,
     "metadata": {},
     "output_type": "execute_result"
    }
   ],
   "source": [
    "model.eval()\n",
    "model(X)"
   ]
  },
  {
   "cell_type": "markdown",
   "metadata": {},
   "source": [
    "## 測試資料預測"
   ]
  },
  {
   "cell_type": "code",
   "execution_count": 38,
   "metadata": {},
   "outputs": [
    {
     "data": {
      "text/plain": [
       "tensor([[ 1.0000e+00],\n",
       "        [ 1.0000e+00],\n",
       "        [-6.7800e-07]], grad_fn=<AddmmBackward0>)"
      ]
     },
     "execution_count": 38,
     "metadata": {},
     "output_type": "execute_result"
    }
   ],
   "source": [
    "# 測試資料\n",
    "test_docs = [\"great effort\",\n",
    "                \"well done\",\n",
    "                \"poor effort\"\n",
    "                ]\n",
    "\n",
    "# 轉成數值\n",
    "clean_index_list = []\n",
    "for text in test_docs:\n",
    "    clean_index_list.append(vocab_object.lookup_indices(text.split(\" \")))\n",
    "\n",
    "while len(clean_index_list[0]) < maxlen:\n",
    "    clean_index_list[0] += [0]\n",
    "clean_index_list = torchtext.functional.truncate(clean_index_list, maxlen)\n",
    "X = torchtext.functional.to_tensor(clean_index_list, 0)\n",
    "\n",
    "model(X)"
   ]
  }
 ],
 "metadata": {
  "kernelspec": {
   "display_name": "Python 3.9.12 ('dp1')",
   "language": "python",
   "name": "python3"
  },
  "language_info": {
   "codemirror_mode": {
    "name": "ipython",
    "version": 3
   },
   "file_extension": ".py",
   "mimetype": "text/x-python",
   "name": "python",
   "nbconvert_exporter": "python",
   "pygments_lexer": "ipython3",
   "version": "3.9.12"
  },
  "orig_nbformat": 4,
  "vscode": {
   "interpreter": {
    "hash": "11392ef459069d601d11ff7ceba327d19eb4b45e7e3534b48cc5347edbf5a449"
   }
  }
 },
 "nbformat": 4,
 "nbformat_minor": 2
}
