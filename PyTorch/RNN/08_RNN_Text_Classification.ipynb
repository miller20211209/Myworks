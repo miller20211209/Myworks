{
 "cells": [
  {
   "cell_type": "markdown",
   "metadata": {},
   "source": [
    "# 與 07 差別在於 07 是 embedding + Linear, 而 08 則是 embedding + RNN"
   ]
  },
  {
   "cell_type": "markdown",
   "metadata": {},
   "source": [
    "# 文本分類 - RNN"
   ]
  },
  {
   "cell_type": "markdown",
   "metadata": {},
   "source": [
    "## 判斷 GPU 是否存在"
   ]
  },
  {
   "cell_type": "code",
   "execution_count": 21,
   "metadata": {},
   "outputs": [
    {
     "data": {
      "text/plain": [
       "device(type='cuda')"
      ]
     },
     "execution_count": 21,
     "metadata": {},
     "output_type": "execute_result"
    }
   ],
   "source": [
    "import torch\n",
    "\n",
    "device = torch.device(\"cuda\" if torch.cuda.is_available() else \"cpu\")\n",
    "device"
   ]
  },
  {
   "cell_type": "markdown",
   "metadata": {},
   "source": [
    "## 載入 AG News 資料集"
   ]
  },
  {
   "cell_type": "code",
   "execution_count": 22,
   "metadata": {},
   "outputs": [
    {
     "data": {
      "text/plain": [
       "torch.utils.data.datapipes.iter.grouping.ShardingFilterIterDataPipe"
      ]
     },
     "execution_count": 22,
     "metadata": {},
     "output_type": "execute_result"
    }
   ],
   "source": [
    "import torch\n",
    "from torchtext.datasets import AG_NEWS\n",
    "\n",
    "news = AG_NEWS(split = \"train\")\n",
    "type(news)"
   ]
  },
  {
   "cell_type": "markdown",
   "metadata": {},
   "source": [
    "- 訓練數據迭代器"
   ]
  },
  {
   "cell_type": "code",
   "execution_count": 23,
   "metadata": {},
   "outputs": [],
   "source": [
    "train_iter = iter(AG_NEWS(split = \"train\"))"
   ]
  },
  {
   "cell_type": "markdown",
   "metadata": {},
   "source": [
    "- 取得下一筆資料"
   ]
  },
  {
   "cell_type": "code",
   "execution_count": 24,
   "metadata": {},
   "outputs": [
    {
     "data": {
      "text/plain": [
       "(3,\n",
       " \"Wall St. Bears Claw Back Into the Black (Reuters) Reuters - Short-sellers, Wall Street's dwindling\\\\band of ultra-cynics, are seeing green again.\")"
      ]
     },
     "execution_count": 24,
     "metadata": {},
     "output_type": "execute_result"
    }
   ],
   "source": [
    "next(train_iter)"
   ]
  },
  {
   "cell_type": "markdown",
   "metadata": {},
   "source": [
    "- 再取下一筆"
   ]
  },
  {
   "cell_type": "code",
   "execution_count": 25,
   "metadata": {},
   "outputs": [
    {
     "data": {
      "text/plain": [
       "(3,\n",
       " 'Carlyle Looks Toward Commercial Aerospace (Reuters) Reuters - Private investment firm Carlyle Group,\\\\which has a reputation for making well-timed and occasionally\\\\controversial plays in the defense industry, has quietly placed\\\\its bets on another part of the market.')"
      ]
     },
     "execution_count": 25,
     "metadata": {},
     "output_type": "execute_result"
    }
   ],
   "source": [
    "next(train_iter)"
   ]
  },
  {
   "cell_type": "markdown",
   "metadata": {},
   "source": [
    "## 詞彙表處理"
   ]
  },
  {
   "cell_type": "code",
   "execution_count": 26,
   "metadata": {},
   "outputs": [],
   "source": [
    "# 導入分詞工具\n",
    "from torchtext.data.utils import get_tokenizer\n",
    "# 使用迭代器建構詞彙表\n",
    "from torchtext.vocab import build_vocab_from_iterator\n",
    "\n",
    "tokenizer = get_tokenizer(\"basic_english\")\n",
    "\n",
    "# 建立 Generator (分詞生成器)\n",
    "def yield_tokens(data_iter):\n",
    "    for _, text in data_iter:    # 獲取每一條的標籤 label 和內容 text\n",
    "        yield tokenizer(text)   # 獲取內容分詞, 並返回. yield 返回一個迭代器對象\n",
    "\n",
    "# 由 train_iter 建立詞彙字典\n",
    "vocab = build_vocab_from_iterator(yield_tokens(train_iter), specials = [\"<unk>\"])\n",
    "\n",
    "# 設定預設的索引值\n",
    "vocab.set_default_index(vocab[\"<unk>\"])"
   ]
  },
  {
   "cell_type": "code",
   "execution_count": 27,
   "metadata": {},
   "outputs": [
    {
     "data": {
      "text/plain": [
       "[475, 21, 30, 5297]"
      ]
     },
     "execution_count": 27,
     "metadata": {},
     "output_type": "execute_result"
    }
   ],
   "source": [
    "# 測試詞彙字典, 取得單字的索引值\n",
    "vocab([\"here\", \"is\", \"an\", \"example\"])"
   ]
  },
  {
   "cell_type": "markdown",
   "metadata": {},
   "source": [
    "## 設定超參數"
   ]
  },
  {
   "cell_type": "code",
   "execution_count": 28,
   "metadata": {},
   "outputs": [],
   "source": [
    "EPOCHS = 10\n",
    "LR = 5\n",
    "BATCH_SIZE = 64"
   ]
  },
  {
   "cell_type": "markdown",
   "metadata": {},
   "source": [
    "# 取得標註個數, 詞彙表大小, 詞嵌入維度"
   ]
  },
  {
   "cell_type": "code",
   "execution_count": 29,
   "metadata": {},
   "outputs": [],
   "source": [
    "num_class = len(set([label for (label, text) in news]))\n",
    "\n",
    "vocab_size = len(vocab)\n",
    "\n",
    "emsize = 64"
   ]
  },
  {
   "cell_type": "markdown",
   "metadata": {},
   "source": [
    "## 定義資料轉換函數"
   ]
  },
  {
   "cell_type": "code",
   "execution_count": 30,
   "metadata": {},
   "outputs": [],
   "source": [
    "# 分詞, 取得單字的索引值\n",
    "# 獲取每一條的 text 的索引表示\n",
    "text_pipeline = lambda x: vocab(tokenizer(x))\n",
    "\n",
    "# 換成索引值, 獲取對應的 label\n",
    "label_pipeline = lambda x: int(x) - 1"
   ]
  },
  {
   "cell_type": "markdown",
   "metadata": {},
   "source": [
    "## 建立 DataLoader"
   ]
  },
  {
   "cell_type": "code",
   "execution_count": 31,
   "metadata": {},
   "outputs": [],
   "source": [
    "from torch.utils.data import DataLoader\n",
    "from torch.utils.data.dataset import random_split\n",
    "from torchtext.data.functional import to_map_style_dataset\n",
    "\n",
    "# 批次處理\n",
    "# 定義 collate_batch 函數, 在 DataLoader 中會使用, 對傳入的樣本數據進行批量處理\n",
    "def collate_batch(batch):\n",
    "    # 用 list 存放 label, text 及 offsets\n",
    "    # label_list: batch 中, 每個 text 的 label\n",
    "    # text_list: batch 中, 每個 text 轉換成詞彙表的索引\n",
    "    # 其中 offsets 是用來存放每條 text 的偏移量 (batch 中, 每個 text 的長度)\n",
    "    label_list, text_list, offsets = [], [], [0]\n",
    "    for (_label, _text) in batch:\n",
    "        label_list.append(label_pipeline(_label))\n",
    "        processed_text = torch.tensor(text_pipeline(_text), dtype = torch.int64)\n",
    "        text_list.append(processed_text)\n",
    "        # 將每一條數據的長度放入 offsets 列表中\n",
    "        offsets.append(processed_text.size(0))\n",
    "    label_list = torch.tensor(label_list, dtype = torch.int64)\n",
    "    # 計算出每一條 text 的偏移量, 其中 cumsum 用來計算一個數組各行的累加值\n",
    "    offsets = torch.tensor(offsets[:-1]).cumsum(dim = 0)    # 單字的索引值累加\n",
    "    text_list = torch.cat(text_list)\n",
    "    return label_list.to(device), text_list.to(device), offsets.to(device)\n",
    "\n",
    "train_iter, test_iter = AG_NEWS()\n",
    "# 轉換為 Dataset\n",
    "train_dataset = to_map_style_dataset(train_iter)\n",
    "test_dataset = to_map_style_dataset(test_iter)\n",
    "\n",
    "# 資料切割, 95% 作為訓練資料\n",
    "num_train = int(len(train_dataset) * 0.95)\n",
    "split_train_, split_valid_ = \\\n",
    "    random_split(train_dataset, [num_train, len(train_dataset) - num_train])\n",
    "\n",
    "# 建立 Dataloader\n",
    "train_dataloader = DataLoader(split_train_, batch_size = BATCH_SIZE,\n",
    "                                shuffle = True, collate_fn = collate_batch)\n",
    "valid_dataloader = DataLoader(split_valid_, batch_size = BATCH_SIZE,\n",
    "                                shuffle = True, collate_fn = collate_batch)\n",
    "test_dataloader = DataLoader(test_dataset, batch_size = BATCH_SIZE,\n",
    "                                shuffle = True, collate_fn = collate_batch)"
   ]
  },
  {
   "cell_type": "markdown",
   "metadata": {},
   "source": [
    "## 建立模型 (RNN model)"
   ]
  },
  {
   "cell_type": "code",
   "execution_count": 32,
   "metadata": {},
   "outputs": [],
   "source": [
    "from torch import nn\n",
    "\n",
    "class TextClassficationModel(nn.Module):\n",
    "    def __init__(self, vocab_size, embed_dim, num_class):\n",
    "        super().__init__()\n",
    "        self.embedding = nn.EmbeddingBag(vocab_size, embed_dim, sparse = True)\n",
    "        self.rnn = nn.RNN(embed_dim, 32)\n",
    "        self.fc = nn.Linear(32, num_class)\n",
    "        self.init_weights()\n",
    "\n",
    "    def init_weights(self):\n",
    "        initrange = 0.5\n",
    "        self.embedding.weight.data.uniform_(-initrange, initrange)\n",
    "        self.fc.weight.data.uniform_(-initrange, initrange)\n",
    "        self.fc.bias.data.zero_()\n",
    "\n",
    "    def forward(self, text, offsets):\n",
    "        embedded = self.embedding(text, offsets)\n",
    "        rnn_out, h_out = self.rnn(embedded)\n",
    "        return self.fc(rnn_out)\n",
    "\n",
    "model = TextClassficationModel(vocab_size, emsize, num_class).to(device)"
   ]
  },
  {
   "cell_type": "markdown",
   "metadata": {},
   "source": [
    "## 定義損失函數, 優化器及學習率調整器"
   ]
  },
  {
   "cell_type": "code",
   "execution_count": 33,
   "metadata": {},
   "outputs": [],
   "source": [
    "criterion = torch.nn.CrossEntropyLoss()\n",
    "optimizer = torch.optim.SGD(model.parameters(), lr = LR)\n",
    "scheduler = torch.optim.lr_scheduler.StepLR(optimizer, 1.0, gamma = 0.1)"
   ]
  },
  {
   "cell_type": "markdown",
   "metadata": {},
   "source": [
    "## 定義訓練及評估函數"
   ]
  },
  {
   "cell_type": "code",
   "execution_count": 34,
   "metadata": {},
   "outputs": [],
   "source": [
    "import time\n",
    "\n",
    "# 訓練函數\n",
    "def train(dataloader):\n",
    "    model.train()\n",
    "    total_acc, total_count = 0, 0\n",
    "    log_interval = 500\n",
    "    start_time = time.time()\n",
    "\n",
    "    for idx, (label, text, offsets) in enumerate(dataloader):\n",
    "        optimizer.zero_grad()\n",
    "        predicted_label = model(text, offsets)\n",
    "        loss = criterion(predicted_label, label)\n",
    "        loss.backward()\n",
    "        torch.nn.utils.clip_grad_norm_(model.parameters(), 0.1)\n",
    "        optimizer.step()\n",
    "        total_acc += (predicted_label.argmax(1) == label).sum().item()\n",
    "        total_count += label.size(0)\n",
    "        if idx % log_interval == 0 and idx > 0:\n",
    "            elapsed = time.time() - start_time\n",
    "            print(\"| epoch {:3d} | {:5d}/{:5d} batches \"\n",
    "                    \"| accuracy {:8.3f}\".format(epoch, idx, len(dataloader), \n",
    "                                                total_acc/total_count))\n",
    "            total_acc, total_count = 0, 0\n",
    "            start_time = time.time()\n",
    "\n",
    "# 評估函數\n",
    "def evaluate(dataloader):\n",
    "    model.eval()\n",
    "    total_acc, total_count = 0, 0\n",
    "\n",
    "    with torch.no_grad():\n",
    "        for idx, (label, text, offsets) in enumerate(dataloader):\n",
    "            predicted_label = model(text, offsets)\n",
    "            loss = criterion(predicted_label, label)\n",
    "            total_acc += (predicted_label.argmax(1) == label).sum().item()\n",
    "            total_count += label.size(0)\n",
    "    return total_acc/total_count"
   ]
  },
  {
   "cell_type": "markdown",
   "metadata": {},
   "source": [
    "## 模型訓練"
   ]
  },
  {
   "cell_type": "code",
   "execution_count": 35,
   "metadata": {},
   "outputs": [
    {
     "name": "stdout",
     "output_type": "stream",
     "text": [
      "| epoch   1 |   500/ 1782 batches | accuracy    0.555\n",
      "| epoch   1 |  1000/ 1782 batches | accuracy    0.767\n",
      "| epoch   1 |  1500/ 1782 batches | accuracy    0.817\n",
      "-----------------------------------------------------------\n",
      "| end of epoch   1 | time:  8.57s | valid acuracy    0.852 \n",
      "-----------------------------------------------------------\n",
      "| epoch   2 |   500/ 1782 batches | accuracy    0.859\n",
      "| epoch   2 |  1000/ 1782 batches | accuracy    0.873\n",
      "| epoch   2 |  1500/ 1782 batches | accuracy    0.870\n",
      "-----------------------------------------------------------\n",
      "| end of epoch   2 | time:  8.35s | valid acuracy    0.868 \n",
      "-----------------------------------------------------------\n",
      "| epoch   3 |   500/ 1782 batches | accuracy    0.890\n",
      "| epoch   3 |  1000/ 1782 batches | accuracy    0.892\n",
      "| epoch   3 |  1500/ 1782 batches | accuracy    0.895\n",
      "-----------------------------------------------------------\n",
      "| end of epoch   3 | time:  8.31s | valid acuracy    0.891 \n",
      "-----------------------------------------------------------\n",
      "| epoch   4 |   500/ 1782 batches | accuracy    0.901\n",
      "| epoch   4 |  1000/ 1782 batches | accuracy    0.906\n",
      "| epoch   4 |  1500/ 1782 batches | accuracy    0.905\n",
      "-----------------------------------------------------------\n",
      "| end of epoch   4 | time:  8.36s | valid acuracy    0.900 \n",
      "-----------------------------------------------------------\n",
      "| epoch   5 |   500/ 1782 batches | accuracy    0.915\n",
      "| epoch   5 |  1000/ 1782 batches | accuracy    0.910\n",
      "| epoch   5 |  1500/ 1782 batches | accuracy    0.913\n",
      "-----------------------------------------------------------\n",
      "| end of epoch   5 | time:  8.49s | valid acuracy    0.885 \n",
      "-----------------------------------------------------------\n",
      "| epoch   6 |   500/ 1782 batches | accuracy    0.930\n",
      "| epoch   6 |  1000/ 1782 batches | accuracy    0.933\n",
      "| epoch   6 |  1500/ 1782 batches | accuracy    0.933\n",
      "-----------------------------------------------------------\n",
      "| end of epoch   6 | time:  8.33s | valid acuracy    0.913 \n",
      "-----------------------------------------------------------\n",
      "| epoch   7 |   500/ 1782 batches | accuracy    0.935\n",
      "| epoch   7 |  1000/ 1782 batches | accuracy    0.934\n",
      "| epoch   7 |  1500/ 1782 batches | accuracy    0.933\n",
      "-----------------------------------------------------------\n",
      "| end of epoch   7 | time:  8.33s | valid acuracy    0.915 \n",
      "-----------------------------------------------------------\n",
      "| epoch   8 |   500/ 1782 batches | accuracy    0.936\n",
      "| epoch   8 |  1000/ 1782 batches | accuracy    0.938\n",
      "| epoch   8 |  1500/ 1782 batches | accuracy    0.933\n",
      "-----------------------------------------------------------\n",
      "| end of epoch   8 | time:  8.31s | valid acuracy    0.911 \n",
      "-----------------------------------------------------------\n",
      "| epoch   9 |   500/ 1782 batches | accuracy    0.937\n",
      "| epoch   9 |  1000/ 1782 batches | accuracy    0.938\n",
      "| epoch   9 |  1500/ 1782 batches | accuracy    0.937\n",
      "-----------------------------------------------------------\n",
      "| end of epoch   9 | time:  8.30s | valid acuracy    0.915 \n",
      "-----------------------------------------------------------\n",
      "| epoch  10 |   500/ 1782 batches | accuracy    0.940\n",
      "| epoch  10 |  1000/ 1782 batches | accuracy    0.938\n",
      "| epoch  10 |  1500/ 1782 batches | accuracy    0.934\n",
      "-----------------------------------------------------------\n",
      "| end of epoch  10 | time:  8.26s | valid acuracy    0.915 \n",
      "-----------------------------------------------------------\n"
     ]
    }
   ],
   "source": [
    "total_accu = None\n",
    "for epoch in range(1, EPOCHS + 1):\n",
    "    epoch_start_time = time.time()\n",
    "    train(train_dataloader)\n",
    "    accu_val = evaluate(valid_dataloader)\n",
    "    if total_accu is not None and total_accu > accu_val:\n",
    "        scheduler.step()\n",
    "    else:\n",
    "        total_accu = accu_val\n",
    "    print(\"-\" * 59)\n",
    "    print(\"| end of epoch {:3d} | time: {:5.2f}s | \"\n",
    "            \"valid acuracy {:8.3f} \".format(epoch,\n",
    "                                            time.time() - epoch_start_time,\n",
    "                                            accu_val))\n",
    "    print(\"-\" * 59)"
   ]
  },
  {
   "cell_type": "markdown",
   "metadata": {},
   "source": [
    "## 模型評估"
   ]
  },
  {
   "cell_type": "code",
   "execution_count": 36,
   "metadata": {},
   "outputs": [
    {
     "name": "stdout",
     "output_type": "stream",
     "text": [
      "測試資料準確度: 0.9064473684210527\n"
     ]
    }
   ],
   "source": [
    "print(f\"測試資料準確度: {evaluate(test_dataloader)}\")"
   ]
  },
  {
   "cell_type": "markdown",
   "metadata": {},
   "source": [
    "## 測試新資料 (第一種寫法)\n",
    "- 注意: 第一種寫法與第二種寫法要分開執行, 不能接續執行"
   ]
  },
  {
   "cell_type": "code",
   "execution_count": 37,
   "metadata": {},
   "outputs": [
    {
     "name": "stdout",
     "output_type": "stream",
     "text": [
      "This is a Sports news\n"
     ]
    }
   ],
   "source": [
    "# 新聞類別\n",
    "ag_news_label = {1: \"World\",\n",
    "                2: \"Sports\",\n",
    "                3: \"Business\",\n",
    "                4: \"Sci/Tec\"}\n",
    "\n",
    "# 預測\n",
    "def predict(text, text_pipeline):\n",
    "    with torch.no_grad():\n",
    "        text = torch.tensor(text_pipeline(text))\n",
    "        output = model(text, torch.tensor([0]))\n",
    "        return output.argmax(1).item() + 1\n",
    "\n",
    "# 測試資料\n",
    "ex_text_str = \"MEMPHIS, Tenn. – Four days ago, Jon Rahm was \\\n",
    "    enduring the season’s worst weather conditions on Sunday at The \\\n",
    "    Open on his way to a closing 75 at Royal Portrush, which \\\n",
    "    considering the wind and the rain was a respectable showing. \\\n",
    "    Thursday’s first round at the WGC-FedEx St. Jude Invitational \\\n",
    "    was another story. With temperatures in the mid-80s and hardly any \\\n",
    "    wind, the Spaniard was 13 strokes better in a flawless round. \\\n",
    "    Thanks to his best putting performance on the PGA Tour, Rahm \\\n",
    "    finished with an 8-under 62 for a three-stroke lead, which \\\n",
    "    was even more impressive considering he’d never played the \\\n",
    "    front nine at TPC Southwind.\"\n",
    "\n",
    "model = model.to(\"cpu\")\n",
    "res = predict(ex_text_str, text_pipeline)\n",
    "print(\"This is a %s news\" %ag_news_label[res])"
   ]
  },
  {
   "cell_type": "markdown",
   "metadata": {},
   "source": [
    "## 測試新資料 (第二種寫法)"
   ]
  },
  {
   "cell_type": "code",
   "execution_count": 38,
   "metadata": {},
   "outputs": [
    {
     "ename": "RuntimeError",
     "evalue": "Expected all tensors to be on the same device, but found at least two devices, cpu and cuda:0! (when checking argument for argument indices in method wrapper___embedding_bag)",
     "output_type": "error",
     "traceback": [
      "\u001b[1;31m---------------------------------------------------------------------------\u001b[0m",
      "\u001b[1;31mRuntimeError\u001b[0m                              Traceback (most recent call last)",
      "\u001b[1;32md:\\巨匠\\Python\\works\\RNN\\08_RNN_Text_Classification.ipynb Cell 37\u001b[0m in \u001b[0;36m<cell line: 29>\u001b[1;34m()\u001b[0m\n\u001b[0;32m     <a href='vscode-notebook-cell:/d%3A/%E5%B7%A8%E5%8C%A0/Python/works/RNN/08_RNN_Text_Classification.ipynb#X51sZmlsZQ%3D%3D?line=14'>15</a>\u001b[0m ex_text_str \u001b[39m=\u001b[39m \u001b[39m\"\u001b[39m\u001b[39mMEMPHIS, Tenn. – Four days ago, Jon Rahm was \u001b[39m\u001b[39m\\\u001b[39;00m\n\u001b[0;32m     <a href='vscode-notebook-cell:/d%3A/%E5%B7%A8%E5%8C%A0/Python/works/RNN/08_RNN_Text_Classification.ipynb#X51sZmlsZQ%3D%3D?line=15'>16</a>\u001b[0m \u001b[39m    enduring the season’s worst weather conditions on Sunday at The \u001b[39m\u001b[39m\\\u001b[39;00m\n\u001b[0;32m     <a href='vscode-notebook-cell:/d%3A/%E5%B7%A8%E5%8C%A0/Python/works/RNN/08_RNN_Text_Classification.ipynb#X51sZmlsZQ%3D%3D?line=16'>17</a>\u001b[0m \u001b[39m    Open on his way to a closing 75 at Royal Portrush, which \u001b[39m\u001b[39m\\\u001b[39;00m\n\u001b[1;32m   (...)\u001b[0m\n\u001b[0;32m     <a href='vscode-notebook-cell:/d%3A/%E5%B7%A8%E5%8C%A0/Python/works/RNN/08_RNN_Text_Classification.ipynb#X51sZmlsZQ%3D%3D?line=23'>24</a>\u001b[0m \u001b[39m    was even more impressive considering he’d never played the \u001b[39m\u001b[39m\\\u001b[39;00m\n\u001b[0;32m     <a href='vscode-notebook-cell:/d%3A/%E5%B7%A8%E5%8C%A0/Python/works/RNN/08_RNN_Text_Classification.ipynb#X51sZmlsZQ%3D%3D?line=24'>25</a>\u001b[0m \u001b[39m    front nine at TPC Southwind.\u001b[39m\u001b[39m\"\u001b[39m\n\u001b[0;32m     <a href='vscode-notebook-cell:/d%3A/%E5%B7%A8%E5%8C%A0/Python/works/RNN/08_RNN_Text_Classification.ipynb#X51sZmlsZQ%3D%3D?line=26'>27</a>\u001b[0m \u001b[39m# print(ag_news_label[predict(ex_text_str, text_pipeline)])\u001b[39;00m\n\u001b[1;32m---> <a href='vscode-notebook-cell:/d%3A/%E5%B7%A8%E5%8C%A0/Python/works/RNN/08_RNN_Text_Classification.ipynb#X51sZmlsZQ%3D%3D?line=28'>29</a>\u001b[0m res \u001b[39m=\u001b[39m predict2(ex_text_str, text_pipeline)\n\u001b[0;32m     <a href='vscode-notebook-cell:/d%3A/%E5%B7%A8%E5%8C%A0/Python/works/RNN/08_RNN_Text_Classification.ipynb#X51sZmlsZQ%3D%3D?line=29'>30</a>\u001b[0m \u001b[39mprint\u001b[39m(\u001b[39m\"\u001b[39m\u001b[39mThis is a \u001b[39m\u001b[39m%s\u001b[39;00m\u001b[39m news\u001b[39m\u001b[39m\"\u001b[39m \u001b[39m%\u001b[39mag_news_label[res])\n",
      "\u001b[1;32md:\\巨匠\\Python\\works\\RNN\\08_RNN_Text_Classification.ipynb Cell 37\u001b[0m in \u001b[0;36mpredict2\u001b[1;34m(text, text_pipeline)\u001b[0m\n\u001b[0;32m      <a href='vscode-notebook-cell:/d%3A/%E5%B7%A8%E5%8C%A0/Python/works/RNN/08_RNN_Text_Classification.ipynb#X51sZmlsZQ%3D%3D?line=8'>9</a>\u001b[0m \u001b[39mwith\u001b[39;00m torch\u001b[39m.\u001b[39mno_grad():\n\u001b[0;32m     <a href='vscode-notebook-cell:/d%3A/%E5%B7%A8%E5%8C%A0/Python/works/RNN/08_RNN_Text_Classification.ipynb#X51sZmlsZQ%3D%3D?line=9'>10</a>\u001b[0m     text \u001b[39m=\u001b[39m torch\u001b[39m.\u001b[39mtensor(text_pipeline(text))\u001b[39m.\u001b[39mto(device)\n\u001b[1;32m---> <a href='vscode-notebook-cell:/d%3A/%E5%B7%A8%E5%8C%A0/Python/works/RNN/08_RNN_Text_Classification.ipynb#X51sZmlsZQ%3D%3D?line=10'>11</a>\u001b[0m     output \u001b[39m=\u001b[39m model(text, torch\u001b[39m.\u001b[39;49mtensor([\u001b[39m0\u001b[39;49m])\u001b[39m.\u001b[39;49mto(device))\n\u001b[0;32m     <a href='vscode-notebook-cell:/d%3A/%E5%B7%A8%E5%8C%A0/Python/works/RNN/08_RNN_Text_Classification.ipynb#X51sZmlsZQ%3D%3D?line=11'>12</a>\u001b[0m     \u001b[39mreturn\u001b[39;00m output\u001b[39m.\u001b[39margmax(\u001b[39m1\u001b[39m)\u001b[39m.\u001b[39mitem() \u001b[39m+\u001b[39m \u001b[39m1\u001b[39m\n",
      "File \u001b[1;32md:\\Anaconda\\envs\\dp1\\lib\\site-packages\\torch\\nn\\modules\\module.py:1130\u001b[0m, in \u001b[0;36mModule._call_impl\u001b[1;34m(self, *input, **kwargs)\u001b[0m\n\u001b[0;32m   1126\u001b[0m \u001b[39m# If we don't have any hooks, we want to skip the rest of the logic in\u001b[39;00m\n\u001b[0;32m   1127\u001b[0m \u001b[39m# this function, and just call forward.\u001b[39;00m\n\u001b[0;32m   1128\u001b[0m \u001b[39mif\u001b[39;00m \u001b[39mnot\u001b[39;00m (\u001b[39mself\u001b[39m\u001b[39m.\u001b[39m_backward_hooks \u001b[39mor\u001b[39;00m \u001b[39mself\u001b[39m\u001b[39m.\u001b[39m_forward_hooks \u001b[39mor\u001b[39;00m \u001b[39mself\u001b[39m\u001b[39m.\u001b[39m_forward_pre_hooks \u001b[39mor\u001b[39;00m _global_backward_hooks\n\u001b[0;32m   1129\u001b[0m         \u001b[39mor\u001b[39;00m _global_forward_hooks \u001b[39mor\u001b[39;00m _global_forward_pre_hooks):\n\u001b[1;32m-> 1130\u001b[0m     \u001b[39mreturn\u001b[39;00m forward_call(\u001b[39m*\u001b[39m\u001b[39minput\u001b[39m, \u001b[39m*\u001b[39m\u001b[39m*\u001b[39mkwargs)\n\u001b[0;32m   1131\u001b[0m \u001b[39m# Do not call functions when jit is used\u001b[39;00m\n\u001b[0;32m   1132\u001b[0m full_backward_hooks, non_full_backward_hooks \u001b[39m=\u001b[39m [], []\n",
      "\u001b[1;32md:\\巨匠\\Python\\works\\RNN\\08_RNN_Text_Classification.ipynb Cell 37\u001b[0m in \u001b[0;36mTextClassficationModel.forward\u001b[1;34m(self, text, offsets)\u001b[0m\n\u001b[0;32m     <a href='vscode-notebook-cell:/d%3A/%E5%B7%A8%E5%8C%A0/Python/works/RNN/08_RNN_Text_Classification.ipynb#X51sZmlsZQ%3D%3D?line=16'>17</a>\u001b[0m \u001b[39mdef\u001b[39;00m \u001b[39mforward\u001b[39m(\u001b[39mself\u001b[39m, text, offsets):\n\u001b[1;32m---> <a href='vscode-notebook-cell:/d%3A/%E5%B7%A8%E5%8C%A0/Python/works/RNN/08_RNN_Text_Classification.ipynb#X51sZmlsZQ%3D%3D?line=17'>18</a>\u001b[0m     embedded \u001b[39m=\u001b[39m \u001b[39mself\u001b[39;49m\u001b[39m.\u001b[39;49membedding(text, offsets)\n\u001b[0;32m     <a href='vscode-notebook-cell:/d%3A/%E5%B7%A8%E5%8C%A0/Python/works/RNN/08_RNN_Text_Classification.ipynb#X51sZmlsZQ%3D%3D?line=18'>19</a>\u001b[0m     rnn_out, h_out \u001b[39m=\u001b[39m \u001b[39mself\u001b[39m\u001b[39m.\u001b[39mrnn(embedded)\n\u001b[0;32m     <a href='vscode-notebook-cell:/d%3A/%E5%B7%A8%E5%8C%A0/Python/works/RNN/08_RNN_Text_Classification.ipynb#X51sZmlsZQ%3D%3D?line=19'>20</a>\u001b[0m     \u001b[39mreturn\u001b[39;00m \u001b[39mself\u001b[39m\u001b[39m.\u001b[39mfc(rnn_out)\n",
      "File \u001b[1;32md:\\Anaconda\\envs\\dp1\\lib\\site-packages\\torch\\nn\\modules\\module.py:1130\u001b[0m, in \u001b[0;36mModule._call_impl\u001b[1;34m(self, *input, **kwargs)\u001b[0m\n\u001b[0;32m   1126\u001b[0m \u001b[39m# If we don't have any hooks, we want to skip the rest of the logic in\u001b[39;00m\n\u001b[0;32m   1127\u001b[0m \u001b[39m# this function, and just call forward.\u001b[39;00m\n\u001b[0;32m   1128\u001b[0m \u001b[39mif\u001b[39;00m \u001b[39mnot\u001b[39;00m (\u001b[39mself\u001b[39m\u001b[39m.\u001b[39m_backward_hooks \u001b[39mor\u001b[39;00m \u001b[39mself\u001b[39m\u001b[39m.\u001b[39m_forward_hooks \u001b[39mor\u001b[39;00m \u001b[39mself\u001b[39m\u001b[39m.\u001b[39m_forward_pre_hooks \u001b[39mor\u001b[39;00m _global_backward_hooks\n\u001b[0;32m   1129\u001b[0m         \u001b[39mor\u001b[39;00m _global_forward_hooks \u001b[39mor\u001b[39;00m _global_forward_pre_hooks):\n\u001b[1;32m-> 1130\u001b[0m     \u001b[39mreturn\u001b[39;00m forward_call(\u001b[39m*\u001b[39m\u001b[39minput\u001b[39m, \u001b[39m*\u001b[39m\u001b[39m*\u001b[39mkwargs)\n\u001b[0;32m   1131\u001b[0m \u001b[39m# Do not call functions when jit is used\u001b[39;00m\n\u001b[0;32m   1132\u001b[0m full_backward_hooks, non_full_backward_hooks \u001b[39m=\u001b[39m [], []\n",
      "File \u001b[1;32md:\\Anaconda\\envs\\dp1\\lib\\site-packages\\torch\\nn\\modules\\sparse.py:383\u001b[0m, in \u001b[0;36mEmbeddingBag.forward\u001b[1;34m(self, input, offsets, per_sample_weights)\u001b[0m\n\u001b[0;32m    352\u001b[0m \u001b[39mdef\u001b[39;00m \u001b[39mforward\u001b[39m(\u001b[39mself\u001b[39m, \u001b[39minput\u001b[39m: Tensor, offsets: Optional[Tensor] \u001b[39m=\u001b[39m \u001b[39mNone\u001b[39;00m, per_sample_weights: Optional[Tensor] \u001b[39m=\u001b[39m \u001b[39mNone\u001b[39;00m) \u001b[39m-\u001b[39m\u001b[39m>\u001b[39m Tensor:\n\u001b[0;32m    353\u001b[0m     \u001b[39m\"\"\"Forward pass of EmbeddingBag.\u001b[39;00m\n\u001b[0;32m    354\u001b[0m \n\u001b[0;32m    355\u001b[0m \u001b[39m    Args:\u001b[39;00m\n\u001b[1;32m   (...)\u001b[0m\n\u001b[0;32m    381\u001b[0m \u001b[39m          returned vectors filled by zeros.\u001b[39;00m\n\u001b[0;32m    382\u001b[0m \u001b[39m    \"\"\"\u001b[39;00m\n\u001b[1;32m--> 383\u001b[0m     \u001b[39mreturn\u001b[39;00m F\u001b[39m.\u001b[39;49membedding_bag(\u001b[39minput\u001b[39;49m, \u001b[39mself\u001b[39;49m\u001b[39m.\u001b[39;49mweight, offsets,\n\u001b[0;32m    384\u001b[0m                            \u001b[39mself\u001b[39;49m\u001b[39m.\u001b[39;49mmax_norm, \u001b[39mself\u001b[39;49m\u001b[39m.\u001b[39;49mnorm_type,\n\u001b[0;32m    385\u001b[0m                            \u001b[39mself\u001b[39;49m\u001b[39m.\u001b[39;49mscale_grad_by_freq, \u001b[39mself\u001b[39;49m\u001b[39m.\u001b[39;49mmode, \u001b[39mself\u001b[39;49m\u001b[39m.\u001b[39;49msparse,\n\u001b[0;32m    386\u001b[0m                            per_sample_weights, \u001b[39mself\u001b[39;49m\u001b[39m.\u001b[39;49minclude_last_offset,\n\u001b[0;32m    387\u001b[0m                            \u001b[39mself\u001b[39;49m\u001b[39m.\u001b[39;49mpadding_idx)\n",
      "File \u001b[1;32md:\\Anaconda\\envs\\dp1\\lib\\site-packages\\torch\\nn\\functional.py:2380\u001b[0m, in \u001b[0;36membedding_bag\u001b[1;34m(input, weight, offsets, max_norm, norm_type, scale_grad_by_freq, mode, sparse, per_sample_weights, include_last_offset, padding_idx)\u001b[0m\n\u001b[0;32m   2373\u001b[0m \u001b[39mif\u001b[39;00m per_sample_weights \u001b[39mis\u001b[39;00m \u001b[39mnot\u001b[39;00m \u001b[39mNone\u001b[39;00m \u001b[39mand\u001b[39;00m mode \u001b[39m!=\u001b[39m \u001b[39m\"\u001b[39m\u001b[39msum\u001b[39m\u001b[39m\"\u001b[39m:\n\u001b[0;32m   2374\u001b[0m     \u001b[39mraise\u001b[39;00m \u001b[39mNotImplementedError\u001b[39;00m(\n\u001b[0;32m   2375\u001b[0m         \u001b[39m\"\u001b[39m\u001b[39membedding_bag: per_sample_weights was not None. \u001b[39m\u001b[39m\"\u001b[39m\n\u001b[0;32m   2376\u001b[0m         \u001b[39m\"\u001b[39m\u001b[39mper_sample_weights is only supported for mode=\u001b[39m\u001b[39m'\u001b[39m\u001b[39msum\u001b[39m\u001b[39m'\u001b[39m\u001b[39m \u001b[39m\u001b[39m\"\u001b[39m\n\u001b[0;32m   2377\u001b[0m         \u001b[39m\"\u001b[39m\u001b[39m(got mode=\u001b[39m\u001b[39m'\u001b[39m\u001b[39m{}\u001b[39;00m\u001b[39m'\u001b[39m\u001b[39m). Please open a feature request on GitHub.\u001b[39m\u001b[39m\"\u001b[39m\u001b[39m.\u001b[39mformat(mode)\n\u001b[0;32m   2378\u001b[0m     )\n\u001b[1;32m-> 2380\u001b[0m ret, _, _, _ \u001b[39m=\u001b[39m torch\u001b[39m.\u001b[39;49membedding_bag(\n\u001b[0;32m   2381\u001b[0m     weight, \u001b[39minput\u001b[39;49m, offsets, scale_grad_by_freq, mode_enum, sparse, per_sample_weights, include_last_offset, padding_idx\n\u001b[0;32m   2382\u001b[0m )\n\u001b[0;32m   2383\u001b[0m \u001b[39mreturn\u001b[39;00m ret\n",
      "\u001b[1;31mRuntimeError\u001b[0m: Expected all tensors to be on the same device, but found at least two devices, cpu and cuda:0! (when checking argument for argument indices in method wrapper___embedding_bag)"
     ]
    }
   ],
   "source": [
    "# 新聞類別\n",
    "ag_news_label = {1: \"World\",\n",
    "                2: \"Sports\",\n",
    "                3: \"Business\",\n",
    "                4: \"Sci/Tec\"}\n",
    "\n",
    "# 預測\n",
    "def predict(text, text_pipeline):\n",
    "    with torch.no_grad():\n",
    "        text = torch.tensor(text_pipeline(text)).to(device)\n",
    "        output = model(text, torch.tensor([0]).to(device))\n",
    "        return output.argmax(1).item() + 1\n",
    "\n",
    "# 測試資料\n",
    "ex_text_str = \"MEMPHIS, Tenn. – Four days ago, Jon Rahm was \\\n",
    "    enduring the season’s worst weather conditions on Sunday at The \\\n",
    "    Open on his way to a closing 75 at Royal Portrush, which \\\n",
    "    considering the wind and the rain was a respectable showing. \\\n",
    "    Thursday’s first round at the WGC-FedEx St. Jude Invitational \\\n",
    "    was another story. With temperatures in the mid-80s and hardly any \\\n",
    "    wind, the Spaniard was 13 strokes better in a flawless round. \\\n",
    "    Thanks to his best putting performance on the PGA Tour, Rahm \\\n",
    "    finished with an 8-under 62 for a three-stroke lead, which \\\n",
    "    was even more impressive considering he’d never played the \\\n",
    "    front nine at TPC Southwind.\"\n",
    "\n",
    "# print(ag_news_label[predict(ex_text_str, text_pipeline)])\n",
    "\n",
    "res = predict(ex_text_str, text_pipeline)\n",
    "print(\"This is a %s news\" %ag_news_label[res])"
   ]
  },
  {
   "cell_type": "code",
   "execution_count": null,
   "metadata": {},
   "outputs": [],
   "source": [
    "my_test = open(\"./nlp_data/news.txt\", encoding = \"utf8\").read()\n",
    "print(ag_news_label[predict(my_test, text_pipeline)])"
   ]
  }
 ],
 "metadata": {
  "kernelspec": {
   "display_name": "Python 3.9.12 ('dp1bk')",
   "language": "python",
   "name": "python3"
  },
  "language_info": {
   "codemirror_mode": {
    "name": "ipython",
    "version": 3
   },
   "file_extension": ".py",
   "mimetype": "text/x-python",
   "name": "python",
   "nbconvert_exporter": "python",
   "pygments_lexer": "ipython3",
   "version": "3.9.12"
  },
  "orig_nbformat": 4,
  "vscode": {
   "interpreter": {
    "hash": "d78d520d2fd55cd75a0ac7b83624b104c26071aca2f394508256a507a4d1b011"
   }
  }
 },
 "nbformat": 4,
 "nbformat_minor": 2
}
