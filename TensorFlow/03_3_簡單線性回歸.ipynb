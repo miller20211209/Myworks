{
 "cells": [
  {
   "cell_type": "markdown",
   "metadata": {},
   "source": [
    "# 簡單線性回歸\n",
    "- 範例1. 使用自動微分估算簡單線性迴歸的參數(w、b)\n",
    "- $ y = wx + b$"
   ]
  },
  {
   "cell_type": "markdown",
   "metadata": {},
   "source": [
    "## 載入套件"
   ]
  },
  {
   "cell_type": "code",
   "execution_count": 1,
   "metadata": {},
   "outputs": [],
   "source": [
    "import numpy as np \n",
    "import tensorflow as tf "
   ]
  },
  {
   "cell_type": "markdown",
   "metadata": {},
   "source": [
    "## 定義損失函數"
   ]
  },
  {
   "cell_type": "code",
   "execution_count": 2,
   "metadata": {},
   "outputs": [],
   "source": [
    "def loss(y, y_pred):\n",
    "    return tf.reduce_mean(tf.square(y - y_pred))"
   ]
  },
  {
   "cell_type": "markdown",
   "metadata": {},
   "source": [
    "## 定義預測值函數"
   ]
  },
  {
   "cell_type": "code",
   "execution_count": 3,
   "metadata": {},
   "outputs": [],
   "source": [
    "def predict(X):\n",
    "    return w * X + b    "
   ]
  },
  {
   "cell_type": "markdown",
   "metadata": {},
   "source": [
    "## 定義訓練函數"
   ]
  },
  {
   "cell_type": "code",
   "execution_count": 4,
   "metadata": {},
   "outputs": [],
   "source": [
    "def train(X, y, epochs=40, lr=0.0001):\n",
    "    current_loss=0                                # 損失函數值\n",
    "    for epoch in range(epochs):                   # 執行訓練週期\n",
    "        with tf.GradientTape() as t:              # 自動微分\n",
    "            t.watch(tf.constant(X))               # 宣告 TensorFlow 常數參與自動微分\n",
    "            current_loss = loss(y, predict(X))    # 計算損失函數值\n",
    "        \n",
    "        dw, db = t.gradient(current_loss, [w, b]) # 取得 w, b 個別的梯度\n",
    "\n",
    "        # 更新權重：新權重 = 原權重 — 學習率(learning_rate) * 梯度(gradient)\n",
    "        w.assign_sub(lr * dw) # w -= lr * dw\n",
    "        b.assign_sub(lr * db) # b -= lr * db\n",
    "\n",
    "        # 顯示每一訓練週期的損失函數\n",
    "        print(f'| Epoch : {epoch} | Loss: {current_loss.numpy()} |') "
   ]
  },
  {
   "cell_type": "markdown",
   "metadata": {},
   "source": [
    "## 產生隨機資料"
   ]
  },
  {
   "cell_type": "code",
   "execution_count": 5,
   "metadata": {},
   "outputs": [],
   "source": [
    "# 產生線性隨機資料100筆，介於 0-50\n",
    "n = 100\n",
    "X = np.linspace(0, 50, n) \n",
    "y = np.linspace(0, 50, n) \n",
    "  \n",
    "# 資料加一點雜訊(noise)\n",
    "X += np.random.uniform(-10, 10, n) \n",
    "y += np.random.uniform(-10, 10, n) "
   ]
  },
  {
   "cell_type": "code",
   "execution_count": 6,
   "metadata": {},
   "outputs": [
    {
     "data": {
      "text/plain": [
       "array([ 3.436693  ,  1.20653116, -0.53452609, -6.26853761, -4.53928843,\n",
       "       -4.07342175,  8.06251097, -3.69992583,  5.27957152,  3.8364917 ,\n",
       "        0.33039418, 10.72913465, 15.4127922 , 10.65619486,  0.68220571,\n",
       "       10.94055203,  1.662496  , 11.95558881, 18.03419323,  4.14260337,\n",
       "        1.03354939, 11.29380318,  5.2734103 , 13.60701093, 18.32395292,\n",
       "        5.50051889, 12.45069497,  6.58777673,  5.24877968, 18.09377988,\n",
       "       16.35432122, 10.47771976, 17.16018129, 20.46990279, 16.21553652,\n",
       "       17.36556954, 26.30117535, 27.42994276, 27.6207395 , 16.42161151,\n",
       "       26.52105466, 24.4924224 , 20.02463847, 26.82838645, 25.63259479,\n",
       "       25.93406851, 26.04412761, 26.89249841, 16.31790188, 18.35191883,\n",
       "       26.73187682, 17.81015743, 21.60532179, 31.5231406 , 25.05468486,\n",
       "       17.8617814 , 32.51111069, 33.70267928, 20.17671092, 31.88451309,\n",
       "       34.4750961 , 21.63902989, 30.83114326, 31.85395866, 25.37573331,\n",
       "       39.73819538, 30.00766778, 39.72044192, 28.31931529, 28.24257918,\n",
       "       37.89045495, 41.42555885, 31.91459306, 34.55133275, 38.2078615 ,\n",
       "       35.27844877, 34.71852272, 29.84319753, 40.4594781 , 42.81882166,\n",
       "       31.55241977, 33.81509619, 32.56240742, 50.70453794, 36.59695095,\n",
       "       36.32904479, 47.80679016, 34.95534346, 47.47810448, 39.70429505,\n",
       "       50.28743652, 36.06418204, 46.18647004, 48.34679139, 52.91291936,\n",
       "       40.79579862, 51.3305489 , 50.20806761, 52.96653023, 40.4512376 ])"
      ]
     },
     "execution_count": 6,
     "metadata": {},
     "output_type": "execute_result"
    }
   ],
   "source": [
    "X"
   ]
  },
  {
   "cell_type": "code",
   "execution_count": 7,
   "metadata": {},
   "outputs": [
    {
     "data": {
      "text/plain": [
       "array([-6.34365853, -6.90996271,  7.31424489, -8.01480728,  1.76771288,\n",
       "        0.31675456, 12.78463231,  5.60768213,  1.07185321,  2.99154241,\n",
       "        7.545165  ,  7.30663655,  7.63432184, 14.12307957, -2.20524706,\n",
       "        1.42640929,  1.64275396,  1.84634131,  4.90702824,  7.66075768,\n",
       "        0.61417052,  1.65015887, 16.77085727, 19.23842569,  3.5721935 ,\n",
       "        3.21923303,  6.95836823, 15.27654851, 16.53356708, 17.01397764,\n",
       "       22.40436569, 18.37463794, 12.72956211,  9.94217059, 13.99917707,\n",
       "       25.53099736, 24.69347037, 10.68503321, 18.89100778, 27.98027775,\n",
       "       19.91627835, 16.1067231 , 13.02618998, 31.42699532, 18.00430646,\n",
       "       27.60877137, 28.60763197, 26.29422342, 18.20670704, 23.33822109,\n",
       "       28.06958813, 16.82480063, 24.93362914, 18.34337895, 34.71651286,\n",
       "       24.82589746, 21.83234622, 30.71005077, 29.10559099, 27.5876183 ,\n",
       "       23.95436958, 39.30327311, 40.12996412, 39.40805183, 41.25837226,\n",
       "       32.08054322, 40.04973426, 31.79514108, 35.43145082, 37.77908483,\n",
       "       42.00418834, 32.34170305, 41.64066938, 45.96650536, 30.50777489,\n",
       "       47.10641172, 33.93227951, 33.53528575, 47.99202066, 40.96546271,\n",
       "       47.15392441, 37.32070694, 37.68408597, 44.13767088, 50.95472063,\n",
       "       49.56728688, 46.02566993, 34.26696523, 37.895842  , 53.11230254,\n",
       "       39.82395837, 36.92985698, 50.68007584, 40.25974012, 53.68528286,\n",
       "       39.08461289, 56.75829337, 54.02500884, 58.02030169, 42.44074968])"
      ]
     },
     "execution_count": 7,
     "metadata": {},
     "output_type": "execute_result"
    }
   ],
   "source": [
    "y"
   ]
  },
  {
   "cell_type": "markdown",
   "metadata": {},
   "source": [
    "## 執行訓練"
   ]
  },
  {
   "cell_type": "code",
   "execution_count": 8,
   "metadata": {},
   "outputs": [
    {
     "name": "stdout",
     "output_type": "stream",
     "text": [
      "| Epoch : 0 | Loss: 901.95751953125 |\n",
      "| Epoch : 1 | Loss: 651.3968505859375 |\n",
      "| Epoch : 2 | Loss: 475.653076171875 |\n",
      "| Epoch : 3 | Loss: 352.3860168457031 |\n",
      "| Epoch : 4 | Loss: 265.92620849609375 |\n",
      "| Epoch : 5 | Loss: 205.28305053710938 |\n",
      "| Epoch : 6 | Loss: 162.7478485107422 |\n",
      "| Epoch : 7 | Loss: 132.9135284423828 |\n",
      "| Epoch : 8 | Loss: 111.98767852783203 |\n",
      "| Epoch : 9 | Loss: 97.31019592285156 |\n",
      "| Epoch : 10 | Loss: 87.0153579711914 |\n",
      "| Epoch : 11 | Loss: 79.79454803466797 |\n",
      "| Epoch : 12 | Loss: 74.72982788085938 |\n",
      "| Epoch : 13 | Loss: 71.1773910522461 |\n",
      "| Epoch : 14 | Loss: 68.6856918334961 |\n",
      "| Epoch : 15 | Loss: 66.93798828125 |\n",
      "| Epoch : 16 | Loss: 65.71212768554688 |\n",
      "| Epoch : 17 | Loss: 64.85228729248047 |\n",
      "| Epoch : 18 | Loss: 64.24918365478516 |\n",
      "| Epoch : 19 | Loss: 63.82613754272461 |\n",
      "| Epoch : 20 | Loss: 63.52939987182617 |\n",
      "| Epoch : 21 | Loss: 63.32124328613281 |\n",
      "| Epoch : 22 | Loss: 63.175228118896484 |\n",
      "| Epoch : 23 | Loss: 63.072792053222656 |\n",
      "| Epoch : 24 | Loss: 63.00092697143555 |\n",
      "| Epoch : 25 | Loss: 62.950504302978516 |\n",
      "| Epoch : 26 | Loss: 62.91511535644531 |\n",
      "| Epoch : 27 | Loss: 62.89027786254883 |\n",
      "| Epoch : 28 | Loss: 62.872840881347656 |\n",
      "| Epoch : 29 | Loss: 62.86058044433594 |\n",
      "| Epoch : 30 | Loss: 62.85197448730469 |\n",
      "| Epoch : 31 | Loss: 62.845924377441406 |\n",
      "| Epoch : 32 | Loss: 62.841651916503906 |\n",
      "| Epoch : 33 | Loss: 62.83863830566406 |\n",
      "| Epoch : 34 | Loss: 62.836509704589844 |\n",
      "| Epoch : 35 | Loss: 62.834999084472656 |\n",
      "| Epoch : 36 | Loss: 62.83391189575195 |\n",
      "| Epoch : 37 | Loss: 62.8331413269043 |\n",
      "| Epoch : 38 | Loss: 62.832584381103516 |\n",
      "| Epoch : 39 | Loss: 62.83216857910156 |\n",
      "w=1.0148578882217407, b=0.03332831710577011\n"
     ]
    }
   ],
   "source": [
    "# w、b 初始值均設為 0\n",
    "w = tf.Variable(0.0)\n",
    "b = tf.Variable(0.0)\n",
    "\n",
    "# 執行訓練\n",
    "train(X, y)\n",
    "\n",
    "# w、b 的最佳解\n",
    "print(f'w={w.numpy()}, b={b.numpy()}')"
   ]
  },
  {
   "cell_type": "markdown",
   "metadata": {},
   "source": [
    "## 顯示迴歸線"
   ]
  },
  {
   "cell_type": "code",
   "execution_count": 9,
   "metadata": {},
   "outputs": [
    {
     "data": {
      "text/plain": [
       "<matplotlib.legend.Legend at 0x1d08a666820>"
      ]
     },
     "execution_count": 9,
     "metadata": {},
     "output_type": "execute_result"
    },
    {
     "data": {
      "image/png": "[encoded data removed]",
      "text/plain": [
       "<Figure size 432x288 with 1 Axes>"
      ]
     },
     "metadata": {
      "needs_background": "light"
     },
     "output_type": "display_data"
    }
   ],
   "source": [
    "import matplotlib.pyplot as plt \n",
    "\n",
    "plt.scatter(X, y, label='data')\n",
    "plt.plot(X, predict(X), 'r-', label='predicted')\n",
    "plt.legend()"
   ]
  }
 ],
 "metadata": {
  "kernelspec": {
   "display_name": "Python 3.9.12 ('dp1bk')",
   "language": "python",
   "name": "python3"
  },
  "language_info": {
   "codemirror_mode": {
    "name": "ipython",
    "version": 3
   },
   "file_extension": ".py",
   "mimetype": "text/x-python",
   "name": "python",
   "nbconvert_exporter": "python",
   "pygments_lexer": "ipython3",
   "version": "3.9.12"
  },
  "orig_nbformat": 4,
  "vscode": {
   "interpreter": {
    "hash": "d78d520d2fd55cd75a0ac7b83624b104c26071aca2f394508256a507a4d1b011"
   }
  }
 },
 "nbformat": 4,
 "nbformat_minor": 2
}
