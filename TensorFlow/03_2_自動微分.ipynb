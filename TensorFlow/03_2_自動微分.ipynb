{
 "cells": [
  {
   "cell_type": "markdown",
   "metadata": {},
   "source": [
    "## 自動微分(Automatic Differentiation)"
   ]
  },
  {
   "cell_type": "code",
   "execution_count": 2,
   "metadata": {},
   "outputs": [
    {
     "name": "stdout",
     "output_type": "stream",
     "text": [
      "-0.81833154\n"
     ]
    }
   ],
   "source": [
    "import numpy as np\n",
    "import tensorflow as tf\n",
    "\n",
    "# 宣告 TensorFlow 變數 (Variable)\n",
    "x = tf.Variable(3.0)\n",
    "\n",
    "# 自動微分\n",
    "with tf.GradientTape() as g:\n",
    "    # y = x * x\n",
    "    y = x * tf.sin(x) ** 2\n",
    "\n",
    "# 取得梯度, y 對 x 微分\n",
    "dy_dx = g.gradient(y, x)\n",
    "\n",
    "# 轉換為 Numpy array 格式\n",
    "print(dy_dx.numpy())"
   ]
  },
  {
   "cell_type": "code",
   "execution_count": 3,
   "metadata": {},
   "outputs": [
    {
     "name": "stdout",
     "output_type": "stream",
     "text": [
      "6.0\n"
     ]
    }
   ],
   "source": [
    "import numpy as np\n",
    "import tensorflow as tf\n",
    "\n",
    "# 宣告 TensorFlow 變數 (Variable)\n",
    "x = tf.Variable(3.0)\n",
    "\n",
    "# 自動微分\n",
    "with tf.GradientTape() as g:\n",
    "    y = x * x\n",
    "\n",
    "# 取得梯度, y 對 x 微分\n",
    "dy_dx = g.gradient(y, x)\n",
    "\n",
    "# 轉換為 Numpy array 格式\n",
    "print(dy_dx.numpy())"
   ]
  },
  {
   "cell_type": "markdown",
   "metadata": {},
   "source": [
    "## 二階導數計算"
   ]
  },
  {
   "cell_type": "code",
   "execution_count": 4,
   "metadata": {},
   "outputs": [
    {
     "name": "stdout",
     "output_type": "stream",
     "text": [
      "一階導數 = 6.0, 二階導數 = 2.0\n"
     ]
    }
   ],
   "source": [
    "# 宣告 TensorFlow 常數\n",
    "x = tf.constant(3.0)\n",
    "\n",
    "# 自動微分, y 對 x 微分\n",
    "with tf.GradientTape() as g:\n",
    "    g.watch(x)\n",
    "    with tf.GradientTape() as gg:\n",
    "        # 設定常數參與自動微分\n",
    "        gg.watch(x)\n",
    "        y = x * x\n",
    "\n",
    "    # 一階導數\n",
    "    dy_dx = gg.gradient(y, x)\n",
    "# 二階導數\n",
    "d2y_dx2 = g.gradient(dy_dx, x)\n",
    "\n",
    "print(f\"一階導數 = {dy_dx.numpy()}, 二階導數 = {d2y_dx2.numpy()}\")"
   ]
  },
  {
   "cell_type": "markdown",
   "metadata": {},
   "source": [
    "## 多變數導數計算"
   ]
  },
  {
   "cell_type": "code",
   "execution_count": 5,
   "metadata": {},
   "outputs": [
    {
     "name": "stdout",
     "output_type": "stream",
     "text": [
      "dy/dx = 6.0, dz/dx = 108.0\n"
     ]
    }
   ],
   "source": [
    "# 宣告 TensorFlow 常數\n",
    "x = tf.Variable(3.0)\n",
    "\n",
    "# 自動微分\n",
    "with tf.GradientTape(persistent = True) as g:\n",
    "    y = x * x\n",
    "    z = y * y\n",
    "\n",
    "dz_dx = g.gradient(z, x)\n",
    "dy_dx = g.gradient(y, x)\n",
    "\n",
    "# 不用時, 可刪除 GradientTape 物件\n",
    "del g\n",
    "\n",
    "print(f\"dy/dx = {dy_dx.numpy()}, dz/dx = {dz_dx.numpy()}\")"
   ]
  },
  {
   "cell_type": "markdown",
   "metadata": {},
   "source": [
    "## PyTorch 自動微分的語法"
   ]
  },
  {
   "cell_type": "code",
   "execution_count": 6,
   "metadata": {},
   "outputs": [
    {
     "name": "stdout",
     "output_type": "stream",
     "text": [
      "tensor(6.)\n"
     ]
    },
    {
     "name": "stderr",
     "output_type": "stream",
     "text": [
      "d:\\Anaconda\\envs\\dp1bk\\lib\\site-packages\\tqdm\\auto.py:22: TqdmWarning: IProgress not found. Please update jupyter and ipywidgets. See https://ipywidgets.readthedocs.io/en/stable/user_install.html\n",
      "  from .autonotebook import tqdm as notebook_tqdm\n"
     ]
    }
   ],
   "source": [
    "import torch\n",
    "\n",
    "# 設定 x 參與自動微分\n",
    "x = torch.tensor(3.0, requires_grad=True)\n",
    "y = x * x\n",
    "\n",
    "# 反向傳導\n",
    "y.backward()\n",
    "\n",
    "# 取得梯度\n",
    "print(x.grad)"
   ]
  }
 ],
 "metadata": {
  "kernelspec": {
   "display_name": "Python 3.9.12 ('dp1bk')",
   "language": "python",
   "name": "python3"
  },
  "language_info": {
   "codemirror_mode": {
    "name": "ipython",
    "version": 3
   },
   "file_extension": ".py",
   "mimetype": "text/x-python",
   "name": "python",
   "nbconvert_exporter": "python",
   "pygments_lexer": "ipython3",
   "version": "3.9.12"
  },
  "orig_nbformat": 4,
  "vscode": {
   "interpreter": {
    "hash": "d78d520d2fd55cd75a0ac7b83624b104c26071aca2f394508256a507a4d1b011"
   }
  }
 },
 "nbformat": 4,
 "nbformat_minor": 2
}
