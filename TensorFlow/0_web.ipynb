{
 "cells": [
  {
   "cell_type": "markdown",
   "metadata": {},
   "source": [
    "# 拿 0_onehotencoding.ipynb 訓練好的模型來使用 (pre-trained 的概念)"
   ]
  },
  {
   "cell_type": "markdown",
   "metadata": {},
   "source": [
    "## 先確認是否有 GPU"
   ]
  },
  {
   "cell_type": "code",
   "execution_count": null,
   "metadata": {},
   "outputs": [],
   "source": [
    "import tensorflow as tf\n",
    "print(\"Num GPUs Available: \", len(tf.config.list_physical_devices('GPU')))"
   ]
  },
  {
   "cell_type": "markdown",
   "metadata": {},
   "source": [
    "## 載入套件"
   ]
  },
  {
   "cell_type": "code",
   "execution_count": 2,
   "metadata": {},
   "outputs": [],
   "source": [
    "import streamlit as st\n",
    "from skimage import data, color, io\n",
    "from skimage.transform import rescale, resize, downscale_local_mean\n",
    "\n",
    "import numpy as np\n",
    "import tensorflow as tf\n",
    "from tensorflow.keras.models import Sequential\n",
    "from tensorflow.keras.models import model_from_json"
   ]
  },
  {
   "cell_type": "markdown",
   "metadata": {},
   "source": [
    "## 載入 Model"
   ]
  },
  {
   "cell_type": "code",
   "execution_count": 3,
   "metadata": {},
   "outputs": [],
   "source": [
    "model = tf.keras.models.load_model(\"model.h5\")"
   ]
  },
  {
   "cell_type": "markdown",
   "metadata": {},
   "source": [
    "## 上傳圖片"
   ]
  },
  {
   "cell_type": "code",
   "execution_count": 4,
   "metadata": {},
   "outputs": [
    {
     "name": "stderr",
     "output_type": "stream",
     "text": [
      "2022-09-09 11:23:18.810 \n",
      "  \u001b[33m\u001b[1mWarning:\u001b[0m to view this Streamlit app on a browser, run it with the following\n",
      "  command:\n",
      "\n",
      "    streamlit run d:\\Anaconda\\envs\\dp1bk\\lib\\site-packages\\ipykernel_launcher.py [ARGUMENTS]\n"
     ]
    }
   ],
   "source": [
    "st.title(\"上傳圖片 (0~9) 辨識\")\n",
    "\n",
    "uploaded_file = st.file_uploader(\"上傳圖片(.png\", type=\"png\")\n",
    "if uploaded_file is not None:\n",
    "    image1 = io.imread(uploaded_file, as_gray = True)\n",
    "    image_resized = resize(image1, (28, 28), anti_aliasing = True)\n",
    "    X1 = image_resized.reshape(1, 28, 28)\n",
    "    X1 = np.abs(1-X1)\n",
    "    st.write(\"predict....\")\n",
    "    predictions = np.argmax(model.predict(X1), axis = -1)\n",
    "    st.write(predictions[0])\n",
    "    st.image(image1)"
   ]
  }
 ],
 "metadata": {
  "kernelspec": {
   "display_name": "Python 3.9.12 ('dp1bk')",
   "language": "python",
   "name": "python3"
  },
  "language_info": {
   "codemirror_mode": {
    "name": "ipython",
    "version": 3
   },
   "file_extension": ".py",
   "mimetype": "text/x-python",
   "name": "python",
   "nbconvert_exporter": "python",
   "pygments_lexer": "ipython3",
   "version": "3.9.12"
  },
  "orig_nbformat": 4,
  "vscode": {
   "interpreter": {
    "hash": "d78d520d2fd55cd75a0ac7b83624b104c26071aca2f394508256a507a4d1b011"
   }
  }
 },
 "nbformat": 4,
 "nbformat_minor": 2
}
