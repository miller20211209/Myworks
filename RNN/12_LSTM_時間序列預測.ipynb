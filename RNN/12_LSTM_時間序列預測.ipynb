{
 "cells": [
  {
   "cell_type": "markdown",
   "metadata": {},
   "source": [
    "# 時間序列預測\n",
    "- 以 LSTM 演算法預測航空公司的未來營收"
   ]
  },
  {
   "cell_type": "markdown",
   "metadata": {},
   "source": [
    "## 載入相關套件"
   ]
  },
  {
   "cell_type": "code",
   "execution_count": 2,
   "metadata": {},
   "outputs": [
    {
     "name": "stderr",
     "output_type": "stream",
     "text": [
      "d:\\Anaconda\\envs\\dp1bk\\lib\\site-packages\\tqdm\\auto.py:22: TqdmWarning: IProgress not found. Please update jupyter and ipywidgets. See https://ipywidgets.readthedocs.io/en/stable/user_install.html\n",
      "  from .autonotebook import tqdm as notebook_tqdm\n"
     ]
    }
   ],
   "source": [
    "import torch\n",
    "import torch.nn as nn\n",
    "import torch.optim as optim\n",
    "import torchtext\n",
    "import numpy as np\n",
    "import pandas as pd\n",
    "import os\n",
    "import matplotlib.pyplot as plt"
   ]
  },
  {
   "cell_type": "markdown",
   "metadata": {},
   "source": [
    "## 判斷 GPU 是否存在"
   ]
  },
  {
   "cell_type": "code",
   "execution_count": 3,
   "metadata": {},
   "outputs": [
    {
     "data": {
      "text/plain": [
       "device(type='cuda')"
      ]
     },
     "execution_count": 3,
     "metadata": {},
     "output_type": "execute_result"
    }
   ],
   "source": [
    "device = torch.device(\"cuda\" if torch.cuda.is_available() else \"cpu\")\n",
    "device"
   ]
  },
  {
   "cell_type": "markdown",
   "metadata": {},
   "source": [
    "## 載入資料\n",
    "- 1949/1 ~ 1960/12"
   ]
  },
  {
   "cell_type": "code",
   "execution_count": 4,
   "metadata": {},
   "outputs": [
    {
     "data": {
      "text/html": [
       "<div>\n",
       "<style scoped>\n",
       "    .dataframe tbody tr th:only-of-type {\n",
       "        vertical-align: middle;\n",
       "    }\n",
       "\n",
       "    .dataframe tbody tr th {\n",
       "        vertical-align: top;\n",
       "    }\n",
       "\n",
       "    .dataframe thead th {\n",
       "        text-align: right;\n",
       "    }\n",
       "</style>\n",
       "<table border=\"1\" class=\"dataframe\">\n",
       "  <thead>\n",
       "    <tr style=\"text-align: right;\">\n",
       "      <th></th>\n",
       "      <th>Month</th>\n",
       "      <th>Passengers</th>\n",
       "    </tr>\n",
       "  </thead>\n",
       "  <tbody>\n",
       "    <tr>\n",
       "      <th>0</th>\n",
       "      <td>1949-01</td>\n",
       "      <td>112</td>\n",
       "    </tr>\n",
       "    <tr>\n",
       "      <th>1</th>\n",
       "      <td>1949-02</td>\n",
       "      <td>118</td>\n",
       "    </tr>\n",
       "    <tr>\n",
       "      <th>2</th>\n",
       "      <td>1949-03</td>\n",
       "      <td>132</td>\n",
       "    </tr>\n",
       "    <tr>\n",
       "      <th>3</th>\n",
       "      <td>1949-04</td>\n",
       "      <td>129</td>\n",
       "    </tr>\n",
       "    <tr>\n",
       "      <th>4</th>\n",
       "      <td>1949-05</td>\n",
       "      <td>121</td>\n",
       "    </tr>\n",
       "  </tbody>\n",
       "</table>\n",
       "</div>"
      ],
      "text/plain": [
       "     Month  Passengers\n",
       "0  1949-01         112\n",
       "1  1949-02         118\n",
       "2  1949-03         132\n",
       "3  1949-04         129\n",
       "4  1949-05         121"
      ]
     },
     "execution_count": 4,
     "metadata": {},
     "output_type": "execute_result"
    }
   ],
   "source": [
    "df = pd.read_csv(\"./nlp_data/airline-passengers.csv\")\n",
    "df.head()"
   ]
  },
  {
   "cell_type": "code",
   "execution_count": 5,
   "metadata": {},
   "outputs": [
    {
     "data": {
      "text/html": [
       "<div>\n",
       "<style scoped>\n",
       "    .dataframe tbody tr th:only-of-type {\n",
       "        vertical-align: middle;\n",
       "    }\n",
       "\n",
       "    .dataframe tbody tr th {\n",
       "        vertical-align: top;\n",
       "    }\n",
       "\n",
       "    .dataframe thead th {\n",
       "        text-align: right;\n",
       "    }\n",
       "</style>\n",
       "<table border=\"1\" class=\"dataframe\">\n",
       "  <thead>\n",
       "    <tr style=\"text-align: right;\">\n",
       "      <th></th>\n",
       "      <th>Month</th>\n",
       "      <th>Passengers</th>\n",
       "    </tr>\n",
       "  </thead>\n",
       "  <tbody>\n",
       "    <tr>\n",
       "      <th>139</th>\n",
       "      <td>1960-08</td>\n",
       "      <td>606</td>\n",
       "    </tr>\n",
       "    <tr>\n",
       "      <th>140</th>\n",
       "      <td>1960-09</td>\n",
       "      <td>508</td>\n",
       "    </tr>\n",
       "    <tr>\n",
       "      <th>141</th>\n",
       "      <td>1960-10</td>\n",
       "      <td>461</td>\n",
       "    </tr>\n",
       "    <tr>\n",
       "      <th>142</th>\n",
       "      <td>1960-11</td>\n",
       "      <td>390</td>\n",
       "    </tr>\n",
       "    <tr>\n",
       "      <th>143</th>\n",
       "      <td>1960-12</td>\n",
       "      <td>432</td>\n",
       "    </tr>\n",
       "  </tbody>\n",
       "</table>\n",
       "</div>"
      ],
      "text/plain": [
       "       Month  Passengers\n",
       "139  1960-08         606\n",
       "140  1960-09         508\n",
       "141  1960-10         461\n",
       "142  1960-11         390\n",
       "143  1960-12         432"
      ]
     },
     "execution_count": 5,
     "metadata": {},
     "output_type": "execute_result"
    }
   ],
   "source": [
    "df.tail()"
   ]
  },
  {
   "cell_type": "markdown",
   "metadata": {},
   "source": [
    "## 繪圖"
   ]
  },
  {
   "cell_type": "code",
   "execution_count": 6,
   "metadata": {},
   "outputs": [
    {
     "data": {
      "text/plain": [
       "(array([-20.,   0.,  20.,  40.,  60.,  80., 100., 120., 140., 160.]),\n",
       " [Text(-20.0, 0, '1959-05'),\n",
       "  Text(0.0, 0, '1949-01'),\n",
       "  Text(20.0, 0, '1950-09'),\n",
       "  Text(40.0, 0, '1952-05'),\n",
       "  Text(60.0, 0, '1954-01'),\n",
       "  Text(80.0, 0, '1955-09'),\n",
       "  Text(100.0, 0, '1957-05'),\n",
       "  Text(120.0, 0, '1959-01'),\n",
       "  Text(140.0, 0, '1960-09'),\n",
       "  Text(160.0, 0, '')])"
      ]
     },
     "execution_count": 6,
     "metadata": {},
     "output_type": "execute_result"
    },
    {
     "data": {
      "image/png": "[encoded data removed]",
      "text/plain": [
       "<Figure size 432x288 with 1 Axes>"
      ]
     },
     "metadata": {
      "needs_background": "light"
     },
     "output_type": "display_data"
    }
   ],
   "source": [
    "# 繪圖\n",
    "df2 = df.set_index(\"Month\")\n",
    "df2.plot(legend = None)\n",
    "plt.xticks(rotation = 30)"
   ]
  },
  {
   "cell_type": "code",
   "execution_count": 7,
   "metadata": {},
   "outputs": [
    {
     "data": {
      "text/plain": [
       "144"
      ]
     },
     "execution_count": 7,
     "metadata": {},
     "output_type": "execute_result"
    }
   ],
   "source": [
    "len(df2)"
   ]
  },
  {
   "cell_type": "markdown",
   "metadata": {},
   "source": [
    "## 轉換資料\n",
    "- 歸一化處理\n",
    "- 資料分割"
   ]
  },
  {
   "cell_type": "code",
   "execution_count": 8,
   "metadata": {},
   "outputs": [
    {
     "data": {
      "text/plain": [
       "((144, 1), torch.Size([94, 1]))"
      ]
     },
     "execution_count": 8,
     "metadata": {},
     "output_type": "execute_result"
    }
   ],
   "source": [
    "from sklearn.preprocessing import MinMaxScaler\n",
    "\n",
    "look_back = 1\n",
    "\n",
    "# 函數 : 以前 N 期資料為 X, 當前資料為 Y\n",
    "def create_dataset(data1, look_back):\n",
    "    x, y = [], []\n",
    "    for i in range(len(data1)-look_back-1):\n",
    "        _x = data1[i:(i+look_back)]\n",
    "        _y = data1[i+look_back]\n",
    "        x.append(_x)\n",
    "        y.append(_y)\n",
    "\n",
    "    return torch.Tensor(np.array(x)), torch.Tensor(np.array(y))\n",
    "\n",
    "dataset = df2[[\"Passengers\"]].values.astype(\"float32\")\n",
    "\n",
    "# X 常態化\n",
    "scaler = MinMaxScaler()\n",
    "dataset = scaler.fit_transform(dataset)\n",
    "\n",
    "# 資料分割\n",
    "train_size = int(len(dataset) * 0.67)\n",
    "test_size = len(dataset) - train_size\n",
    "train_data, test_data = dataset[0:train_size, :], dataset[train_size:len(dataset), :]\n",
    "\n",
    "trainX, trainY = create_dataset(train_data, look_back)\n",
    "testX, testY = create_dataset(test_data, look_back)\n",
    "dataset.shape, trainY.shape"
   ]
  },
  {
   "cell_type": "code",
   "execution_count": 9,
   "metadata": {},
   "outputs": [
    {
     "data": {
      "text/plain": [
       "array([0.6332046], dtype=float32)"
      ]
     },
     "execution_count": 9,
     "metadata": {},
     "output_type": "execute_result"
    }
   ],
   "source": [
    "dataset[-1]"
   ]
  },
  {
   "cell_type": "code",
   "execution_count": 10,
   "metadata": {},
   "outputs": [
    {
     "data": {
      "text/plain": [
       "(torch.Size([94, 1, 1]),\n",
       " torch.Size([94, 1]),\n",
       " torch.Size([46, 1, 1]),\n",
       " torch.Size([46, 1]))"
      ]
     },
     "execution_count": 10,
     "metadata": {},
     "output_type": "execute_result"
    }
   ],
   "source": [
    "trainX.shape, trainY.shape, testX.shape, testY.shape"
   ]
  },
  {
   "cell_type": "code",
   "execution_count": 11,
   "metadata": {},
   "outputs": [
    {
     "data": {
      "text/plain": [
       "tensor([[0.0154, 0.0270],\n",
       "        [0.0270, 0.0541],\n",
       "        [0.0541, 0.0483],\n",
       "        [0.0483, 0.0328],\n",
       "        [0.0328, 0.0598],\n",
       "        [0.0598, 0.0849],\n",
       "        [0.0849, 0.0849],\n",
       "        [0.0849, 0.0618],\n",
       "        [0.0618, 0.0290],\n",
       "        [0.0290, 0.0000],\n",
       "        [0.0000, 0.0270],\n",
       "        [0.0270, 0.0212],\n",
       "        [0.0212, 0.0425],\n",
       "        [0.0425, 0.0714],\n",
       "        [0.0714, 0.0598],\n",
       "        [0.0598, 0.0405],\n",
       "        [0.0405, 0.0869],\n",
       "        [0.0869, 0.1274],\n",
       "        [0.1274, 0.1274],\n",
       "        [0.1274, 0.1042],\n",
       "        [0.1042, 0.0560],\n",
       "        [0.0560, 0.0193],\n",
       "        [0.0193, 0.0695],\n",
       "        [0.0695, 0.0792],\n",
       "        [0.0792, 0.0888],\n",
       "        [0.0888, 0.1429],\n",
       "        [0.1429, 0.1139],\n",
       "        [0.1139, 0.1313],\n",
       "        [0.1313, 0.1429],\n",
       "        [0.1429, 0.1834],\n",
       "        [0.1834, 0.1834],\n",
       "        [0.1834, 0.1544],\n",
       "        [0.1544, 0.1120],\n",
       "        [0.1120, 0.0811],\n",
       "        [0.0811, 0.1197],\n",
       "        [0.1197, 0.1293],\n",
       "        [0.1293, 0.1467],\n",
       "        [0.1467, 0.1718],\n",
       "        [0.1718, 0.1486],\n",
       "        [0.1486, 0.1525],\n",
       "        [0.1525, 0.2201],\n",
       "        [0.2201, 0.2432],\n",
       "        [0.2432, 0.2664],\n",
       "        [0.2664, 0.2027],\n",
       "        [0.2027, 0.1680],\n",
       "        [0.1680, 0.1313],\n",
       "        [0.1313, 0.1737],\n",
       "        [0.1737, 0.1776],\n",
       "        [0.1776, 0.1776],\n",
       "        [0.1776, 0.2548],\n",
       "        [0.2548, 0.2529],\n",
       "        [0.2529, 0.2413],\n",
       "        [0.2413, 0.2683],\n",
       "        [0.2683, 0.3089],\n",
       "        [0.3089, 0.3243],\n",
       "        [0.3243, 0.2568],\n",
       "        [0.2568, 0.2066],\n",
       "        [0.2066, 0.1467],\n",
       "        [0.1467, 0.1873],\n",
       "        [0.1873, 0.1931],\n",
       "        [0.1931, 0.1622],\n",
       "        [0.1622, 0.2529],\n",
       "        [0.2529, 0.2375],\n",
       "        [0.2375, 0.2510],\n",
       "        [0.2510, 0.3089],\n",
       "        [0.3089, 0.3822],\n",
       "        [0.3822, 0.3649],\n",
       "        [0.3649, 0.2992],\n",
       "        [0.2992, 0.2413],\n",
       "        [0.2413, 0.1911],\n",
       "        [0.1911, 0.2413],\n",
       "        [0.2413, 0.2664],\n",
       "        [0.2664, 0.2490],\n",
       "        [0.2490, 0.3147],\n",
       "        [0.3147, 0.3185],\n",
       "        [0.3185, 0.3205],\n",
       "        [0.3205, 0.4073],\n",
       "        [0.4073, 0.5019],\n",
       "        [0.5019, 0.4691],\n",
       "        [0.4691, 0.4015],\n",
       "        [0.4015, 0.3282],\n",
       "        [0.3282, 0.2568],\n",
       "        [0.2568, 0.3359],\n",
       "        [0.3359, 0.3475],\n",
       "        [0.3475, 0.3340],\n",
       "        [0.3340, 0.4112],\n",
       "        [0.4112, 0.4035],\n",
       "        [0.4035, 0.4131],\n",
       "        [0.4131, 0.5212],\n",
       "        [0.5212, 0.5965],\n",
       "        [0.5965, 0.5811],\n",
       "        [0.5811, 0.4846],\n",
       "        [0.4846, 0.3900],\n",
       "        [0.3900, 0.3224]])"
      ]
     },
     "execution_count": 11,
     "metadata": {},
     "output_type": "execute_result"
    }
   ],
   "source": [
    "torch.cat((trainX.reshape(trainX.shape[0], trainX.shape[1]), trainY), axis = 1)"
   ]
  },
  {
   "cell_type": "markdown",
   "metadata": {},
   "source": [
    "##  建立模型"
   ]
  },
  {
   "cell_type": "markdown",
   "metadata": {},
   "source": [
    "### 参数列表\n",
    "- input_size：x的特征维度\n",
    "- hidden_size：隐藏层的特征维度\n",
    "- num_layers：lstm隐层的层数，默认为1\n",
    "- bias：False则bih=0和bhh=0. 默认为True\n",
    "- batch_first：True则输入输出的数据格式为 (batch, seq, feature)\n",
    "- dropout：除最后一层，每一层的输出都进行dropout，默认为: 0\n",
    "- bidirectional：True则为双向lstm默认为False\n",
    "- 输入：input, (h0, c0)\n",
    "- 输出：output, (hn,cn)"
   ]
  },
  {
   "cell_type": "markdown",
   "metadata": {},
   "source": [
    "### 输入数据格式\n",
    "- input(seq_len, batch, input_size)\n",
    "- h0(num_layers * num_directions, batch, hidden_size)\n",
    "- c0(num_layers * num_directions, batch, hidden_size)"
   ]
  },
  {
   "cell_type": "markdown",
   "metadata": {},
   "source": [
    "### 输出数据格式：\n",
    "- output(seq_len, batch, hidden_size * num_directions)\n",
    "- hn(num_layers * num_directions, batch, hidden_size)\n",
    "- cn(num_layers * num_directions, batch, hidden_size)"
   ]
  },
  {
   "cell_type": "code",
   "execution_count": 14,
   "metadata": {},
   "outputs": [],
   "source": [
    "class TimeSeriesModel(nn.Module):\n",
    "    def __init__(self, look_back, hidden_size = 4, num_layers = 1):\n",
    "        super().__init__()\n",
    "        self.hidden_size = hidden_size\n",
    "        self.num_layers = num_layers\n",
    "        self.rnn = nn.LSTM(1, self.hidden_size, num_layers = self.num_layers, batch_first = True)\n",
    "        self.fc = nn.Linear(self.hidden_size, 1)\n",
    "        self.init_weights()\n",
    "\n",
    "    def init_weights(self):\n",
    "        initrange = 0.5\n",
    "        self.fc.weight.data.uniform_(-initrange, initrange)\n",
    "        self.fc.bias.data.zero_()\n",
    "\n",
    "    def forward(self, x):\n",
    "        # print(x.shape)\n",
    "        h_0 = torch.zeros(self.num_layers, x.size(0), self.hidden_size)\n",
    "        c_0 = torch.zeros(self.num_layers, x.size(0), self.hidden_size)\n",
    "        out, (h_out, _) = self.rnn(x, (h_0, c_0))\n",
    "        # print(h_0.shape)\n",
    "        # print(c_0.shape)\n",
    "        # print(h_out.shape)\n",
    "\n",
    "        # 取最後一層的 h, 並轉成二維\n",
    "        h_out = h_out[-1].view(-1, self.hidden_size)\n",
    "        return self.fc(h_out)\n",
    "\n",
    "# 訓練資料較少, 所以只需在 cpu 上執行即可\n",
    "model = TimeSeriesModel(look_back, hidden_size = 4, num_layers = 1)"
   ]
  },
  {
   "cell_type": "markdown",
   "metadata": {},
   "source": [
    "## 模型訓練"
   ]
  },
  {
   "cell_type": "code",
   "execution_count": 15,
   "metadata": {},
   "outputs": [
    {
     "name": "stdout",
     "output_type": "stream",
     "text": [
      "torch.Size([94, 1])\n",
      "Epoch: 0, loss: 0.06415\n",
      "Epoch: 100, loss: 0.00257\n",
      "Epoch: 200, loss: 0.00193\n",
      "Epoch: 300, loss: 0.00191\n",
      "Epoch: 400, loss: 0.00190\n",
      "Epoch: 500, loss: 0.00190\n",
      "Epoch: 600, loss: 0.00190\n",
      "Epoch: 700, loss: 0.00190\n",
      "Epoch: 800, loss: 0.00190\n",
      "Epoch: 900, loss: 0.00190\n",
      "Epoch: 1000, loss: 0.00190\n",
      "Epoch: 1100, loss: 0.00190\n",
      "Epoch: 1200, loss: 0.00190\n",
      "Epoch: 1300, loss: 0.00190\n",
      "Epoch: 1400, loss: 0.00190\n",
      "Epoch: 1500, loss: 0.00190\n",
      "Epoch: 1600, loss: 0.00190\n",
      "Epoch: 1700, loss: 0.00190\n",
      "Epoch: 1800, loss: 0.00190\n",
      "Epoch: 1900, loss: 0.00190\n"
     ]
    }
   ],
   "source": [
    "num_epochs = 2000\n",
    "learning_rate = 0.01\n",
    "\n",
    "def train(trainX, trainY):\n",
    "    criterion = torch.nn.MSELoss()  # MSE\n",
    "    optimizer = torch.optim.Adam(model.parameters(), lr=learning_rate)\n",
    "\n",
    "    for epoch in range(num_epochs):\n",
    "        optimizer.zero_grad()\n",
    "        outputs = model(trainX)\n",
    "        if epoch <= 0: print(outputs.shape)\n",
    "        loss = criterion(outputs, trainY)    \n",
    "        loss.backward()\n",
    "        optimizer.step()\n",
    "        if epoch % 100 == 0:\n",
    "            print(f\"Epoch: {epoch}, loss: {loss.item():.5f}\")\n",
    "\n",
    "train(trainX, trainY)"
   ]
  },
  {
   "cell_type": "markdown",
   "metadata": {},
   "source": [
    "## 模型評估"
   ]
  },
  {
   "cell_type": "code",
   "execution_count": 16,
   "metadata": {},
   "outputs": [
    {
     "data": {
      "text/plain": [
       "(94, 1)"
      ]
     },
     "execution_count": 16,
     "metadata": {},
     "output_type": "execute_result"
    }
   ],
   "source": [
    "model.eval()\n",
    "trainPredict = model(trainX).detach().numpy()\n",
    "testPredict = model(testX).detach().numpy()\n",
    "trainPredict.shape"
   ]
  },
  {
   "cell_type": "code",
   "execution_count": 17,
   "metadata": {},
   "outputs": [
    {
     "data": {
      "text/plain": [
       "(torch.Size([94, 1]), (94, 1))"
      ]
     },
     "execution_count": 17,
     "metadata": {},
     "output_type": "execute_result"
    }
   ],
   "source": [
    "trainY.shape, trainPredict.shape"
   ]
  },
  {
   "cell_type": "markdown",
   "metadata": {},
   "source": [
    "## 預測後, 還原常態化"
   ]
  },
  {
   "cell_type": "code",
   "execution_count": 18,
   "metadata": {},
   "outputs": [
    {
     "name": "stdout",
     "output_type": "stream",
     "text": [
      "(94, 1) (94, 1)\n",
      "train RMSE:  22.56 \n",
      "Test RMSE: 56.87\n"
     ]
    }
   ],
   "source": [
    "from sklearn.metrics import mean_squared_error\n",
    "import math\n",
    "\n",
    "# 還原常態化的訓練及測試資料\n",
    "trainPredict = scaler.inverse_transform(trainPredict)\n",
    "trainY_actual = scaler.inverse_transform(trainY.reshape(-1, 1))\n",
    "testPredict = scaler.inverse_transform(testPredict)\n",
    "testY_actual = scaler.inverse_transform(testY.reshape(-1, 1))\n",
    "print(trainY_actual.shape, trainPredict.shape)\n",
    "\n",
    "# 計算 RMSE\n",
    "trainScore = math.sqrt(mean_squared_error(trainY_actual, trainPredict.reshape(-1)))\n",
    "print(f\"train RMSE: {trainScore: .2f} \")\n",
    "testScore = math.sqrt(mean_squared_error(testY_actual, testPredict.reshape(-1)))\n",
    "print(f\"Test RMSE: {testScore:.2f}\")"
   ]
  },
  {
   "cell_type": "markdown",
   "metadata": {},
   "source": [
    "## 繪製實際資料和預測資料的圖表"
   ]
  },
  {
   "cell_type": "code",
   "execution_count": 19,
   "metadata": {},
   "outputs": [
    {
     "data": {
      "image/png": "[encoded data removed]",
      "text/plain": [
       "<Figure size 432x288 with 1 Axes>"
      ]
     },
     "metadata": {
      "needs_background": "light"
     },
     "output_type": "display_data"
    }
   ],
   "source": [
    "# 訓練資料的 X/Y\n",
    "trainPredictPlot = np.empty_like(dataset)\n",
    "trainPredictPlot[:, :] = np.nan\n",
    "trainPredictPlot[1:len(trainPredict)+look_back, :] = trainPredict\n",
    "\n",
    "# 測試資料 X/Y\n",
    "testPredictPlot = np.empty_like(dataset)\n",
    "testPredictPlot[:, :] = np.nan\n",
    "testPredictPlot[-testPredict.shape[0]-1:-1, :] = testPredict\n",
    "\n",
    "# 繪圖\n",
    "plt.plot(scaler.inverse_transform(dataset), label = \"Actual\")\n",
    "plt.plot(trainPredictPlot, label = \"train predict\")\n",
    "plt.plot(testPredictPlot, label = \"test Predict\")\n",
    "plt.legend()\n",
    "plt.show()"
   ]
  },
  {
   "cell_type": "markdown",
   "metadata": {},
   "source": [
    "## 改變 Loopback = 3:"
   ]
  },
  {
   "cell_type": "code",
   "execution_count": 20,
   "metadata": {},
   "outputs": [
    {
     "name": "stdout",
     "output_type": "stream",
     "text": [
      "torch.Size([92, 1])\n",
      "Epoch: 0, loss: 0.11633\n",
      "Epoch: 100, loss: 0.00339\n",
      "Epoch: 200, loss: 0.00297\n",
      "Epoch: 300, loss: 0.00227\n",
      "Epoch: 400, loss: 0.00185\n",
      "Epoch: 500, loss: 0.00166\n",
      "Epoch: 600, loss: 0.00157\n",
      "Epoch: 700, loss: 0.00154\n",
      "Epoch: 800, loss: 0.00152\n",
      "Epoch: 900, loss: 0.00150\n",
      "Epoch: 1000, loss: 0.00148\n",
      "Epoch: 1100, loss: 0.00146\n",
      "Epoch: 1200, loss: 0.00144\n",
      "Epoch: 1300, loss: 0.00142\n",
      "Epoch: 1400, loss: 0.00141\n",
      "Epoch: 1500, loss: 0.00140\n",
      "Epoch: 1600, loss: 0.00139\n",
      "Epoch: 1700, loss: 0.00139\n",
      "Epoch: 1800, loss: 0.00139\n",
      "Epoch: 1900, loss: 0.00138\n"
     ]
    }
   ],
   "source": [
    "# 以前期資料 為 X, 當前期資料為Y\n",
    "look_back = 3\n",
    "trainX, trainY = create_dataset(train_data, look_back)\n",
    "testX, testY = create_dataset(test_data, look_back)\n",
    "\n",
    "model = TimeSeriesModel(look_back, hidden_size = 4, num_layers = 1)\n",
    "train(trainX, trainY)"
   ]
  },
  {
   "cell_type": "markdown",
   "metadata": {},
   "source": [
    "## 模型訓練, 評估與繪製圖表"
   ]
  },
  {
   "cell_type": "code",
   "execution_count": 23,
   "metadata": {},
   "outputs": [
    {
     "name": "stdout",
     "output_type": "stream",
     "text": [
      "(92, 1) (92, 1)\n",
      "train RMSE:  19.24 \n",
      "Test RMSE: 71.05\n"
     ]
    }
   ],
   "source": [
    "from sklearn.metrics import mean_squared_error\n",
    "import math\n",
    "\n",
    "model.eval()\n",
    "trainPredict = model(trainX).detach().numpy()\n",
    "testPredict = model(testX).detach().numpy()\n",
    "\n",
    "# 還原常態化的訓練及測試資料\n",
    "trainPredict = scaler.inverse_transform(trainPredict)\n",
    "trainY_actual = scaler.inverse_transform(trainY.reshape(-1, 1))\n",
    "testPredict = scaler.inverse_transform(testPredict)\n",
    "testY_actual = scaler.inverse_transform(testY.reshape(-1, 1))\n",
    "print(trainY_actual.shape, trainPredict.shape)\n",
    "\n",
    "# 計算 RMSE\n",
    "trainScore = math.sqrt(mean_squared_error(trainY_actual, trainPredict.reshape(-1)))\n",
    "print(f\"train RMSE: {trainScore: .2f} \")\n",
    "testScore = math.sqrt(mean_squared_error(testY_actual, testPredict.reshape(-1)))\n",
    "print(f\"Test RMSE: {testScore:.2f}\")"
   ]
  },
  {
   "cell_type": "code",
   "execution_count": 24,
   "metadata": {},
   "outputs": [
    {
     "data": {
      "image/png": "[encoded data removed]",
      "text/plain": [
       "<Figure size 432x288 with 1 Axes>"
      ]
     },
     "metadata": {
      "needs_background": "light"
     },
     "output_type": "display_data"
    }
   ],
   "source": [
    "# 訓練資料的 X/Y\n",
    "trainPredictPlot = np.empty_like(dataset)\n",
    "trainPredictPlot[:, :] = np.nan\n",
    "trainPredictPlot[1:trainPredict.shape[0]+1:, :] = trainPredict\n",
    "\n",
    "# 測試資料 X/Y\n",
    "testPredictPlot = np.empty_like(dataset)\n",
    "testPredictPlot[:, :] = np.nan\n",
    "testPredictPlot[-testPredict.shape[0]-1:-1, :] = testPredict\n",
    "\n",
    "# 繪圖\n",
    "plt.plot(scaler.inverse_transform(dataset), label='Actual')\n",
    "plt.plot(trainPredictPlot, label='train predict')\n",
    "plt.plot(testPredictPlot, label='test predict')\n",
    "plt.legend()\n",
    "plt.show()"
   ]
  },
  {
   "cell_type": "markdown",
   "metadata": {},
   "source": [
    "## Stacked LSTM"
   ]
  },
  {
   "cell_type": "code",
   "execution_count": 25,
   "metadata": {},
   "outputs": [
    {
     "name": "stdout",
     "output_type": "stream",
     "text": [
      "torch.Size([92, 1])\n",
      "Epoch: 0, loss: 0.04822\n",
      "Epoch: 100, loss: 0.00455\n",
      "Epoch: 200, loss: 0.00159\n",
      "Epoch: 300, loss: 0.00150\n",
      "Epoch: 400, loss: 0.00147\n",
      "Epoch: 500, loss: 0.00143\n",
      "Epoch: 600, loss: 0.00137\n",
      "Epoch: 700, loss: 0.00132\n",
      "Epoch: 800, loss: 0.00124\n",
      "Epoch: 900, loss: 0.00117\n",
      "Epoch: 1000, loss: 0.00113\n",
      "Epoch: 1100, loss: 0.00110\n",
      "Epoch: 1200, loss: 0.00107\n",
      "Epoch: 1300, loss: 0.00111\n",
      "Epoch: 1400, loss: 0.00103\n",
      "Epoch: 1500, loss: 0.00101\n",
      "Epoch: 1600, loss: 0.00099\n",
      "Epoch: 1700, loss: 0.00098\n",
      "Epoch: 1800, loss: 0.00095\n",
      "Epoch: 1900, loss: 0.00093\n"
     ]
    }
   ],
   "source": [
    "# 以前期資料為 X, 當期資料為 Y, 將LSTM層數設為 3\n",
    "look_back = 3\n",
    "trainX, trainY = create_dataset(train_data, look_back)\n",
    "testX, testY = create_dataset(test_data, look_back)\n",
    "\n",
    "model = TimeSeriesModel(look_back, hidden_size = 4, num_layers = 3)\n",
    "train(trainX, trainY)"
   ]
  },
  {
   "cell_type": "code",
   "execution_count": 26,
   "metadata": {},
   "outputs": [
    {
     "name": "stdout",
     "output_type": "stream",
     "text": [
      "(92, 1) (92, 1)\n",
      "train RMSE:  15.67 \n",
      "Test RMSE: 75.49\n"
     ]
    }
   ],
   "source": [
    "from sklearn.metrics import mean_squared_error\n",
    "import math\n",
    "\n",
    "model.eval()\n",
    "trainPredict = model(trainX).detach().numpy()\n",
    "testPredict = model(testX).detach().numpy()\n",
    "\n",
    "# 還原常態化的訓練及測試資料\n",
    "trainPredict = scaler.inverse_transform(trainPredict)\n",
    "trainY_actual = scaler.inverse_transform(trainY.reshape(-1, 1))\n",
    "testPredict = scaler.inverse_transform(testPredict)\n",
    "testY_actual = scaler.inverse_transform(testY.reshape(-1, 1))\n",
    "print(trainY_actual.shape, trainPredict.shape)\n",
    "\n",
    "# 計算 RMSE\n",
    "trainScore = math.sqrt(mean_squared_error(trainY_actual, trainPredict.reshape(-1)))\n",
    "print(f\"train RMSE: {trainScore: .2f} \")\n",
    "testScore = math.sqrt(mean_squared_error(testY_actual, testPredict.reshape(-1)))\n",
    "print(f\"Test RMSE: {testScore:.2f}\")"
   ]
  },
  {
   "cell_type": "code",
   "execution_count": 27,
   "metadata": {},
   "outputs": [
    {
     "data": {
      "image/png": "[encoded data removed]",
      "text/plain": [
       "<Figure size 432x288 with 1 Axes>"
      ]
     },
     "metadata": {
      "needs_background": "light"
     },
     "output_type": "display_data"
    }
   ],
   "source": [
    "# 訓練資料的 X/Y\n",
    "trainPredictPlot = np.empty_like(dataset)\n",
    "trainPredictPlot[:, :] = np.nan\n",
    "trainPredictPlot[1:trainPredict.shape[0]+1:, :] = trainPredict\n",
    "\n",
    "# 測試資料 X/Y\n",
    "testPredictPlot = np.empty_like(dataset)\n",
    "testPredictPlot[:, :] = np.nan\n",
    "testPredictPlot[-testPredict.shape[0]-1:-1, :] = testPredict\n",
    "\n",
    "# 繪圖\n",
    "plt.plot(scaler.inverse_transform(dataset), label='Actual')\n",
    "plt.plot(trainPredictPlot, label='train predict')\n",
    "plt.plot(testPredictPlot, label='test predict')\n",
    "plt.legend()\n",
    "plt.show()"
   ]
  }
 ],
 "metadata": {
  "kernelspec": {
   "display_name": "Python 3.9.12 ('dp1bk')",
   "language": "python",
   "name": "python3"
  },
  "language_info": {
   "codemirror_mode": {
    "name": "ipython",
    "version": 3
   },
   "file_extension": ".py",
   "mimetype": "text/x-python",
   "name": "python",
   "nbconvert_exporter": "python",
   "pygments_lexer": "ipython3",
   "version": "3.9.12"
  },
  "orig_nbformat": 4,
  "vscode": {
   "interpreter": {
    "hash": "d78d520d2fd55cd75a0ac7b83624b104c26071aca2f394508256a507a4d1b011"
   }
  }
 },
 "nbformat": 4,
 "nbformat_minor": 2
}
