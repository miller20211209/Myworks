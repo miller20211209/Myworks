{
 "cells": [
  {
   "cell_type": "markdown",
   "metadata": {},
   "source": [
    "# 使用詞向量 (Word2Vec)\n",
    "- 使用預先訓練好的詞向量轉換來代替 PyTorch 內建的嵌入層轉換\n",
    "- PyTorch 支援 GloVe, FastText 及 CharNGram 三種詞向量"
   ]
  },
  {
   "cell_type": "markdown",
   "metadata": {},
   "source": [
    "## 以 GloVe 為例"
   ]
  },
  {
   "cell_type": "markdown",
   "metadata": {},
   "source": [
    "## 讀取 GloVe 50 維的詞向量"
   ]
  },
  {
   "cell_type": "code",
   "execution_count": 6,
   "metadata": {},
   "outputs": [
    {
     "data": {
      "text/plain": [
       "tensor([[-0.0266,  1.3357, -1.0280, -0.3729,  0.5201, -0.1270, -0.3543,  0.3782,\n",
       "         -0.2972,  0.0939, -0.0341,  0.9296, -0.1402, -0.6330,  0.0208, -0.2153,\n",
       "          0.9692,  0.4765, -1.0039, -0.2401, -0.3632, -0.0048, -0.5148, -0.4626,\n",
       "          1.2447, -1.8316, -1.5581, -0.3747,  0.5336,  0.2088,  3.2209,  0.6455,\n",
       "          0.3744, -0.1766, -0.0242,  0.3379, -0.4190,  0.4008, -0.1145,  0.0512,\n",
       "         -0.1521,  0.2986, -0.4405,  0.1109, -0.2463,  0.6625, -0.2695, -0.4966,\n",
       "         -0.4162, -0.2549]])"
      ]
     },
     "execution_count": 6,
     "metadata": {},
     "output_type": "execute_result"
    }
   ],
   "source": [
    "import torchtext\n",
    "\n",
    "examples = [\"great\"]\n",
    "vec = torchtext.vocab.GloVe(name = \"6B\", dim = 50)\n",
    "ret = vec.get_vecs_by_tokens(examples, lower_case_backup = True)\n",
    "ret"
   ]
  },
  {
   "cell_type": "markdown",
   "metadata": {},
   "source": [
    "#### 顯示詞向量大小"
   ]
  },
  {
   "cell_type": "code",
   "execution_count": null,
   "metadata": {},
   "outputs": [],
   "source": [
    "vec.vectors.size()"
   ]
  },
  {
   "cell_type": "markdown",
   "metadata": {},
   "source": [
    "#### 查詢單字的詞向量索引值"
   ]
  },
  {
   "cell_type": "code",
   "execution_count": null,
   "metadata": {},
   "outputs": [],
   "source": [
    "vec.stoi[\"great\"]"
   ]
  },
  {
   "cell_type": "markdown",
   "metadata": {},
   "source": [
    "### 建立模型 (之前的作法)"
   ]
  },
  {
   "cell_type": "code",
   "execution_count": 7,
   "metadata": {},
   "outputs": [],
   "source": [
    "import torch\n",
    "import torchtext\n",
    "import torch.nn as nn\n",
    "import numpy as np\n",
    "import string\n",
    "\n",
    "class RecurrentNet(nn.Module):\n",
    "    def __init__(self, weights_matrix, num_embeddings, embedding_dim, num_class):\n",
    "        super().__init__()\n",
    "        self.embedding = nn.EmbeddingBag(num_embeddings, embedding_dim)\n",
    "        # 設定嵌入層權重\n",
    "        self.embedding.load_state_dict({\"weight\": weights_matrix})\n",
    "        self.fc = nn.Linear(embedding_dim, num_class)\n",
    "\n",
    "    def forward(self, text):\n",
    "        embedded = self.embedding(text)\n",
    "        return self.fc(embedded)\n"
   ]
  },
  {
   "cell_type": "markdown",
   "metadata": {},
   "source": [
    "### 測試資料轉換 (之前的作法)"
   ]
  },
  {
   "cell_type": "code",
   "execution_count": 8,
   "metadata": {},
   "outputs": [],
   "source": [
    "docs =[\n",
    "        \"Well done!!\",\n",
    "        \"Good work\",\n",
    "        \"Great effort\",\n",
    "        \"nice work\",\n",
    "        \"Excellent!!\",\n",
    "        \"Weak\",\n",
    "        \"Poor effort!!\",\n",
    "        \"not good\",\n",
    "        \"poor work\",\n",
    "        \"Could have done better\"\n",
    "]\n",
    "\n",
    "stopwords = list(string.punctuation)\n",
    "tokenizer = torchtext.data.utils.get_tokenizer(\"basic_english\")\n",
    "\n",
    "# 將詞彙表轉為詞向量\n",
    "clean_text_list = []\n",
    "clean_tokens_list = []\n",
    "for i, text in enumerate(docs):\n",
    "    tokens = tokenizer(text.lower())\n",
    "    clean_tokens = []\n",
    "    for w in tokens:\n",
    "        if w not in stopwords:\n",
    "            clean_tokens.append(w)\n",
    "    clean_tokens_list += clean_tokens\n",
    "    clean_text_list.append(clean_tokens)\n",
    "    tokens_vec = vec.get_vecs_by_tokens(clean_tokens)\n",
    "    # print(\"clean_tokens_list\", clean_tokens_list)\n",
    "    # print()\n",
    "    # print(\"clean_text_list\", clean_text_list)\n",
    "    # print()\n",
    "    # print(\"clean_tokens\", clean_tokens)\n",
    "    # print()\n",
    "# print(\"clean_tokens_list\", set(clean_tokens_list))\n",
    "\n",
    "vocab_list = list(set(clean_tokens_list))\n",
    "weights_matrix = vec.get_vecs_by_tokens(vocab_list)"
   ]
  },
  {
   "cell_type": "markdown",
   "metadata": {},
   "source": [
    "### 定義 10 個語句的正面 (1) 或負面 (0) 的情緒, 並將 10 個語句轉換維詞彙表索引值 (之前的作法)"
   ]
  },
  {
   "cell_type": "code",
   "execution_count": 9,
   "metadata": {},
   "outputs": [
    {
     "data": {
      "text/plain": [
       "tensor([[ 5,  1,  0,  0],\n",
       "        [13,  4,  0,  0],\n",
       "        [ 3,  9,  0,  0],\n",
       "        [12,  4,  0,  0],\n",
       "        [ 8,  0,  0,  0],\n",
       "        [ 6,  0,  0,  0],\n",
       "        [ 2,  9,  0,  0],\n",
       "        [ 7, 13,  0,  0],\n",
       "        [ 2,  4,  0,  0],\n",
       "        [11,  0,  1, 10]])"
      ]
     },
     "execution_count": 9,
     "metadata": {},
     "output_type": "execute_result"
    }
   ],
   "source": [
    "maxlen = 4\n",
    "\n",
    "# 定義 10 個語句的正面 (1) 或負面 (0) 的情緒\n",
    "y = torch.FloatTensor([1,1,1,1,1,0,0,0,0,0])\n",
    "X = torch.LongTensor(np.zeros((len(docs), maxlen)))\n",
    "for i, item in enumerate(clean_text_list):\n",
    "    for j, token in enumerate(item):\n",
    "        if token in vocab_list:\n",
    "            X[i, j] = vocab_list.index(token)\n",
    "\n",
    "X"
   ]
  },
  {
   "cell_type": "code",
   "execution_count": 10,
   "metadata": {},
   "outputs": [
    {
     "data": {
      "text/plain": [
       "['have',\n",
       " 'done',\n",
       " 'poor',\n",
       " 'great',\n",
       " 'work',\n",
       " 'well',\n",
       " 'weak',\n",
       " 'not',\n",
       " 'excellent',\n",
       " 'effort',\n",
       " 'better',\n",
       " 'could',\n",
       " 'nice',\n",
       " 'good']"
      ]
     },
     "execution_count": 10,
     "metadata": {},
     "output_type": "execute_result"
    }
   ],
   "source": [
    "vocab_list"
   ]
  },
  {
   "cell_type": "markdown",
   "metadata": {},
   "source": [
    "### 模型訓練 (類似之前的作法)"
   ]
  },
  {
   "cell_type": "code",
   "execution_count": 11,
   "metadata": {},
   "outputs": [
    {
     "name": "stdout",
     "output_type": "stream",
     "text": [
      "Epoch: 0, loss: 1.10729\n",
      "Epoch: 100, loss: 0.13446\n",
      "Epoch: 200, loss: 0.04207\n",
      "Epoch: 300, loss: 0.01199\n",
      "Epoch: 400, loss: 0.00545\n",
      "Epoch: 500, loss: 0.00280\n",
      "Epoch: 600, loss: 0.00138\n",
      "Epoch: 700, loss: 0.00063\n",
      "Epoch: 800, loss: 0.00026\n",
      "Epoch: 900, loss: 0.00010\n"
     ]
    }
   ],
   "source": [
    "# 建立模型物件\n",
    "model = RecurrentNet(torch.FloatTensor(weights_matrix), len(vocab_list), 50, 1)\n",
    "\n",
    "# 指定優化器, 損失函數\n",
    "criterion = torch.nn.MSELoss()\n",
    "optimizer = torch.optim.Adam(model.parameters())\n",
    "\n",
    "# 模型訓練\n",
    "for epoch in range(1000):\n",
    "    outputs = model.forward(X)\n",
    "    optimizer.zero_grad()\n",
    "    loss = criterion(outputs.reshape(-1), y)\n",
    "    loss.backward()\n",
    "    optimizer.step()\n",
    "    if epoch % 100 == 0:\n",
    "        print(f\"Epoch: {epoch}, loss: {loss.item():1.5f}\")"
   ]
  },
  {
   "cell_type": "markdown",
   "metadata": {},
   "source": [
    "### 模型評估 (類似之前的作法)"
   ]
  },
  {
   "cell_type": "code",
   "execution_count": 12,
   "metadata": {},
   "outputs": [
    {
     "data": {
      "text/plain": [
       "tensor([[ 9.9986e-01],\n",
       "        [ 9.9225e-01],\n",
       "        [ 1.0063e+00],\n",
       "        [ 9.9858e-01],\n",
       "        [ 9.9941e-01],\n",
       "        [-1.1912e-03],\n",
       "        [-9.9203e-03],\n",
       "        [ 4.4055e-03],\n",
       "        [ 1.1089e-02],\n",
       "        [-1.1119e-04]], grad_fn=<AddmmBackward0>)"
      ]
     },
     "execution_count": 12,
     "metadata": {},
     "output_type": "execute_result"
    }
   ],
   "source": [
    "model.eval()\n",
    "model(X)"
   ]
  },
  {
   "cell_type": "markdown",
   "metadata": {},
   "source": [
    "### 測試新資料 (類似之前的作法)"
   ]
  },
  {
   "cell_type": "code",
   "execution_count": 13,
   "metadata": {},
   "outputs": [
    {
     "data": {
      "text/plain": [
       "tensor([[ 1.0063],\n",
       "        [ 0.9999],\n",
       "        [-0.0099]], grad_fn=<AddmmBackward0>)"
      ]
     },
     "execution_count": 13,
     "metadata": {},
     "output_type": "execute_result"
    }
   ],
   "source": [
    "# 測試資料\n",
    "test_docs = [\n",
    "                \"great effort\",\n",
    "                \"well done\",\n",
    "                \"poor effort\"\n",
    "]\n",
    "\n",
    "# 轉成數值\n",
    "X = torch.LongTensor(np.zeros((len(test_docs), maxlen)))\n",
    "clean_text_list = []\n",
    "for i, text in enumerate(test_docs):\n",
    "    tokens = tokenizer(text.lower())\n",
    "    clean_tokens = []\n",
    "    for w in tokens:\n",
    "        if w not in stopwords:\n",
    "            clean_tokens.append(w)\n",
    "    clean_text_list.append(clean_tokens)\n",
    "\n",
    "for i, item in enumerate(clean_text_list):\n",
    "    for j, token in enumerate(item):\n",
    "        if token in vocab_list:\n",
    "            X[i, j] = vocab_list.index(token)\n",
    "\n",
    "# 預測\n",
    "model.eval()\n",
    "model(X)"
   ]
  },
  {
   "cell_type": "markdown",
   "metadata": {},
   "source": [
    "## 以上做法 (之前的作法) 並不能預測訓練資料以外的單字."
   ]
  }
 ],
 "metadata": {
  "kernelspec": {
   "display_name": "Python 3.9.12 ('dp1')",
   "language": "python",
   "name": "python3"
  },
  "language_info": {
   "codemirror_mode": {
    "name": "ipython",
    "version": 3
   },
   "file_extension": ".py",
   "mimetype": "text/x-python",
   "name": "python",
   "nbconvert_exporter": "python",
   "pygments_lexer": "ipython3",
   "version": "3.9.12"
  },
  "orig_nbformat": 4,
  "vscode": {
   "interpreter": {
    "hash": "11392ef459069d601d11ff7ceba327d19eb4b45e7e3534b48cc5347edbf5a449"
   }
  }
 },
 "nbformat": 4,
 "nbformat_minor": 2
}
