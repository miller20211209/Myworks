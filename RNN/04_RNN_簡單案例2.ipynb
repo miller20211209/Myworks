{
 "cells": [
  {
   "cell_type": "markdown",
   "metadata": {},
   "source": [
    "# 與案例1差異在訓練模型的不同"
   ]
  },
  {
   "cell_type": "markdown",
   "metadata": {},
   "source": [
    "## Pytorch 前置處理"
   ]
  },
  {
   "cell_type": "markdown",
   "metadata": {},
   "source": [
    "### 分詞"
   ]
  },
  {
   "cell_type": "code",
   "execution_count": 2,
   "metadata": {},
   "outputs": [
    {
     "data": {
      "text/plain": [
       "['could', 'have', 'done', 'better']"
      ]
     },
     "execution_count": 2,
     "metadata": {},
     "output_type": "execute_result"
    }
   ],
   "source": [
    "from torchtext.data.utils import get_tokenizer\n",
    "\n",
    "tokenizer = get_tokenizer(\"basic_english\")\n",
    "text = \"Could have done better\"\n",
    "tokenizer(text)"
   ]
  },
  {
   "cell_type": "markdown",
   "metadata": {},
   "source": [
    "### 詞彙表處理"
   ]
  },
  {
   "cell_type": "code",
   "execution_count": 3,
   "metadata": {},
   "outputs": [
    {
     "name": "stdout",
     "output_type": "stream",
     "text": [
      "dict_items([('could', 1), ('have', 1), ('done', 1), ('better', 1)])\n",
      "0\n",
      "3\n"
     ]
    }
   ],
   "source": [
    "from torchtext.vocab import vocab\n",
    "from collections import Counter, OrderedDict\n",
    "\n",
    "# BOW 統計\n",
    "counter = Counter(tokenizer(text))\n",
    "print(counter.items())\n",
    "\n",
    "# 依出現次數降冪排列\n",
    "sorted_by_freq_tuples = sorted(counter.items(),\n",
    "                                key = lambda x: x[1], reverse = True\n",
    "                                )\n",
    "\n",
    "# 建立詞彙字典\n",
    "ordered_dict = OrderedDict(sorted_by_freq_tuples)\n",
    "\n",
    "# 建立詞彙表物件, 並加一個未知單字(unknown)的索引值\n",
    "vocab_object = vocab(ordered_dict, specials = [\"<unk>\"])\n",
    "\n",
    "# 設定詞彙表預設值為未知單字(unknow)的索引值\n",
    "vocab_object.set_default_index(vocab_object[\"<unk>\"])\n",
    "\n",
    "# 測試\n",
    "print(vocab_object[\"Done\"])\n",
    "\n",
    "a = tokenizer(\"Done\")   # a 為list, 把字串取出來用 a[0]\n",
    "print(vocab_object[a[0]])"
   ]
  },
  {
   "cell_type": "markdown",
   "metadata": {},
   "source": [
    "- 取得詞彙表的所有單字"
   ]
  },
  {
   "cell_type": "code",
   "execution_count": 4,
   "metadata": {},
   "outputs": [
    {
     "data": {
      "text/plain": [
       "['<unk>', 'could', 'have', 'done', 'better']"
      ]
     },
     "execution_count": 4,
     "metadata": {},
     "output_type": "execute_result"
    }
   ],
   "source": [
    "vocab_object.get_itos()"
   ]
  },
  {
   "cell_type": "markdown",
   "metadata": {},
   "source": [
    "- 取得詞彙表單字個數"
   ]
  },
  {
   "cell_type": "code",
   "execution_count": 5,
   "metadata": {},
   "outputs": [
    {
     "data": {
      "text/plain": [
       "5"
      ]
     },
     "execution_count": 5,
     "metadata": {},
     "output_type": "execute_result"
    }
   ],
   "source": [
    "vocab_object.__len__()"
   ]
  },
  {
   "cell_type": "markdown",
   "metadata": {},
   "source": [
    "- 字串標點符號"
   ]
  },
  {
   "cell_type": "code",
   "execution_count": 6,
   "metadata": {},
   "outputs": [
    {
     "data": {
      "text/plain": [
       "'!\"#$%&\\'()*+,-./:;<=>?@[\\\\]^_`{|}~'"
      ]
     },
     "execution_count": 6,
     "metadata": {},
     "output_type": "execute_result"
    }
   ],
   "source": [
    "import string\n",
    "\n",
    "string.punctuation"
   ]
  },
  {
   "cell_type": "markdown",
   "metadata": {},
   "source": [
    "## 資料轉換函數"
   ]
  },
  {
   "cell_type": "code",
   "execution_count": 21,
   "metadata": {},
   "outputs": [],
   "source": [
    "import string\n",
    "import torch\n",
    "import torchtext\n",
    "import torch.nn as nn\n",
    "from torchtext.vocab import vocab\n",
    "from collections import Counter, OrderedDict\n",
    "\n",
    "def create_vocabulary(text_list):\n",
    "    # 取得標點符號\n",
    "    stopwords = list(string.punctuation)\n",
    "\n",
    "    # 去除標點符號\n",
    "    clean_text_list = []\n",
    "    clean_tokens_list = []\n",
    "    for text in text_list:\n",
    "        tokens = tokenizer(text)\n",
    "        clean_tokens = []\n",
    "        for w in tokens:\n",
    "            if w not in stopwords:\n",
    "                clean_tokens.append(w)\n",
    "        clean_tokens_list += clean_tokens\n",
    "        clean_text_list.append(\" \".join(clean_tokens))\n",
    "    # print(\"clean_tokens_list: \\n\", clean_tokens_list)\n",
    "    # print(\"clean_text_list: \\n\", clean_text_list)\n",
    "\n",
    "    # 建立詞彙表物件\n",
    "    counter = Counter(clean_tokens_list)\n",
    "    sorted_by_freq_tuples = sorted(counter.items(),\n",
    "                                    key = lambda x: x[1], reverse = True\n",
    "                                    )\n",
    "    ordered_dict = OrderedDict(sorted_by_freq_tuples)\n",
    "    vocab_object = vocab(ordered_dict, specials = [\"<unk>\"])\n",
    "    vocab_object.set_default_index(vocab_object[\"<unk>\"])\n",
    "\n",
    "    # 將輸入字串轉為索引值\n",
    "    clean_index_list = []\n",
    "    for clean_tokens_list in clean_text_list:\n",
    "        clean_index_list.append(\n",
    "            vocab_object.lookup_indices(clean_tokens_list.split(\" \"))\n",
    "        )\n",
    "    \n",
    "    # 輸出詞彙表物件, 去除標點符號的字串陣列, 字串陣列的索引值\n",
    "    return vocab_object, clean_text_list, clean_index_list\n",
    "    "
   ]
  },
  {
   "cell_type": "markdown",
   "metadata": {},
   "source": [
    "### 測試"
   ]
  },
  {
   "cell_type": "code",
   "execution_count": 14,
   "metadata": {},
   "outputs": [
    {
     "data": {
      "text/plain": [
       "['<unk>',\n",
       " 'work',\n",
       " 'done',\n",
       " 'good',\n",
       " 'effort',\n",
       " 'poor',\n",
       " 'well',\n",
       " 'great',\n",
       " 'nice',\n",
       " 'excellent',\n",
       " 'weak',\n",
       " 'not',\n",
       " 'could',\n",
       " 'have',\n",
       " 'better']"
      ]
     },
     "execution_count": 14,
     "metadata": {},
     "output_type": "execute_result"
    }
   ],
   "source": [
    "docs = [\n",
    "        \"Well done!!\",\n",
    "        \"Good work\",\n",
    "        \"Great effort\",\n",
    "        \"nice work\",\n",
    "        \"Excellent!!\",\n",
    "        \"Weak\",\n",
    "        \"Poor effort!\",\n",
    "        \"not good\",\n",
    "        \"poor work\",\n",
    "        \"Could have done better.\"\n",
    "]\n",
    "\n",
    "vocab_object, clean_text_list, clean_index_list = create_vocabulary(docs)\n",
    "vocab_object.get_itos()"
   ]
  },
  {
   "cell_type": "code",
   "execution_count": 15,
   "metadata": {},
   "outputs": [
    {
     "data": {
      "text/plain": [
       "['well done',\n",
       " 'good work',\n",
       " 'great effort',\n",
       " 'nice work',\n",
       " 'excellent',\n",
       " 'weak',\n",
       " 'poor effort',\n",
       " 'not good',\n",
       " 'poor work',\n",
       " 'could have done better']"
      ]
     },
     "execution_count": 15,
     "metadata": {},
     "output_type": "execute_result"
    }
   ],
   "source": [
    "clean_text_list"
   ]
  },
  {
   "cell_type": "code",
   "execution_count": 16,
   "metadata": {},
   "outputs": [
    {
     "data": {
      "text/plain": [
       "[[6, 2],\n",
       " [3, 1],\n",
       " [7, 4],\n",
       " [8, 1],\n",
       " [9],\n",
       " [10],\n",
       " [5, 4],\n",
       " [11, 3],\n",
       " [5, 1],\n",
       " [12, 13, 2, 14]]"
      ]
     },
     "execution_count": 16,
     "metadata": {},
     "output_type": "execute_result"
    }
   ],
   "source": [
    "clean_index_list"
   ]
  },
  {
   "cell_type": "markdown",
   "metadata": {},
   "source": [
    "### 建立詞彙表"
   ]
  },
  {
   "cell_type": "code",
   "execution_count": 17,
   "metadata": {},
   "outputs": [
    {
     "data": {
      "text/plain": [
       "tensor([[ 6,  2,  0,  0],\n",
       "        [ 3,  1,  0,  0],\n",
       "        [ 7,  4,  0,  0],\n",
       "        [ 8,  1,  0,  0],\n",
       "        [ 9,  0,  0,  0],\n",
       "        [10,  0,  0,  0],\n",
       "        [ 5,  4,  0,  0],\n",
       "        [11,  3,  0,  0],\n",
       "        [ 5,  1,  0,  0],\n",
       "        [12, 13,  2, 14]])"
      ]
     },
     "execution_count": 17,
     "metadata": {},
     "output_type": "execute_result"
    }
   ],
   "source": [
    "# 語句最大字數\n",
    "maxlen = 4\n",
    "\n",
    "# 測試資料\n",
    "docs = [\n",
    "        \"Well done!!\",\n",
    "        \"Good work\",\n",
    "        \"Great effort\",\n",
    "        \"nice work\",\n",
    "        \"Excellent!!\",\n",
    "        \"Weak\",\n",
    "        \"Poor effort!\",\n",
    "        \"not good\",\n",
    "        \"poor work\",\n",
    "        \"Could have done better.\"\n",
    "]\n",
    "\n",
    "vocab_object, clean_text_list, clean_index_list = create_vocabulary(docs)\n",
    "\n",
    "# 若句子過長, 刪除多餘單字\n",
    "clean_index_list = torchtext.functional.truncate(clean_index_list, maxlen)\n",
    "\n",
    "# 若句子長度不足, 後面補 0\n",
    "while len(clean_index_list[0]) < maxlen:\n",
    "        clean_index_list[0] += [0]\n",
    "torchtext.functional.to_tensor(clean_index_list, 0)"
   ]
  },
  {
   "cell_type": "markdown",
   "metadata": {},
   "source": [
    "### 遷入層轉換"
   ]
  },
  {
   "cell_type": "code",
   "execution_count": 18,
   "metadata": {},
   "outputs": [
    {
     "name": "stdout",
     "output_type": "stream",
     "text": [
      "torch.Size([10, 4, 5])\n"
     ]
    }
   ],
   "source": [
    "embeds = nn.Embedding(vocab_object.__len__(), 5)\n",
    "X = torchtext.functional.to_tensor(clean_index_list, 0)\n",
    "embed_output = embeds(X)\n",
    "print(embed_output.shape)"
   ]
  },
  {
   "cell_type": "markdown",
   "metadata": {},
   "source": [
    "## 再加上完全連接層\n",
    "- 採用另一種寫法, 使用 EmbeddingBag"
   ]
  },
  {
   "cell_type": "code",
   "execution_count": 22,
   "metadata": {},
   "outputs": [],
   "source": [
    "from turtle import forward\n",
    "\n",
    "\n",
    "class RecurrentNet(nn.Module):\n",
    "    def __init__(self, vocab_size, embed_dim, num_class):\n",
    "        super().__init__()\n",
    "        self.embedding = nn.EmbeddingBag(vocab_size, embed_dim)\n",
    "        self.fc = nn.Linear(embed_dim, num_class)\n",
    "        self.embed_dim = embed_dim\n",
    "        self.init_weights()\n",
    "\n",
    "    def init_weights(self):\n",
    "        initrange = 0.5\n",
    "        self.embedding.weight.data.uniform_(-initrange, initrange)\n",
    "        self.fc.weight.data.uniform_(-initrange, initrange)\n",
    "        self.fc.bias.data.zero_()\n",
    "\n",
    "    def forward(self, text):\n",
    "        embedded = self.embedding(text)\n",
    "        return self.fc(embedded)\n",
    "\n",
    "model = RecurrentNet(vocab_object.__len__(), 10, 1)"
   ]
  },
  {
   "cell_type": "markdown",
   "metadata": {},
   "source": [
    "## 模型訓練"
   ]
  },
  {
   "cell_type": "code",
   "execution_count": 23,
   "metadata": {},
   "outputs": [
    {
     "name": "stdout",
     "output_type": "stream",
     "text": [
      "Epoch: 0, loss: 0.58175\n",
      "Epoch: 100, loss: 0.25229\n",
      "Epoch: 200, loss: 0.13172\n",
      "Epoch: 300, loss: 0.06933\n",
      "Epoch: 400, loss: 0.02938\n",
      "Epoch: 500, loss: 0.00905\n",
      "Epoch: 600, loss: 0.00235\n",
      "Epoch: 700, loss: 0.00071\n",
      "Epoch: 800, loss: 0.00026\n",
      "Epoch: 900, loss: 0.00011\n"
     ]
    }
   ],
   "source": [
    "# 定義 10 個語句的正面(1)或負面(0)的情緒\n",
    "y = torch.FloatTensor([1,1,1,1,1,0,0,0,0,0])\n",
    "X = torchtext.functional.to_tensor(clean_index_list, 0)\n",
    "\n",
    "# 指定優化器, 損失函數\n",
    "criterion = torch.nn.MSELoss()\n",
    "optimizer = torch.optim.Adam(model.parameters())\n",
    "\n",
    "# 模型訓練\n",
    "for epoch in range(1000):\n",
    "    outputs = model.forward(X)\n",
    "    optimizer.zero_grad()\n",
    "    loss = criterion(outputs.reshape(-1), y)\n",
    "    loss.backward()\n",
    "    optimizer.step()\n",
    "    if epoch % 100 == 0:\n",
    "        print(f\"Epoch: {epoch}, loss: {loss.item():1.5f}\")"
   ]
  },
  {
   "cell_type": "markdown",
   "metadata": {},
   "source": [
    "## 模型評估"
   ]
  },
  {
   "cell_type": "code",
   "execution_count": 24,
   "metadata": {},
   "outputs": [
    {
     "data": {
      "text/plain": [
       "tensor([[ 1.0001e+00],\n",
       "        [ 9.8575e-01],\n",
       "        [ 1.0049e+00],\n",
       "        [ 1.0056e+00],\n",
       "        [ 9.9968e-01],\n",
       "        [-2.1247e-03],\n",
       "        [-7.9737e-03],\n",
       "        [ 7.4796e-03],\n",
       "        [ 8.6606e-03],\n",
       "        [-7.1809e-05]], grad_fn=<AddmmBackward0>)"
      ]
     },
     "execution_count": 24,
     "metadata": {},
     "output_type": "execute_result"
    }
   ],
   "source": [
    "model.eval()\n",
    "model(X)"
   ]
  },
  {
   "cell_type": "markdown",
   "metadata": {},
   "source": [
    "## 測試新資料"
   ]
  },
  {
   "cell_type": "code",
   "execution_count": 25,
   "metadata": {},
   "outputs": [
    {
     "data": {
      "text/plain": [
       "tensor([[ 1.0049],\n",
       "        [ 1.0001],\n",
       "        [-0.0080]], grad_fn=<AddmmBackward0>)"
      ]
     },
     "execution_count": 25,
     "metadata": {},
     "output_type": "execute_result"
    }
   ],
   "source": [
    "# 測試資料\n",
    "test_docs = [\n",
    "            \"great effort\",\n",
    "            \"well done\",\n",
    "            \"poor effort\",\n",
    "]\n",
    "\n",
    "# 轉成數值\n",
    "clean_index_list = []\n",
    "for text in test_docs:\n",
    "    clean_index_list.append(vocab_object.lookup_indices(text.split(\" \")))\n",
    "while len(clean_index_list[0]) < maxlen:\n",
    "    clean_index_list[0] += [0]\n",
    "\n",
    "clean_index_list = torchtext.functional.truncate(clean_index_list, maxlen)\n",
    "X = torchtext.functional.to_tensor(clean_index_list, 0)\n",
    "model(X)\n"
   ]
  }
 ],
 "metadata": {
  "kernelspec": {
   "display_name": "Python 3.9.12 ('dp1')",
   "language": "python",
   "name": "python3"
  },
  "language_info": {
   "codemirror_mode": {
    "name": "ipython",
    "version": 3
   },
   "file_extension": ".py",
   "mimetype": "text/x-python",
   "name": "python",
   "nbconvert_exporter": "python",
   "pygments_lexer": "ipython3",
   "version": "3.9.12"
  },
  "orig_nbformat": 4,
  "vscode": {
   "interpreter": {
    "hash": "11392ef459069d601d11ff7ceba327d19eb4b45e7e3534b48cc5347edbf5a449"
   }
  }
 },
 "nbformat": 4,
 "nbformat_minor": 2
}
