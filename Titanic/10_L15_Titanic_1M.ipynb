{
 "cells": [
  {
   "cell_type": "markdown",
   "metadata": {},
   "source": [
    "# 資料探索"
   ]
  },
  {
   "cell_type": "markdown",
   "metadata": {},
   "source": [
    "## 針對Kaggle的Titanic倖存預測競賽，將分為下列三個階段來進行"
   ]
  },
  {
   "cell_type": "markdown",
   "metadata": {},
   "source": [
    "### 資料分析 Data analysis\n",
    "- 了解資料, 資料形態、架構的掌握\n",
    "- 資料發現Data exploration\n",
    "- 資料的相關及變異"
   ]
  },
  {
   "cell_type": "markdown",
   "metadata": {},
   "source": [
    "### 特徵工程 Feature engineering\n",
    "- Feature cleaning\n",
    "- feature imputation\n",
    "- feature selection\n",
    "- feature encoding\n",
    "- feature scaling"
   ]
  },
  {
   "cell_type": "markdown",
   "metadata": {},
   "source": [
    "### 模型建立與訓練\n",
    "- 模型選擇 (演算法選擇)\n",
    "- model training\n",
    "- model scoring\n",
    "- model evauation\n",
    "- predict"
   ]
  },
  {
   "cell_type": "markdown",
   "metadata": {},
   "source": [
    "## loading module"
   ]
  },
  {
   "cell_type": "code",
   "execution_count": 68,
   "metadata": {},
   "outputs": [],
   "source": [
    "import numpy as np\n",
    "import pandas as pd\n",
    "import matplotlib.pyplot as plt\n",
    "import seaborn as sns"
   ]
  },
  {
   "cell_type": "markdown",
   "metadata": {},
   "source": [
    "## load dataset"
   ]
  },
  {
   "cell_type": "code",
   "execution_count": 69,
   "metadata": {},
   "outputs": [
    {
     "data": {
      "text/html": [
       "<div>\n",
       "<style scoped>\n",
       "    .dataframe tbody tr th:only-of-type {\n",
       "        vertical-align: middle;\n",
       "    }\n",
       "\n",
       "    .dataframe tbody tr th {\n",
       "        vertical-align: top;\n",
       "    }\n",
       "\n",
       "    .dataframe thead th {\n",
       "        text-align: right;\n",
       "    }\n",
       "</style>\n",
       "<table border=\"1\" class=\"dataframe\">\n",
       "  <thead>\n",
       "    <tr style=\"text-align: right;\">\n",
       "      <th></th>\n",
       "      <th>PassengerId</th>\n",
       "      <th>Survived</th>\n",
       "      <th>Pclass</th>\n",
       "      <th>Name</th>\n",
       "      <th>Sex</th>\n",
       "      <th>Age</th>\n",
       "      <th>SibSp</th>\n",
       "      <th>Parch</th>\n",
       "      <th>Ticket</th>\n",
       "      <th>Fare</th>\n",
       "      <th>Cabin</th>\n",
       "      <th>Embarked</th>\n",
       "    </tr>\n",
       "  </thead>\n",
       "  <tbody>\n",
       "    <tr>\n",
       "      <th>0</th>\n",
       "      <td>1</td>\n",
       "      <td>0</td>\n",
       "      <td>3</td>\n",
       "      <td>Braund, Mr. Owen Harris</td>\n",
       "      <td>male</td>\n",
       "      <td>22.0</td>\n",
       "      <td>1</td>\n",
       "      <td>0</td>\n",
       "      <td>A/5 21171</td>\n",
       "      <td>7.2500</td>\n",
       "      <td>NaN</td>\n",
       "      <td>S</td>\n",
       "    </tr>\n",
       "    <tr>\n",
       "      <th>1</th>\n",
       "      <td>2</td>\n",
       "      <td>1</td>\n",
       "      <td>1</td>\n",
       "      <td>Cumings, Mrs. John Bradley (Florence Briggs Th...</td>\n",
       "      <td>female</td>\n",
       "      <td>38.0</td>\n",
       "      <td>1</td>\n",
       "      <td>0</td>\n",
       "      <td>PC 17599</td>\n",
       "      <td>71.2833</td>\n",
       "      <td>C85</td>\n",
       "      <td>C</td>\n",
       "    </tr>\n",
       "    <tr>\n",
       "      <th>2</th>\n",
       "      <td>3</td>\n",
       "      <td>1</td>\n",
       "      <td>3</td>\n",
       "      <td>Heikkinen, Miss. Laina</td>\n",
       "      <td>female</td>\n",
       "      <td>26.0</td>\n",
       "      <td>0</td>\n",
       "      <td>0</td>\n",
       "      <td>STON/O2. 3101282</td>\n",
       "      <td>7.9250</td>\n",
       "      <td>NaN</td>\n",
       "      <td>S</td>\n",
       "    </tr>\n",
       "    <tr>\n",
       "      <th>3</th>\n",
       "      <td>4</td>\n",
       "      <td>1</td>\n",
       "      <td>1</td>\n",
       "      <td>Futrelle, Mrs. Jacques Heath (Lily May Peel)</td>\n",
       "      <td>female</td>\n",
       "      <td>35.0</td>\n",
       "      <td>1</td>\n",
       "      <td>0</td>\n",
       "      <td>113803</td>\n",
       "      <td>53.1000</td>\n",
       "      <td>C123</td>\n",
       "      <td>S</td>\n",
       "    </tr>\n",
       "    <tr>\n",
       "      <th>4</th>\n",
       "      <td>5</td>\n",
       "      <td>0</td>\n",
       "      <td>3</td>\n",
       "      <td>Allen, Mr. William Henry</td>\n",
       "      <td>male</td>\n",
       "      <td>35.0</td>\n",
       "      <td>0</td>\n",
       "      <td>0</td>\n",
       "      <td>373450</td>\n",
       "      <td>8.0500</td>\n",
       "      <td>NaN</td>\n",
       "      <td>S</td>\n",
       "    </tr>\n",
       "  </tbody>\n",
       "</table>\n",
       "</div>"
      ],
      "text/plain": [
       "   PassengerId  Survived  Pclass  \\\n",
       "0            1         0       3   \n",
       "1            2         1       1   \n",
       "2            3         1       3   \n",
       "3            4         1       1   \n",
       "4            5         0       3   \n",
       "\n",
       "                                                Name     Sex   Age  SibSp  \\\n",
       "0                            Braund, Mr. Owen Harris    male  22.0      1   \n",
       "1  Cumings, Mrs. John Bradley (Florence Briggs Th...  female  38.0      1   \n",
       "2                             Heikkinen, Miss. Laina  female  26.0      0   \n",
       "3       Futrelle, Mrs. Jacques Heath (Lily May Peel)  female  35.0      1   \n",
       "4                           Allen, Mr. William Henry    male  35.0      0   \n",
       "\n",
       "   Parch            Ticket     Fare Cabin Embarked  \n",
       "0      0         A/5 21171   7.2500   NaN        S  \n",
       "1      0          PC 17599  71.2833   C85        C  \n",
       "2      0  STON/O2. 3101282   7.9250   NaN        S  \n",
       "3      0            113803  53.1000  C123        S  \n",
       "4      0            373450   8.0500   NaN        S  "
      ]
     },
     "execution_count": 69,
     "metadata": {},
     "output_type": "execute_result"
    }
   ],
   "source": [
    "df_train = pd.read_csv('Titanic\\Kaggle data\\\\train.csv')\n",
    "df_train.head()"
   ]
  },
  {
   "cell_type": "markdown",
   "metadata": {},
   "source": [
    "### 資料分析 Data analysis\n",
    "- 了解資料, 資料形態、架構的掌握"
   ]
  },
  {
   "cell_type": "markdown",
   "metadata": {},
   "source": [
    "#### .info() 就可以看全部"
   ]
  },
  {
   "cell_type": "code",
   "execution_count": 9,
   "metadata": {},
   "outputs": [
    {
     "name": "stdout",
     "output_type": "stream",
     "text": [
      "(891, 12)\n",
      "----------------------------\n",
      "<class 'pandas.core.frame.DataFrame'>\n",
      "RangeIndex: 891 entries, 0 to 890\n",
      "Data columns (total 12 columns):\n",
      " #   Column       Non-Null Count  Dtype  \n",
      "---  ------       --------------  -----  \n",
      " 0   PassengerId  891 non-null    int64  \n",
      " 1   Survived     891 non-null    int64  \n",
      " 2   Pclass       891 non-null    int64  \n",
      " 3   Name         891 non-null    object \n",
      " 4   Sex          891 non-null    object \n",
      " 5   Age          714 non-null    float64\n",
      " 6   SibSp        891 non-null    int64  \n",
      " 7   Parch        891 non-null    int64  \n",
      " 8   Ticket       891 non-null    object \n",
      " 9   Fare         891 non-null    float64\n",
      " 10  Cabin        204 non-null    object \n",
      " 11  Embarked     889 non-null    object \n",
      "dtypes: float64(2), int64(5), object(5)\n",
      "memory usage: 83.7+ KB\n",
      "None\n"
     ]
    }
   ],
   "source": [
    "print(df_train.shape)\n",
    "print('----------------------------')\n",
    "print(df_train.info())\n"
   ]
  },
  {
   "cell_type": "markdown",
   "metadata": {},
   "source": [
    "#### 看數值的統計量"
   ]
  },
  {
   "cell_type": "code",
   "execution_count": 10,
   "metadata": {},
   "outputs": [
    {
     "name": "stdout",
     "output_type": "stream",
     "text": [
      "       PassengerId    Survived      Pclass         Age       SibSp  \\\n",
      "count   891.000000  891.000000  891.000000  714.000000  891.000000   \n",
      "mean    446.000000    0.383838    2.308642   29.699118    0.523008   \n",
      "std     257.353842    0.486592    0.836071   14.526497    1.102743   \n",
      "min       1.000000    0.000000    1.000000    0.420000    0.000000   \n",
      "25%     223.500000    0.000000    2.000000   20.125000    0.000000   \n",
      "50%     446.000000    0.000000    3.000000   28.000000    0.000000   \n",
      "75%     668.500000    1.000000    3.000000   38.000000    1.000000   \n",
      "max     891.000000    1.000000    3.000000   80.000000    8.000000   \n",
      "\n",
      "            Parch        Fare  \n",
      "count  891.000000  891.000000  \n",
      "mean     0.381594   32.204208  \n",
      "std      0.806057   49.693429  \n",
      "min      0.000000    0.000000  \n",
      "25%      0.000000    7.910400  \n",
      "50%      0.000000   14.454200  \n",
      "75%      0.000000   31.000000  \n",
      "max      6.000000  512.329200  \n"
     ]
    }
   ],
   "source": [
    "print(df_train.describe())"
   ]
  },
  {
   "cell_type": "markdown",
   "metadata": {},
   "source": [
    "#### 檢視非數值欄位："
   ]
  },
  {
   "cell_type": "code",
   "execution_count": 11,
   "metadata": {},
   "outputs": [
    {
     "data": {
      "text/html": [
       "<div>\n",
       "<style scoped>\n",
       "    .dataframe tbody tr th:only-of-type {\n",
       "        vertical-align: middle;\n",
       "    }\n",
       "\n",
       "    .dataframe tbody tr th {\n",
       "        vertical-align: top;\n",
       "    }\n",
       "\n",
       "    .dataframe thead th {\n",
       "        text-align: right;\n",
       "    }\n",
       "</style>\n",
       "<table border=\"1\" class=\"dataframe\">\n",
       "  <thead>\n",
       "    <tr style=\"text-align: right;\">\n",
       "      <th></th>\n",
       "      <th>Name</th>\n",
       "      <th>Sex</th>\n",
       "      <th>Ticket</th>\n",
       "      <th>Cabin</th>\n",
       "      <th>Embarked</th>\n",
       "    </tr>\n",
       "  </thead>\n",
       "  <tbody>\n",
       "    <tr>\n",
       "      <th>count</th>\n",
       "      <td>891</td>\n",
       "      <td>891</td>\n",
       "      <td>891</td>\n",
       "      <td>204</td>\n",
       "      <td>889</td>\n",
       "    </tr>\n",
       "    <tr>\n",
       "      <th>unique</th>\n",
       "      <td>891</td>\n",
       "      <td>2</td>\n",
       "      <td>681</td>\n",
       "      <td>147</td>\n",
       "      <td>3</td>\n",
       "    </tr>\n",
       "    <tr>\n",
       "      <th>top</th>\n",
       "      <td>Braund, Mr. Owen Harris</td>\n",
       "      <td>male</td>\n",
       "      <td>347082</td>\n",
       "      <td>B96 B98</td>\n",
       "      <td>S</td>\n",
       "    </tr>\n",
       "    <tr>\n",
       "      <th>freq</th>\n",
       "      <td>1</td>\n",
       "      <td>577</td>\n",
       "      <td>7</td>\n",
       "      <td>4</td>\n",
       "      <td>644</td>\n",
       "    </tr>\n",
       "  </tbody>\n",
       "</table>\n",
       "</div>"
      ],
      "text/plain": [
       "                           Name   Sex  Ticket    Cabin Embarked\n",
       "count                       891   891     891      204      889\n",
       "unique                      891     2     681      147        3\n",
       "top     Braund, Mr. Owen Harris  male  347082  B96 B98        S\n",
       "freq                          1   577       7        4      644"
      ]
     },
     "execution_count": 11,
     "metadata": {},
     "output_type": "execute_result"
    }
   ],
   "source": [
    "df_train.describe(include = 'O')"
   ]
  },
  {
   "cell_type": "markdown",
   "metadata": {},
   "source": [
    "### 資料分析 Data analysis"
   ]
  },
  {
   "cell_type": "markdown",
   "metadata": {},
   "source": [
    "#### 資料的相關及變異 1"
   ]
  },
  {
   "cell_type": "code",
   "execution_count": 70,
   "metadata": {},
   "outputs": [
    {
     "data": {
      "image/png": "[encoded data removed]",
      "text/plain": [
       "<Figure size 432x288 with 2 Axes>"
      ]
     },
     "metadata": {},
     "output_type": "display_data"
    }
   ],
   "source": [
    "data = df_train\n",
    "ax = sns.heatmap(data.isnull())\n",
    "\n",
    "# ax.set_xlabel('Species', color='white')\n",
    "# ax.set_ylabel('count', color='white')\n",
    "ax.tick_params(colors='white', which='both')"
   ]
  },
  {
   "cell_type": "markdown",
   "metadata": {},
   "source": [
    "#### 資料的相關及變異 2"
   ]
  },
  {
   "cell_type": "code",
   "execution_count": 22,
   "metadata": {},
   "outputs": [
    {
     "data": {
      "text/plain": [
       "<matplotlib.legend.Legend at 0x21954b62c10>"
      ]
     },
     "execution_count": 22,
     "metadata": {},
     "output_type": "execute_result"
    },
    {
     "data": {
      "image/png": "[encoded data removed]",
      "text/plain": [
       "<Figure size 432x288 with 1 Axes>"
      ]
     },
     "metadata": {
      "needs_background": "dark"
     },
     "output_type": "display_data"
    }
   ],
   "source": [
    "# figure = plt.figure(figsize = (15, 8))\n",
    "plt.hist([data[data['Sex'] == 'male']['Age'], data[data['Sex'] == 'female']['Age']], \n",
    "    stacked = False, color = ['b', 'r'], bins = 30, label = ['Male', 'Female'])\n",
    "plt.xlabel('Age', color = 'white')\n",
    "plt.ylabel('Number of Sex', color = 'white')\n",
    "plt.tick_params(axis = 'both', colors = 'white')\n",
    "plt.grid()\n",
    "plt.legend()"
   ]
  },
  {
   "cell_type": "markdown",
   "metadata": {},
   "source": [
    "#### 資料的相關及變異 3"
   ]
  },
  {
   "cell_type": "code",
   "execution_count": 17,
   "metadata": {},
   "outputs": [
    {
     "data": {
      "text/html": [
       "<div>\n",
       "<style scoped>\n",
       "    .dataframe tbody tr th:only-of-type {\n",
       "        vertical-align: middle;\n",
       "    }\n",
       "\n",
       "    .dataframe tbody tr th {\n",
       "        vertical-align: top;\n",
       "    }\n",
       "\n",
       "    .dataframe thead th {\n",
       "        text-align: right;\n",
       "    }\n",
       "</style>\n",
       "<table border=\"1\" class=\"dataframe\">\n",
       "  <thead>\n",
       "    <tr style=\"text-align: right;\">\n",
       "      <th></th>\n",
       "      <th>Sex</th>\n",
       "      <th>Survived</th>\n",
       "    </tr>\n",
       "  </thead>\n",
       "  <tbody>\n",
       "    <tr>\n",
       "      <th>0</th>\n",
       "      <td>female</td>\n",
       "      <td>0.742038</td>\n",
       "    </tr>\n",
       "    <tr>\n",
       "      <th>1</th>\n",
       "      <td>male</td>\n",
       "      <td>0.188908</td>\n",
       "    </tr>\n",
       "  </tbody>\n",
       "</table>\n",
       "</div>"
      ],
      "text/plain": [
       "      Sex  Survived\n",
       "0  female  0.742038\n",
       "1    male  0.188908"
      ]
     },
     "execution_count": 17,
     "metadata": {},
     "output_type": "execute_result"
    }
   ],
   "source": [
    "data[['Sex', 'Survived']].groupby(['Sex'], as_index = False).mean().sort_values(\n",
    "    by = 'Survived', ascending = False)"
   ]
  },
  {
   "cell_type": "markdown",
   "metadata": {},
   "source": [
    "#### 資料的相關及變異 4"
   ]
  },
  {
   "cell_type": "code",
   "execution_count": 25,
   "metadata": {},
   "outputs": [
    {
     "data": {
      "image/png": "[encoded data removed]",
      "text/plain": [
       "<Figure size 432x288 with 1 Axes>"
      ]
     },
     "metadata": {
      "needs_background": "dark"
     },
     "output_type": "display_data"
    }
   ],
   "source": [
    "survived = data[data['Survived'] == 1]['Sex'].value_counts()\n",
    "# print(survived)\n",
    "dead = data[data['Survived'] == 0]['Sex'].value_counts()\n",
    "# print(dead)\n",
    "df = pd.DataFrame([survived, dead])\n",
    "df.index = ['Survived', 'Dead']\n",
    "\n",
    "ax = plt.gca()\n",
    "df.plot(ax=ax, kind='bar', stacked='True', color = ['r', 'b'])\n",
    "# df.plot(ax=ax, kind='bar', stacked='True', figsize=(15,8))\n",
    "ax.set_xlabel('Survived', color='white')\n",
    "ax.tick_params(axis='both', colors='white')\n",
    "ax.grid()"
   ]
  },
  {
   "cell_type": "markdown",
   "metadata": {},
   "source": [
    "#### 資料的相關及變異 5"
   ]
  },
  {
   "cell_type": "code",
   "execution_count": 26,
   "metadata": {},
   "outputs": [
    {
     "data": {
      "image/png": "[encoded data removed]",
      "text/plain": [
       "<Figure size 432x288 with 1 Axes>"
      ]
     },
     "metadata": {
      "needs_background": "dark"
     },
     "output_type": "display_data"
    }
   ],
   "source": [
    "# 算出男女總人數\n",
    "total_sex = data['Sex'].value_counts()\n",
    "\n",
    "# 男女存活比例\n",
    "p_survived = data[data['Survived'] == 1]['Sex'].value_counts() / total_sex\n",
    "p_dead = data[data['Survived'] == 0]['Sex'].value_counts() / total_sex\n",
    "\n",
    "df = pd.DataFrame([p_survived, p_dead])\n",
    "df.index = ['Survived', 'Dead']\n",
    "\n",
    "ax = plt.gca()\n",
    "df.plot(ax=ax, kind='bar', stacked=True, color=['r', 'b'])\n",
    "ax.tick_params(axis='both', colors='white')\n",
    "ax.grid()"
   ]
  },
  {
   "cell_type": "markdown",
   "metadata": {},
   "source": [
    "#### 資料的相關及變異 6"
   ]
  },
  {
   "cell_type": "code",
   "execution_count": 30,
   "metadata": {},
   "outputs": [
    {
     "name": "stdout",
     "output_type": "stream",
     "text": [
      "Mr. 647 males, Age average is 33.118\n",
      "Sir. 3 males, Age average is 35.500\n",
      "Dr. 11 males, Age average is 39.444\n",
      "Major. 2 males, Age average is 48.500\n",
      "Master. 40 males, Age average is 4.574\n",
      "---------------------\n",
      "Ms. 1 females, Age average is 28.000\n",
      "Miss. 182 females, Age average is 21.774\n",
      "Mrs. 129 females, Age average is 35.643\n",
      "Lady. 1 females, Age average is 48.000\n"
     ]
    }
   ],
   "source": [
    "for title in ['Mr.', 'Sir.', 'Dr.', 'Major.', 'Master.']:\n",
    "    num = data[data['Name'].str.contains(title)]['Name'].count()\n",
    "    age = data[data['Name'].str.contains(title)]['Age'].mean()\n",
    "    print(f'{title:s} {num:d} males, Age average is {age:.3f}')\n",
    "\n",
    "print('---------------------')\n",
    "\n",
    "for title in ['Ms.', 'Miss.', 'Mrs.', 'Lady.']:\n",
    "    num = data[data['Name'].str.contains(title)]['Name'].count()\n",
    "    age = data[data['Name'].str.contains(title)]['Age'].mean()\n",
    "    print(f'{title:s} {num:d} females, Age average is {age:.3f}')\n"
   ]
  },
  {
   "cell_type": "markdown",
   "metadata": {},
   "source": [
    "#### 資料的相關及變異 7"
   ]
  },
  {
   "cell_type": "code",
   "execution_count": 34,
   "metadata": {},
   "outputs": [
    {
     "name": "stdout",
     "output_type": "stream",
     "text": [
      "Mr. total: 647 -> 184 survived, 463 dead, 28.44% survived rate\n",
      "Sir. total: 3 -> 1 survived, 2 dead, 33.33% survived rate\n",
      "Dr. total: 11 -> 6 survived, 5 dead, 54.55% survived rate\n",
      "Major. total: 2 -> 1 survived, 1 dead, 50.00% survived rate\n",
      "Master. total: 40 -> 23 survived, 17 dead, 57.50% survived rate\n",
      "---------------------\n",
      "Ms. total: 1 -> 1 survived, 0 dead, 100.00% survived rate\n",
      "Miss. total: 182 -> 127 survived, 55 dead, 69.78% survived rate\n",
      "Mrs. total: 129 -> 102 survived, 27 dead, 79.07% survived rate\n",
      "Lady. total: 1 -> 1 survived, 0 dead, 100.00% survived rate\n"
     ]
    }
   ],
   "source": [
    "for title in ['Mr.', 'Sir.', 'Dr.', 'Major.', 'Master.']:\n",
    "    num_survived = data[(data['Survived'] == 1) & (data['Name'].str.contains(title))]['Name'].count()\n",
    "    num_dead = data[(data['Survived'] == 0) & (data['Name'].str.contains(title))]['Name'].count()\n",
    "    print(f'{title:s} total: {(num_survived+num_dead):d} -> {num_survived:d} survived, {num_dead:d} dead, {(num_survived/(num_survived+num_dead))*100:.2f}% survived rate')\n",
    "\n",
    "print('---------------------')\n",
    "\n",
    "for title in ['Ms.', 'Miss.', 'Mrs.', 'Lady.']:\n",
    "    num_survived = data[(data['Survived'] == 1) & (data['Name'].str.contains(title))]['Name'].count()\n",
    "    num_dead = data[(data['Survived'] == 0) & (data['Name'].str.contains(title))]['Name'].count()\n",
    "    print(f'{title:s} total: {(num_survived+num_dead):d} -> {num_survived:d} survived, {num_dead:d} dead, {(num_survived/(num_survived+num_dead))*100:.2f}% survived rate')\n",
    "\n"
   ]
  },
  {
   "cell_type": "markdown",
   "metadata": {},
   "source": [
    "#### 資料的相關及變異 8"
   ]
  },
  {
   "cell_type": "code",
   "execution_count": 37,
   "metadata": {},
   "outputs": [
    {
     "data": {
      "image/png": "[encoded data removed]",
      "text/plain": [
       "<Figure size 432x288 with 1 Axes>"
      ]
     },
     "metadata": {
      "needs_background": "dark"
     },
     "output_type": "display_data"
    }
   ],
   "source": [
    "survived_pclass = data[data['Survived'] == 1]['Pclass'].value_counts()\n",
    "dead_pclass = data[data['Survived'] == 0]['Pclass'].value_counts()\n",
    "df = pd.DataFrame([survived_pclass, dead_pclass])\n",
    "df.index = ['Survived', 'Dead']\n",
    "\n",
    "ax = plt.gca()\n",
    "df.plot(ax=ax, kind='bar', stacked=False, color=['r', 'b', 'g'])\n",
    "ax.tick_params(axis='both', colors='white')\n",
    "ax.grid()"
   ]
  },
  {
   "cell_type": "markdown",
   "metadata": {},
   "source": [
    "#### 資料的相關及變異 9\n"
   ]
  },
  {
   "cell_type": "code",
   "execution_count": 38,
   "metadata": {},
   "outputs": [
    {
     "data": {
      "text/html": [
       "<div>\n",
       "<style scoped>\n",
       "    .dataframe tbody tr th:only-of-type {\n",
       "        vertical-align: middle;\n",
       "    }\n",
       "\n",
       "    .dataframe tbody tr th {\n",
       "        vertical-align: top;\n",
       "    }\n",
       "\n",
       "    .dataframe thead th {\n",
       "        text-align: right;\n",
       "    }\n",
       "</style>\n",
       "<table border=\"1\" class=\"dataframe\">\n",
       "  <thead>\n",
       "    <tr style=\"text-align: right;\">\n",
       "      <th></th>\n",
       "      <th>Pclass</th>\n",
       "      <th>Survived</th>\n",
       "    </tr>\n",
       "  </thead>\n",
       "  <tbody>\n",
       "    <tr>\n",
       "      <th>0</th>\n",
       "      <td>1</td>\n",
       "      <td>0.629630</td>\n",
       "    </tr>\n",
       "    <tr>\n",
       "      <th>1</th>\n",
       "      <td>2</td>\n",
       "      <td>0.472826</td>\n",
       "    </tr>\n",
       "    <tr>\n",
       "      <th>2</th>\n",
       "      <td>3</td>\n",
       "      <td>0.242363</td>\n",
       "    </tr>\n",
       "  </tbody>\n",
       "</table>\n",
       "</div>"
      ],
      "text/plain": [
       "   Pclass  Survived\n",
       "0       1  0.629630\n",
       "1       2  0.472826\n",
       "2       3  0.242363"
      ]
     },
     "execution_count": 38,
     "metadata": {},
     "output_type": "execute_result"
    }
   ],
   "source": [
    "data[['Pclass', 'Survived']].groupby(['Pclass'], as_index=False).mean().sort_values(by = 'Survived', ascending = False)"
   ]
  },
  {
   "cell_type": "markdown",
   "metadata": {},
   "source": [
    "#### 資料的相關及變異 10\n"
   ]
  },
  {
   "cell_type": "code",
   "execution_count": 39,
   "metadata": {},
   "outputs": [
    {
     "data": {
      "text/html": [
       "<div>\n",
       "<style scoped>\n",
       "    .dataframe tbody tr th:only-of-type {\n",
       "        vertical-align: middle;\n",
       "    }\n",
       "\n",
       "    .dataframe tbody tr th {\n",
       "        vertical-align: top;\n",
       "    }\n",
       "\n",
       "    .dataframe thead th {\n",
       "        text-align: right;\n",
       "    }\n",
       "</style>\n",
       "<table border=\"1\" class=\"dataframe\">\n",
       "  <thead>\n",
       "    <tr style=\"text-align: right;\">\n",
       "      <th></th>\n",
       "      <th>Pclass</th>\n",
       "      <th>Sex</th>\n",
       "      <th>Survived</th>\n",
       "    </tr>\n",
       "  </thead>\n",
       "  <tbody>\n",
       "    <tr>\n",
       "      <th>0</th>\n",
       "      <td>1</td>\n",
       "      <td>female</td>\n",
       "      <td>0.968085</td>\n",
       "    </tr>\n",
       "    <tr>\n",
       "      <th>2</th>\n",
       "      <td>2</td>\n",
       "      <td>female</td>\n",
       "      <td>0.921053</td>\n",
       "    </tr>\n",
       "    <tr>\n",
       "      <th>4</th>\n",
       "      <td>3</td>\n",
       "      <td>female</td>\n",
       "      <td>0.500000</td>\n",
       "    </tr>\n",
       "    <tr>\n",
       "      <th>1</th>\n",
       "      <td>1</td>\n",
       "      <td>male</td>\n",
       "      <td>0.368852</td>\n",
       "    </tr>\n",
       "    <tr>\n",
       "      <th>3</th>\n",
       "      <td>2</td>\n",
       "      <td>male</td>\n",
       "      <td>0.157407</td>\n",
       "    </tr>\n",
       "    <tr>\n",
       "      <th>5</th>\n",
       "      <td>3</td>\n",
       "      <td>male</td>\n",
       "      <td>0.135447</td>\n",
       "    </tr>\n",
       "  </tbody>\n",
       "</table>\n",
       "</div>"
      ],
      "text/plain": [
       "   Pclass     Sex  Survived\n",
       "0       1  female  0.968085\n",
       "2       2  female  0.921053\n",
       "4       3  female  0.500000\n",
       "1       1    male  0.368852\n",
       "3       2    male  0.157407\n",
       "5       3    male  0.135447"
      ]
     },
     "execution_count": 39,
     "metadata": {},
     "output_type": "execute_result"
    }
   ],
   "source": [
    "data[['Pclass', 'Sex', 'Survived']].groupby(['Pclass', 'Sex'], as_index=False).mean().sort_values(by='Survived', ascending=False)"
   ]
  },
  {
   "cell_type": "markdown",
   "metadata": {},
   "source": [
    "#### 資料的相關及變異 11"
   ]
  },
  {
   "cell_type": "code",
   "execution_count": 48,
   "metadata": {},
   "outputs": [
    {
     "data": {
      "image/png": "[encoded data removed]",
      "text/plain": [
       "<Figure size 432x288 with 1 Axes>"
      ]
     },
     "metadata": {
      "needs_background": "dark"
     },
     "output_type": "display_data"
    }
   ],
   "source": [
    "# count() is used to count the number of non-NA/null observations across the given axis. It works with non-floating type data as well.\n",
    "# value_counts() function returns Series containing counts of unique values.\n",
    "\n",
    "total_female_p1 = data[(data['Pclass'] == 1) & (data['Sex'] == 'female')]['Survived'].count()\n",
    "female_p1 = data[(data['Pclass'] == 1) & (data['Sex'] == 'female')]['Survived'].value_counts() / total_female_p1\n",
    "# print(total_female_p1)\n",
    "# print(female_p1)\n",
    "# # pd.set_option('display.max_rows', None)\n",
    "# x = data[(data['Pclass'] == 1) & (data['Sex'] == 'female')]['Survived']\n",
    "# print(x.shape)\n",
    "# print(female_p1[[0,1]])\n",
    "\n",
    "total_female_p2 = data[(data['Pclass'] == 2) & (data['Sex'] == 'female')]['Survived'].count()\n",
    "female_p2 = data[(data['Pclass'] == 2) & (data['Sex'] == 'female')]['Survived'].value_counts() / total_female_p2\n",
    "\n",
    "total_female_p3 = data[(data['Pclass'] == 3) & (data['Sex'] == 'female')]['Survived'].count()\n",
    "female_p3 = data[(data['Pclass'] == 3) & (data['Sex'] == 'female')]['Survived'].value_counts() / total_female_p3\n",
    "\n",
    "df = pd.DataFrame([female_p1[[0,1]], female_p2[[0,1]], female_p3[[0,1]]])\n",
    "df.index = ['Female in P1', 'Female in P2', 'Female in P3']\n",
    "\n",
    "ax = plt.gca()\n",
    "df.plot(ax=ax, kind='bar', stacked=False, color = ['r', 'g'])\n",
    "ax.tick_params(axis = 'both', colors = 'white')\n",
    "ax.grid()\n"
   ]
  },
  {
   "cell_type": "markdown",
   "metadata": {},
   "source": [
    "#### 資料的相關及變異 12"
   ]
  },
  {
   "cell_type": "code",
   "execution_count": 49,
   "metadata": {},
   "outputs": [
    {
     "data": {
      "image/png": "[encoded data removed]",
      "text/plain": [
       "<Figure size 432x288 with 1 Axes>"
      ]
     },
     "metadata": {
      "needs_background": "dark"
     },
     "output_type": "display_data"
    }
   ],
   "source": [
    "# count() is used to count the number of non-NA/null observations across the given axis. It works with non-floating type data as well.\n",
    "# value_counts() function returns Series containing counts of unique values.\n",
    "\n",
    "total_male_p1 = data[(data['Pclass'] == 1) & (data['Sex'] == 'male')]['Survived'].count()\n",
    "male_p1 = data[(data['Pclass'] == 1) & (data['Sex'] == 'male')]['Survived'].value_counts() / total_male_p1\n",
    "\n",
    "total_male_p2 = data[(data['Pclass'] == 2) & (data['Sex'] == 'male')]['Survived'].count()\n",
    "male_p2 = data[(data['Pclass'] == 2) & (data['Sex'] == 'male')]['Survived'].value_counts() / total_male_p2\n",
    "\n",
    "total_male_p3 = data[(data['Pclass'] == 3) & (data['Sex'] == 'male')]['Survived'].count()\n",
    "male_p3 = data[(data['Pclass'] == 3) & (data['Sex'] == 'male')]['Survived'].value_counts() / total_male_p3\n",
    "\n",
    "df = pd.DataFrame([male_p1[[0,1]], male_p2[[0,1]], male_p3[[0,1]]])\n",
    "df.index = ['Male in P1', 'Male in P2', 'Male in P3']\n",
    "\n",
    "ax = plt.gca()\n",
    "df.plot(ax=ax, kind='bar', stacked=False, color = ['r', 'g'])\n",
    "ax.tick_params(axis = 'both', colors = 'white')\n",
    "ax.grid()"
   ]
  },
  {
   "cell_type": "markdown",
   "metadata": {},
   "source": [
    "#### 資料的相關及變異 13"
   ]
  },
  {
   "cell_type": "code",
   "execution_count": 50,
   "metadata": {},
   "outputs": [
    {
     "data": {
      "image/png": "[encoded data removed]",
      "text/plain": [
       "<Figure size 432x288 with 1 Axes>"
      ]
     },
     "metadata": {
      "needs_background": "dark"
     },
     "output_type": "display_data"
    }
   ],
   "source": [
    "plt.hist([data[data['Survived'] == 1]['Age'], data[data['Survived'] == 0]['Age']], stacked=True, color=['g', 'r'], bins=30, label=['Survived', 'Dead'])\n",
    "plt.xlabel('Age', color='white')\n",
    "plt.ylabel('Number of passengers', color='white')\n",
    "plt.title('Age distribution of passengers', color='white')\n",
    "plt.legend(loc='best', frameon=True)\n",
    "plt.tick_params(axis='both', colors='white')\n",
    "plt.grid()\n",
    "plt.show()\n"
   ]
  },
  {
   "cell_type": "markdown",
   "metadata": {},
   "source": [
    "#### 資料的相關及變異 14"
   ]
  },
  {
   "cell_type": "code",
   "execution_count": 51,
   "metadata": {},
   "outputs": [
    {
     "data": {
      "image/png": "[encoded data removed]",
      "text/plain": [
       "<Figure size 432x288 with 1 Axes>"
      ]
     },
     "metadata": {
      "needs_background": "dark"
     },
     "output_type": "display_data"
    }
   ],
   "source": [
    "plt.hist([data[data['Survived'] == 1]['Fare'], data[data['Survived'] == 0]['Fare']], stacked=True, color=['g', 'r'], bins=30, label=['Survived', 'Dead'])\n",
    "plt.xlabel('Fare', color='white')\n",
    "plt.ylabel('Number of passengers', color='white')\n",
    "plt.title('Fare distribution of passengers', color='white')\n",
    "plt.legend(loc='best', frameon=True)\n",
    "plt.tick_params(axis='both', colors='white')\n",
    "plt.grid()\n",
    "plt.show()\n"
   ]
  },
  {
   "cell_type": "markdown",
   "metadata": {},
   "source": [
    "#### 資料的相關及變異 15"
   ]
  },
  {
   "cell_type": "code",
   "execution_count": 58,
   "metadata": {},
   "outputs": [
    {
     "data": {
      "image/png": "[encoded data removed]",
      "text/plain": [
       "<Figure size 432x288 with 1 Axes>"
      ]
     },
     "metadata": {
      "needs_background": "dark"
     },
     "output_type": "display_data"
    }
   ],
   "source": [
    "ax = plt.subplot()\n",
    "ax.scatter(data[data['Survived']==1]['Age'], data[data['Survived']==1]['Fare'], color='green', s=40)\n",
    "ax.scatter(data[data['Survived']==0]['Age'], data[data['Survived']==0]['Fare'], color='red', s=40)\n",
    "# ax.scatter(data[(data['Sex'] == 'female') & (data['Survived']==1)]['Age'], data[(data['Sex']=='female') & (data['Survived']==1)]['Fare'], color='red', s=40)\n",
    "# ax.scatter(data[(data['Sex'] == 'male') & (data['Survived']==1)]['Age'], data[(data['Sex']=='male') & (data['Survived']==1)]['Fare'], color='blue', s=40)\n",
    "ax.set_xlabel('Age', color='white')\n",
    "ax.set_ylabel('Fare', color='white')\n",
    "ax.tick_params(axis='both', colors='white')\n",
    "ax.legend(('Survived', 'Dead'), scatterpoints=1, loc='upper right', ncol=1)\n",
    "ax.grid()\n",
    "plt.show()"
   ]
  },
  {
   "cell_type": "markdown",
   "metadata": {},
   "source": [
    "#### 資料的相關及變異 16"
   ]
  },
  {
   "cell_type": "code",
   "execution_count": 56,
   "metadata": {},
   "outputs": [
    {
     "data": {
      "text/html": [
       "<div>\n",
       "<style scoped>\n",
       "    .dataframe tbody tr th:only-of-type {\n",
       "        vertical-align: middle;\n",
       "    }\n",
       "\n",
       "    .dataframe tbody tr th {\n",
       "        vertical-align: top;\n",
       "    }\n",
       "\n",
       "    .dataframe thead th {\n",
       "        text-align: right;\n",
       "    }\n",
       "</style>\n",
       "<table border=\"1\" class=\"dataframe\">\n",
       "  <thead>\n",
       "    <tr style=\"text-align: right;\">\n",
       "      <th></th>\n",
       "      <th>Family</th>\n",
       "      <th>Survived</th>\n",
       "    </tr>\n",
       "  </thead>\n",
       "  <tbody>\n",
       "    <tr>\n",
       "      <th>3</th>\n",
       "      <td>3</td>\n",
       "      <td>0.724138</td>\n",
       "    </tr>\n",
       "    <tr>\n",
       "      <th>2</th>\n",
       "      <td>2</td>\n",
       "      <td>0.578431</td>\n",
       "    </tr>\n",
       "    <tr>\n",
       "      <th>1</th>\n",
       "      <td>1</td>\n",
       "      <td>0.552795</td>\n",
       "    </tr>\n",
       "    <tr>\n",
       "      <th>6</th>\n",
       "      <td>6</td>\n",
       "      <td>0.333333</td>\n",
       "    </tr>\n",
       "    <tr>\n",
       "      <th>0</th>\n",
       "      <td>0</td>\n",
       "      <td>0.303538</td>\n",
       "    </tr>\n",
       "    <tr>\n",
       "      <th>4</th>\n",
       "      <td>4</td>\n",
       "      <td>0.200000</td>\n",
       "    </tr>\n",
       "    <tr>\n",
       "      <th>5</th>\n",
       "      <td>5</td>\n",
       "      <td>0.136364</td>\n",
       "    </tr>\n",
       "    <tr>\n",
       "      <th>7</th>\n",
       "      <td>7</td>\n",
       "      <td>0.000000</td>\n",
       "    </tr>\n",
       "    <tr>\n",
       "      <th>8</th>\n",
       "      <td>10</td>\n",
       "      <td>0.000000</td>\n",
       "    </tr>\n",
       "  </tbody>\n",
       "</table>\n",
       "</div>"
      ],
      "text/plain": [
       "   Family  Survived\n",
       "3       3  0.724138\n",
       "2       2  0.578431\n",
       "1       1  0.552795\n",
       "6       6  0.333333\n",
       "0       0  0.303538\n",
       "4       4  0.200000\n",
       "5       5  0.136364\n",
       "7       7  0.000000\n",
       "8      10  0.000000"
      ]
     },
     "execution_count": 56,
     "metadata": {},
     "output_type": "execute_result"
    }
   ],
   "source": [
    "data['Family'] = data['SibSp'] + data['Parch']\n",
    "data[['Family', 'Survived']].groupby(['Family'], as_index=False).mean().sort_values(by='Survived', ascending=False)\n"
   ]
  },
  {
   "cell_type": "markdown",
   "metadata": {},
   "source": [
    "#### 資料的相關及變異 17"
   ]
  },
  {
   "cell_type": "code",
   "execution_count": 59,
   "metadata": {},
   "outputs": [
    {
     "data": {
      "image/png": "[encoded data removed]",
      "text/plain": [
       "<Figure size 432x288 with 1 Axes>"
      ]
     },
     "metadata": {
      "needs_background": "dark"
     },
     "output_type": "display_data"
    }
   ],
   "source": [
    "ax = plt.subplot()\n",
    "ax.scatter(data[data['Survived']==1]['Age'], data[data['Survived']==1]['Family'], color='green', s=40)\n",
    "ax.scatter(data[data['Survived']==0]['Age'], data[data['Survived']==0]['Family'], color='red', s=40)\n",
    "ax.set_xlabel('Age', color='white')\n",
    "ax.set_ylabel('Family', color='white')\n",
    "ax.tick_params(axis='both', colors='white')\n",
    "ax.legend(('Survived', 'Dead'), scatterpoints=1, loc='upper right', ncol=1)\n",
    "ax.grid()\n",
    "plt.show()"
   ]
  },
  {
   "cell_type": "markdown",
   "metadata": {},
   "source": [
    "#### 資料的相關及變異 18"
   ]
  },
  {
   "cell_type": "code",
   "execution_count": 60,
   "metadata": {},
   "outputs": [
    {
     "data": {
      "text/html": [
       "<div>\n",
       "<style scoped>\n",
       "    .dataframe tbody tr th:only-of-type {\n",
       "        vertical-align: middle;\n",
       "    }\n",
       "\n",
       "    .dataframe tbody tr th {\n",
       "        vertical-align: top;\n",
       "    }\n",
       "\n",
       "    .dataframe thead th {\n",
       "        text-align: right;\n",
       "    }\n",
       "</style>\n",
       "<table border=\"1\" class=\"dataframe\">\n",
       "  <thead>\n",
       "    <tr style=\"text-align: right;\">\n",
       "      <th></th>\n",
       "      <th>Embarked</th>\n",
       "      <th>Survived</th>\n",
       "    </tr>\n",
       "  </thead>\n",
       "  <tbody>\n",
       "    <tr>\n",
       "      <th>0</th>\n",
       "      <td>C</td>\n",
       "      <td>0.553571</td>\n",
       "    </tr>\n",
       "    <tr>\n",
       "      <th>1</th>\n",
       "      <td>Q</td>\n",
       "      <td>0.389610</td>\n",
       "    </tr>\n",
       "    <tr>\n",
       "      <th>2</th>\n",
       "      <td>S</td>\n",
       "      <td>0.336957</td>\n",
       "    </tr>\n",
       "  </tbody>\n",
       "</table>\n",
       "</div>"
      ],
      "text/plain": [
       "  Embarked  Survived\n",
       "0        C  0.553571\n",
       "1        Q  0.389610\n",
       "2        S  0.336957"
      ]
     },
     "execution_count": 60,
     "metadata": {},
     "output_type": "execute_result"
    }
   ],
   "source": [
    "data[['Embarked', 'Survived']].groupby(['Embarked'], as_index=False).mean().sort_values(by='Survived', ascending=False)"
   ]
  },
  {
   "cell_type": "code",
   "execution_count": 64,
   "metadata": {},
   "outputs": [
    {
     "name": "stdout",
     "output_type": "stream",
     "text": [
      "0    0.663043\n",
      "1    0.336957\n",
      "Name: Survived, dtype: float64\n"
     ]
    },
    {
     "data": {
      "image/png": "[encoded data removed]",
      "text/plain": [
       "<Figure size 432x288 with 1 Axes>"
      ]
     },
     "metadata": {
      "needs_background": "dark"
     },
     "output_type": "display_data"
    }
   ],
   "source": [
    "total_Embarked_S = data[data['Embarked'] == 'S']['Survived'].count()\n",
    "total_Embarked_C = data[data['Embarked'] == 'C']['Survived'].count()\n",
    "total_Embarked_Q = data[data['Embarked'] == 'Q']['Survived'].count()\n",
    "Embarked_S = data[data['Embarked'] == 'S']['Survived'].value_counts() / total_Embarked_S\n",
    "Embarked_C = data[data['Embarked'] == 'C']['Survived'].value_counts() / total_Embarked_C\n",
    "Embarked_Q = data[data['Embarked'] == 'Q']['Survived'].value_counts() / total_Embarked_Q\n",
    "\n",
    "print(Embarked_S)\n",
    "\n",
    "df = pd.DataFrame([Embarked_S, Embarked_C, Embarked_Q])\n",
    "df.index = ['S', 'C', 'Q']\n",
    "ax = plt.gca()\n",
    "df.plot(ax=ax, kind='bar', stacked=False, color = ['r', 'g'])\n",
    "ax.tick_params(axis = 'both', colors = 'white')\n",
    "ax.grid()\n"
   ]
  },
  {
   "cell_type": "markdown",
   "metadata": {},
   "source": [
    "#### 資料的相關及變異 19"
   ]
  },
  {
   "cell_type": "code",
   "execution_count": 65,
   "metadata": {},
   "outputs": [
    {
     "data": {
      "image/png": "[encoded data removed]",
      "text/plain": [
       "<Figure size 432x288 with 1 Axes>"
      ]
     },
     "metadata": {
      "needs_background": "dark"
     },
     "output_type": "display_data"
    }
   ],
   "source": [
    "total_Pclass_S = data[data['Embarked'] == 'S']['Pclass'].count()\n",
    "total_Pclass_C = data[data['Embarked'] == 'C']['Pclass'].count()\n",
    "total_Pclass_Q = data[data['Embarked'] == 'Q']['Pclass'].count()\n",
    "Pclass_S = data[data['Embarked'] == 'S']['Pclass'].value_counts() / total_Pclass_S\n",
    "Pclass_C = data[data['Embarked'] == 'C']['Pclass'].value_counts() / total_Pclass_C\n",
    "Pclass_Q = data[data['Embarked'] == 'Q']['Pclass'].value_counts() / total_Pclass_Q\n",
    "\n",
    "df = pd.DataFrame([Pclass_S, Pclass_C, Pclass_Q])\n",
    "df.index = ['S', 'C', 'Q']\n",
    "ax = plt.gca()\n",
    "df.plot(ax=ax, kind='bar', stacked=False)\n",
    "ax.tick_params(axis = 'both', colors = 'white')\n",
    "ax.grid()\n"
   ]
  },
  {
   "cell_type": "markdown",
   "metadata": {},
   "source": [
    "#### 資料的相關及變異 20"
   ]
  },
  {
   "cell_type": "code",
   "execution_count": 72,
   "metadata": {},
   "outputs": [
    {
     "name": "stdout",
     "output_type": "stream",
     "text": [
      "   PassengerId  Survived  Pclass  \\\n",
      "0            1         0       3   \n",
      "1            2         1       1   \n",
      "2            3         1       3   \n",
      "3            4         1       1   \n",
      "4            5         0       3   \n",
      "\n",
      "                                                Name     Sex   Age  SibSp  \\\n",
      "0                            Braund, Mr. Owen Harris    male  22.0      1   \n",
      "1  Cumings, Mrs. John Bradley (Florence Briggs Th...  female  38.0      1   \n",
      "2                             Heikkinen, Miss. Laina  female  26.0      0   \n",
      "3       Futrelle, Mrs. Jacques Heath (Lily May Peel)  female  35.0      1   \n",
      "4                           Allen, Mr. William Henry    male  35.0      0   \n",
      "\n",
      "   Parch            Ticket     Fare Cabin Embarked  \n",
      "0      0         A/5 21171   7.2500     -        S  \n",
      "1      0          PC 17599  71.2833     C        C  \n",
      "2      0  STON/O2. 3101282   7.9250     -        S  \n",
      "3      0            113803  53.1000     C        S  \n",
      "4      0            373450   8.0500     -        S  \n"
     ]
    }
   ],
   "source": [
    "# print(data['Cabin'].fillna('-'))\n",
    "data['Cabin'].fillna('-', inplace=True)\n",
    "\n",
    "cabin_list = ['C', 'E', 'G', 'D', 'A', 'B', 'F']\n",
    "for cabin in cabin_list:\n",
    "    mask = data['Cabin'].str.contains(cabin)\n",
    "    data.loc[mask, 'Cabin'] = cabin\n",
    "\n",
    "print(data.head())\n"
   ]
  },
  {
   "cell_type": "markdown",
   "metadata": {},
   "source": [
    "#### 資料的相關及變異 21"
   ]
  },
  {
   "cell_type": "code",
   "execution_count": 73,
   "metadata": {},
   "outputs": [
    {
     "name": "stdout",
     "output_type": "stream",
     "text": [
      "C    59\n",
      "B    47\n",
      "-    40\n",
      "D    29\n",
      "E    25\n",
      "A    15\n",
      "T     1\n",
      "Name: Cabin, dtype: int64\n",
      "-    168\n",
      "F      8\n",
      "D      4\n",
      "E      4\n",
      "Name: Cabin, dtype: int64\n",
      "-    479\n",
      "G      7\n",
      "E      4\n",
      "F      1\n",
      "Name: Cabin, dtype: int64\n"
     ]
    }
   ],
   "source": [
    "total_Cabin_p1 = data[data['Pclass'] == 1]['Cabin'].value_counts()\n",
    "total_Cabin_p2 = data[data['Pclass'] == 2]['Cabin'].value_counts()\n",
    "total_Cabin_p3 = data[data['Pclass'] == 3]['Cabin'].value_counts()\n",
    "\n",
    "print(total_Cabin_p1)\n",
    "print(total_Cabin_p2)\n",
    "print(total_Cabin_p3)"
   ]
  },
  {
   "cell_type": "markdown",
   "metadata": {},
   "source": [
    "#### 資料的相關及變異 22"
   ]
  },
  {
   "cell_type": "code",
   "execution_count": 74,
   "metadata": {},
   "outputs": [
    {
     "name": "stdout",
     "output_type": "stream",
     "text": [
      "-    206\n",
      "C     35\n",
      "B     35\n",
      "D     25\n",
      "E     25\n",
      "A      7\n",
      "F      7\n",
      "G      2\n",
      "Name: Cabin, dtype: int64\n",
      "-    481\n",
      "C     24\n",
      "B     12\n",
      "E      8\n",
      "A      8\n",
      "D      8\n",
      "G      5\n",
      "F      2\n",
      "T      1\n",
      "Name: Cabin, dtype: int64\n"
     ]
    }
   ],
   "source": [
    "total_cabin_survived = data[data['Survived'] == 1]['Cabin'].value_counts()\n",
    "total_cabin_dead = data[data['Survived'] == 0]['Cabin'].value_counts()\n",
    "print(total_cabin_survived)\n",
    "print(total_cabin_dead)"
   ]
  }
 ],
 "metadata": {
  "kernelspec": {
   "display_name": "Python 3.9.7 ('base')",
   "language": "python",
   "name": "python3"
  },
  "language_info": {
   "codemirror_mode": {
    "name": "ipython",
    "version": 3
   },
   "file_extension": ".py",
   "mimetype": "text/x-python",
   "name": "python",
   "nbconvert_exporter": "python",
   "pygments_lexer": "ipython3",
   "version": "3.9.7"
  },
  "orig_nbformat": 4,
  "vscode": {
   "interpreter": {
    "hash": "ad2bdc8ecc057115af97d19610ffacc2b4e99fae6737bb82f5d7fb13d2f2c186"
   }
  }
 },
 "nbformat": 4,
 "nbformat_minor": 2
}
